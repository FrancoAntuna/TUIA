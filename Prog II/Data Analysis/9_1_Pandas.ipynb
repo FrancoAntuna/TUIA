{
  "cells": [
    {
      "cell_type": "markdown",
      "metadata": {
        "id": "D4kt_OpYzVIW"
      },
      "source": [
        "### Análisis de Datos con Pandas\n",
        "En programación 1, aprendimos a abrir archivos csv usando el paquete `csv`.\n",
        "\n",
        "Hagamos un repaso 😀"
      ]
    },
    {
      "cell_type": "markdown",
      "metadata": {
        "id": "bp9NYQp12Fgf"
      },
      "source": [
        "### Paquete CSV"
      ]
    },
    {
      "cell_type": "markdown",
      "metadata": {
        "id": "luKD-j4j1GSs"
      },
      "source": [
        "Comencemos leyendo el archivo con csv. Como podrán recordar, extraer información puede ser un poco tedioso ya que para poder obtener todos los valores en una columna, tenemos que recorrer todas las filas del archivo csv.\n",
        "\n",
        "En este caso vamos a recolectar los precios y los precios clasificados por barrios"
      ]
    },
    {
      "cell_type": "code",
      "execution_count": 2,
      "metadata": {
        "id": "ATdicwHBzdN3"
      },
      "outputs": [],
      "source": [
        "import csv\n",
        "lista_precios = []\n",
        "precio_por_barrio = {}\n",
        "\n",
        "with open('listings.csv') as File:\n",
        "    next(File)\n",
        "    reader = csv.reader(File, delimiter=',')\n",
        "    for fila in reader:\n",
        "        precio = float(fila[9].replace('$', '').replace(',',''))\n",
        "        lista_precios.append(precio)\n",
        "        #por barrio\n",
        "        barrio = fila[5] # neighbourhood\n",
        "        if barrio in precio_por_barrio:\n",
        "            precio_por_barrio[barrio].append(precio)\n",
        "        else:\n",
        "            precio_por_barrio[barrio] = [precio]"
      ]
    },
    {
      "cell_type": "markdown",
      "metadata": {
        "id": "sxh0Mcvu0SC2"
      },
      "source": [
        "**En** el código de arriba generamos una lista con todos los precios que aparecen en el archivo listing.csv y un diccionario donde las claves son los barrios y los valores son todos los precios de ese barrio. A continuación hacemos una breve exploración de esos datos"
      ]
    },
    {
      "cell_type": "code",
      "execution_count": 3,
      "metadata": {
        "colab": {
          "base_uri": "https://localhost:8080/",
          "height": 519
        },
        "id": "4362XYn00sWJ",
        "outputId": "839f3df4-7fc1-4283-be6b-427ae3afd3fe"
      },
      "outputs": [
        {
          "data": {
            "text/plain": [
              "(array([4.733e+03, 1.241e+03, 1.360e+02, 4.000e+01, 1.700e+01, 1.000e+00,\n",
              "        1.000e+00, 1.000e+00, 1.000e+00, 2.000e+00]),\n",
              " array([   0.,  250.,  500.,  750., 1000., 1250., 1500., 1750., 2000.,\n",
              "        2250., 2500.]),\n",
              " <BarContainer object of 10 artists>)"
            ]
          },
          "execution_count": 3,
          "metadata": {},
          "output_type": "execute_result"
        },
        {
          "data": {
            "image/png": "[encoded data removed]",
            "text/plain": [
              "<Figure size 640x480 with 1 Axes>"
            ]
          },
          "metadata": {},
          "output_type": "display_data"
        }
      ],
      "source": [
        "import matplotlib.pyplot as plt\n",
        "plt.hist(lista_precios)"
      ]
    },
    {
      "cell_type": "code",
      "execution_count": 4,
      "metadata": {
        "colab": {
          "base_uri": "https://localhost:8080/"
        },
        "id": "bkF4Ia1F5G4_",
        "outputId": "9c42ac17-c285-4c61-d9c8-f23ce8513fb6"
      },
      "outputs": [
        {
          "data": {
            "text/plain": [
              "198.01960149036125"
            ]
          },
          "execution_count": 4,
          "metadata": {},
          "output_type": "execute_result"
        }
      ],
      "source": [
        "sum(lista_precios)/len(lista_precios)"
      ]
    },
    {
      "cell_type": "code",
      "execution_count": 5,
      "metadata": {
        "colab": {
          "base_uri": "https://localhost:8080/"
        },
        "id": "k9Pw_-3S078b",
        "outputId": "e0a6ff9d-0cbf-450e-f285-b6efd63cdd46"
      },
      "outputs": [
        {
          "data": {
            "text/plain": [
              "dict_keys(['IJburg - Zeeburgereiland', 'Noord-Oost', 'Noord-West', 'Gaasperdam - Driemond', 'Watergraafsmeer', 'Bijlmer-Centrum', 'Geuzenveld - Slotermeer', 'Westerpark', 'Buitenveldert - Zuidas', 'Oostelijk Havengebied - Indische Buurt', 'Centrum-Oost', 'Centrum-West', 'Zuid', 'Oud-Oost', 'De Pijp - Rivierenbuurt', 'Slotervaart', 'De Baarsjes - Oud-West', 'Bos en Lommer', 'Oud-Noord', 'De Aker - Nieuw Sloten', 'Osdorp', 'Bijlmer-Oost'])"
            ]
          },
          "execution_count": 5,
          "metadata": {},
          "output_type": "execute_result"
        }
      ],
      "source": [
        "precio_por_barrio.keys()"
      ]
    },
    {
      "cell_type": "code",
      "execution_count": 6,
      "metadata": {
        "colab": {
          "base_uri": "https://localhost:8080/"
        },
        "id": "aIwXcFO90p-Y",
        "outputId": "9c4b6b41-d3c8-45ee-9010-4c8d645d46b9"
      },
      "outputs": [
        {
          "data": {
            "text/plain": [
              "142.5731707317073"
            ]
          },
          "execution_count": 6,
          "metadata": {},
          "output_type": "execute_result"
        }
      ],
      "source": [
        "# Calculamos el precio promedio en el barrio Bijlmer-Centrum\n",
        "sum(precio_por_barrio['Bijlmer-Centrum'])/len(precio_por_barrio['Bijlmer-Centrum'])"
      ]
    },
    {
      "cell_type": "markdown",
      "metadata": {
        "id": "TROKg3sR2OPH"
      },
      "source": [
        "### Paquete Pandas 💗🐼💗🐼💗🐼💗🐼💗\n",
        "\n",
        "El paquete pandas es muy utilizado en el análisis de datos para leer y manipular archivos de diferentes tipos, en particular el csv.\n",
        "\n",
        "* Uno de los beneficios más importantes de usar pandas es que nos permite acceder a los datos como si estos fueran una tabla, es decir, puedo acceder a las filas o columnas sin importar cuál es el archivo base.\n",
        "\n",
        "* Además, nos permite tener los datos asociados a su índice, algo que por ahora no tiene mucho sentido pero lo tendrá más adelante\n",
        "\n",
        "* Y los datos se ven muy lindos 💣"
      ]
    },
    {
      "cell_type": "markdown",
      "metadata": {
        "id": "EYebXchk6Co_"
      },
      "source": [
        "Según sus creadores pandas es:\n",
        "\n",
        "> pandas is an open source, BSD-licensed library providing high-performance, easy-to-use data structures and data analysis tools for the Python programming language.\n",
        "\n",
        "La documentación de pandas la encuentran acá https://pandas.pydata.org/docs/"
      ]
    },
    {
      "cell_type": "code",
      "execution_count": 7,
      "metadata": {
        "id": "FoP85wFv1IwQ"
      },
      "outputs": [],
      "source": [
        "import pandas as pd #casi todo el mundo importa pandas así"
      ]
    },
    {
      "cell_type": "code",
      "execution_count": 8,
      "metadata": {
        "id": "WvSGcFRv4cPB"
      },
      "outputs": [],
      "source": [
        "data = pd.read_csv('listings.csv')"
      ]
    },
    {
      "cell_type": "markdown",
      "metadata": {
        "id": "yTPVLrcN1JzP"
      },
      "source": [
        "Podemos ver los primeros $n$ registros del archivo utilizando el método `head`"
      ]
    },
    {
      "cell_type": "code",
      "execution_count": 9,
      "metadata": {
        "colab": {
          "base_uri": "https://localhost:8080/",
          "height": 271
        },
        "id": "GkoCr9F44fHj",
        "outputId": "605a3953-6fff-4ee0-ba67-3936d4963244"
      },
      "outputs": [
        {
          "data": {
            "text/html": [
              "<div>\n",
              "<style scoped>\n",
              "    .dataframe tbody tr th:only-of-type {\n",
              "        vertical-align: middle;\n",
              "    }\n",
              "\n",
              "    .dataframe tbody tr th {\n",
              "        vertical-align: top;\n",
              "    }\n",
              "\n",
              "    .dataframe thead th {\n",
              "        text-align: right;\n",
              "    }\n",
              "</style>\n",
              "<table border=\"1\" class=\"dataframe\">\n",
              "  <thead>\n",
              "    <tr style=\"text-align: right;\">\n",
              "      <th></th>\n",
              "      <th>id</th>\n",
              "      <th>name</th>\n",
              "      <th>host_id</th>\n",
              "      <th>host_name</th>\n",
              "      <th>neighbourhood_group</th>\n",
              "      <th>neighbourhood</th>\n",
              "      <th>latitude</th>\n",
              "      <th>longitude</th>\n",
              "      <th>room_type</th>\n",
              "      <th>price</th>\n",
              "      <th>minimum_nights</th>\n",
              "      <th>number_of_reviews</th>\n",
              "      <th>last_review</th>\n",
              "      <th>reviews_per_month</th>\n",
              "      <th>calculated_host_listings_count</th>\n",
              "      <th>availability_365</th>\n",
              "      <th>number_of_reviews_ltm</th>\n",
              "      <th>license</th>\n",
              "    </tr>\n",
              "  </thead>\n",
              "  <tbody>\n",
              "    <tr>\n",
              "      <th>0</th>\n",
              "      <td>23726706</td>\n",
              "      <td>Private room 20 minutes from Amsterdam + Break...</td>\n",
              "      <td>122619127</td>\n",
              "      <td>Patricia</td>\n",
              "      <td>NaN</td>\n",
              "      <td>IJburg - Zeeburgereiland</td>\n",
              "      <td>52.34916</td>\n",
              "      <td>4.97879</td>\n",
              "      <td>Private room</td>\n",
              "      <td>88</td>\n",
              "      <td>2</td>\n",
              "      <td>78</td>\n",
              "      <td>2022-05-29</td>\n",
              "      <td>1.53</td>\n",
              "      <td>1</td>\n",
              "      <td>66</td>\n",
              "      <td>11</td>\n",
              "      <td>038469D9AA6BDF1142CE</td>\n",
              "    </tr>\n",
              "    <tr>\n",
              "      <th>1</th>\n",
              "      <td>35815036</td>\n",
              "      <td>Vrijstaand vakantiehuis, privé tuin aan het water</td>\n",
              "      <td>269425139</td>\n",
              "      <td>Lydia</td>\n",
              "      <td>NaN</td>\n",
              "      <td>Noord-Oost</td>\n",
              "      <td>52.42419</td>\n",
              "      <td>4.95689</td>\n",
              "      <td>Entire home/apt</td>\n",
              "      <td>105</td>\n",
              "      <td>3</td>\n",
              "      <td>95</td>\n",
              "      <td>2022-06-02</td>\n",
              "      <td>2.65</td>\n",
              "      <td>1</td>\n",
              "      <td>243</td>\n",
              "      <td>36</td>\n",
              "      <td>NaN</td>\n",
              "    </tr>\n",
              "  </tbody>\n",
              "</table>\n",
              "</div>"
            ],
            "text/plain": [
              "         id                                               name    host_id  \\\n",
              "0  23726706  Private room 20 minutes from Amsterdam + Break...  122619127   \n",
              "1  35815036  Vrijstaand vakantiehuis, privé tuin aan het water  269425139   \n",
              "\n",
              "  host_name  neighbourhood_group             neighbourhood  latitude  \\\n",
              "0  Patricia                  NaN  IJburg - Zeeburgereiland  52.34916   \n",
              "1     Lydia                  NaN                Noord-Oost  52.42419   \n",
              "\n",
              "   longitude        room_type  price  minimum_nights  number_of_reviews  \\\n",
              "0    4.97879     Private room     88               2                 78   \n",
              "1    4.95689  Entire home/apt    105               3                 95   \n",
              "\n",
              "  last_review  reviews_per_month  calculated_host_listings_count  \\\n",
              "0  2022-05-29               1.53                               1   \n",
              "1  2022-06-02               2.65                               1   \n",
              "\n",
              "   availability_365  number_of_reviews_ltm               license  \n",
              "0                66                     11  038469D9AA6BDF1142CE  \n",
              "1               243                     36                   NaN  "
            ]
          },
          "execution_count": 9,
          "metadata": {},
          "output_type": "execute_result"
        }
      ],
      "source": [
        "data.head(2)"
      ]
    },
    {
      "cell_type": "markdown",
      "metadata": {
        "id": "D7Qku-jo488d"
      },
      "source": [
        "Vamos a ver cómo calculamos el precio promedio de los listings? y por barrio?"
      ]
    },
    {
      "cell_type": "code",
      "execution_count": 10,
      "metadata": {
        "colab": {
          "base_uri": "https://localhost:8080/"
        },
        "id": "UQUR5fyO4iqf",
        "outputId": "f021fd23-1a51-4079-bcf4-78f9b3ed6346"
      },
      "outputs": [
        {
          "data": {
            "text/plain": [
              "198.01960149036125"
            ]
          },
          "execution_count": 10,
          "metadata": {},
          "output_type": "execute_result"
        }
      ],
      "source": [
        "data['price'].mean()"
      ]
    },
    {
      "cell_type": "code",
      "execution_count": 11,
      "metadata": {
        "colab": {
          "base_uri": "https://localhost:8080/"
        },
        "id": "ZhOO_9bk5EFj",
        "outputId": "6ec8a889-4877-4b2a-a0ae-0ed2c9a6492e"
      },
      "outputs": [
        {
          "data": {
            "text/plain": [
              "142.5731707317073"
            ]
          },
          "execution_count": 11,
          "metadata": {},
          "output_type": "execute_result"
        }
      ],
      "source": [
        "data[data['neighbourhood']=='Bijlmer-Centrum']['price'].mean()"
      ]
    },
    {
      "cell_type": "markdown",
      "metadata": {
        "id": "zcXzxEsU7kn6"
      },
      "source": [
        "### Beneficios de utilizar pandas\n",
        "Algunos de los beneficios que vemos a simple vista si usamos pandas comparado con el módulo CSV:\n"
      ]
    },
    {
      "cell_type": "markdown",
      "metadata": {
        "id": "nbGpBlOq6pG6"
      },
      "source": [
        "### 🐼 Conceptos Básicos 🐼\n",
        "\n",
        "- Las estructuras de datos más usadas en pandas son los Dataframes y las Series\n",
        "- Los DataFrames pueden ser pensados como una tabla y las Series como las columnas de la tabla"
      ]
    },
    {
      "cell_type": "code",
      "execution_count": 12,
      "metadata": {
        "colab": {
          "base_uri": "https://localhost:8080/"
        },
        "id": "MGEF-OZp8ZQi",
        "outputId": "b170d4de-375d-439b-e747-93148f43df70"
      },
      "outputs": [
        {
          "data": {
            "text/plain": [
              "pandas.core.frame.DataFrame"
            ]
          },
          "execution_count": 12,
          "metadata": {},
          "output_type": "execute_result"
        }
      ],
      "source": [
        "#Veamos como es el tipo de datos de DataFrame\n",
        "type(data)"
      ]
    },
    {
      "cell_type": "code",
      "execution_count": 13,
      "metadata": {
        "colab": {
          "base_uri": "https://localhost:8080/"
        },
        "id": "Mypj2zN38GKA",
        "outputId": "c2ed8fcf-ef03-47eb-9fb1-4b53fff4f0db"
      },
      "outputs": [
        {
          "data": {
            "text/plain": [
              "pandas.core.series.Series"
            ]
          },
          "execution_count": 13,
          "metadata": {},
          "output_type": "execute_result"
        }
      ],
      "source": [
        "# Veamos como es el tipo de datos de Series\n",
        "type(data['price'])"
      ]
    },
    {
      "cell_type": "markdown",
      "metadata": {
        "id": "L1lZZbGY1rXV"
      },
      "source": [
        "Podemos utilizar el comando `head` tanto para DataFrame como para Series."
      ]
    },
    {
      "cell_type": "code",
      "execution_count": 14,
      "metadata": {
        "colab": {
          "base_uri": "https://localhost:8080/",
          "height": 271
        },
        "id": "MhC82Kg_1nDV",
        "outputId": "851c49a6-745f-4f3c-add1-08801ed838df"
      },
      "outputs": [
        {
          "data": {
            "text/html": [
              "<div>\n",
              "<style scoped>\n",
              "    .dataframe tbody tr th:only-of-type {\n",
              "        vertical-align: middle;\n",
              "    }\n",
              "\n",
              "    .dataframe tbody tr th {\n",
              "        vertical-align: top;\n",
              "    }\n",
              "\n",
              "    .dataframe thead th {\n",
              "        text-align: right;\n",
              "    }\n",
              "</style>\n",
              "<table border=\"1\" class=\"dataframe\">\n",
              "  <thead>\n",
              "    <tr style=\"text-align: right;\">\n",
              "      <th></th>\n",
              "      <th>id</th>\n",
              "      <th>name</th>\n",
              "      <th>host_id</th>\n",
              "      <th>host_name</th>\n",
              "      <th>neighbourhood_group</th>\n",
              "      <th>neighbourhood</th>\n",
              "      <th>latitude</th>\n",
              "      <th>longitude</th>\n",
              "      <th>room_type</th>\n",
              "      <th>price</th>\n",
              "      <th>minimum_nights</th>\n",
              "      <th>number_of_reviews</th>\n",
              "      <th>last_review</th>\n",
              "      <th>reviews_per_month</th>\n",
              "      <th>calculated_host_listings_count</th>\n",
              "      <th>availability_365</th>\n",
              "      <th>number_of_reviews_ltm</th>\n",
              "      <th>license</th>\n",
              "    </tr>\n",
              "  </thead>\n",
              "  <tbody>\n",
              "    <tr>\n",
              "      <th>0</th>\n",
              "      <td>23726706</td>\n",
              "      <td>Private room 20 minutes from Amsterdam + Break...</td>\n",
              "      <td>122619127</td>\n",
              "      <td>Patricia</td>\n",
              "      <td>NaN</td>\n",
              "      <td>IJburg - Zeeburgereiland</td>\n",
              "      <td>52.34916</td>\n",
              "      <td>4.97879</td>\n",
              "      <td>Private room</td>\n",
              "      <td>88</td>\n",
              "      <td>2</td>\n",
              "      <td>78</td>\n",
              "      <td>2022-05-29</td>\n",
              "      <td>1.53</td>\n",
              "      <td>1</td>\n",
              "      <td>66</td>\n",
              "      <td>11</td>\n",
              "      <td>038469D9AA6BDF1142CE</td>\n",
              "    </tr>\n",
              "    <tr>\n",
              "      <th>1</th>\n",
              "      <td>35815036</td>\n",
              "      <td>Vrijstaand vakantiehuis, privé tuin aan het water</td>\n",
              "      <td>269425139</td>\n",
              "      <td>Lydia</td>\n",
              "      <td>NaN</td>\n",
              "      <td>Noord-Oost</td>\n",
              "      <td>52.42419</td>\n",
              "      <td>4.95689</td>\n",
              "      <td>Entire home/apt</td>\n",
              "      <td>105</td>\n",
              "      <td>3</td>\n",
              "      <td>95</td>\n",
              "      <td>2022-06-02</td>\n",
              "      <td>2.65</td>\n",
              "      <td>1</td>\n",
              "      <td>243</td>\n",
              "      <td>36</td>\n",
              "      <td>NaN</td>\n",
              "    </tr>\n",
              "  </tbody>\n",
              "</table>\n",
              "</div>"
            ],
            "text/plain": [
              "         id                                               name    host_id  \\\n",
              "0  23726706  Private room 20 minutes from Amsterdam + Break...  122619127   \n",
              "1  35815036  Vrijstaand vakantiehuis, privé tuin aan het water  269425139   \n",
              "\n",
              "  host_name  neighbourhood_group             neighbourhood  latitude  \\\n",
              "0  Patricia                  NaN  IJburg - Zeeburgereiland  52.34916   \n",
              "1     Lydia                  NaN                Noord-Oost  52.42419   \n",
              "\n",
              "   longitude        room_type  price  minimum_nights  number_of_reviews  \\\n",
              "0    4.97879     Private room     88               2                 78   \n",
              "1    4.95689  Entire home/apt    105               3                 95   \n",
              "\n",
              "  last_review  reviews_per_month  calculated_host_listings_count  \\\n",
              "0  2022-05-29               1.53                               1   \n",
              "1  2022-06-02               2.65                               1   \n",
              "\n",
              "   availability_365  number_of_reviews_ltm               license  \n",
              "0                66                     11  038469D9AA6BDF1142CE  \n",
              "1               243                     36                   NaN  "
            ]
          },
          "execution_count": 14,
          "metadata": {},
          "output_type": "execute_result"
        }
      ],
      "source": [
        "data.head(2)"
      ]
    },
    {
      "cell_type": "code",
      "execution_count": 15,
      "metadata": {
        "colab": {
          "base_uri": "https://localhost:8080/"
        },
        "id": "-h9HUKG41zGV",
        "outputId": "1bf8f399-dd4d-454a-e89f-8e7a979d6166"
      },
      "outputs": [
        {
          "data": {
            "text/plain": [
              "0     88\n",
              "1    105\n",
              "2    152\n",
              "3     87\n",
              "4    160\n",
              "Name: price, dtype: int64"
            ]
          },
          "execution_count": 15,
          "metadata": {},
          "output_type": "execute_result"
        }
      ],
      "source": [
        "data['price'].head(5)"
      ]
    },
    {
      "cell_type": "markdown",
      "metadata": {
        "id": "V8apNMjJ14dL"
      },
      "source": [
        "Además tenemos los siguientes métodos básicos:\n",
        "\n",
        "* `tail` Nos muestra los _ultimos_ $n$ registros del DataFrame o de la Serie."
      ]
    },
    {
      "cell_type": "code",
      "execution_count": 16,
      "metadata": {
        "colab": {
          "base_uri": "https://localhost:8080/",
          "height": 236
        },
        "id": "gq0ClC5Y139D",
        "outputId": "0fdb7cb6-2123-4e3e-8460-a915d506d6cd"
      },
      "outputs": [
        {
          "data": {
            "text/html": [
              "<div>\n",
              "<style scoped>\n",
              "    .dataframe tbody tr th:only-of-type {\n",
              "        vertical-align: middle;\n",
              "    }\n",
              "\n",
              "    .dataframe tbody tr th {\n",
              "        vertical-align: top;\n",
              "    }\n",
              "\n",
              "    .dataframe thead th {\n",
              "        text-align: right;\n",
              "    }\n",
              "</style>\n",
              "<table border=\"1\" class=\"dataframe\">\n",
              "  <thead>\n",
              "    <tr style=\"text-align: right;\">\n",
              "      <th></th>\n",
              "      <th>id</th>\n",
              "      <th>name</th>\n",
              "      <th>host_id</th>\n",
              "      <th>host_name</th>\n",
              "      <th>neighbourhood_group</th>\n",
              "      <th>neighbourhood</th>\n",
              "      <th>latitude</th>\n",
              "      <th>longitude</th>\n",
              "      <th>room_type</th>\n",
              "      <th>price</th>\n",
              "      <th>minimum_nights</th>\n",
              "      <th>number_of_reviews</th>\n",
              "      <th>last_review</th>\n",
              "      <th>reviews_per_month</th>\n",
              "      <th>calculated_host_listings_count</th>\n",
              "      <th>availability_365</th>\n",
              "      <th>number_of_reviews_ltm</th>\n",
              "      <th>license</th>\n",
              "    </tr>\n",
              "  </thead>\n",
              "  <tbody>\n",
              "    <tr>\n",
              "      <th>6171</th>\n",
              "      <td>36900951</td>\n",
              "      <td>House with big sunny garden in Amsterdam/A'veen</td>\n",
              "      <td>35410939</td>\n",
              "      <td>Saskia</td>\n",
              "      <td>NaN</td>\n",
              "      <td>Buitenveldert - Zuidas</td>\n",
              "      <td>52.31983</td>\n",
              "      <td>4.86463</td>\n",
              "      <td>Entire home/apt</td>\n",
              "      <td>174</td>\n",
              "      <td>3</td>\n",
              "      <td>12</td>\n",
              "      <td>2022-05-23</td>\n",
              "      <td>0.35</td>\n",
              "      <td>1</td>\n",
              "      <td>2</td>\n",
              "      <td>7</td>\n",
              "      <td>NaN</td>\n",
              "    </tr>\n",
              "    <tr>\n",
              "      <th>6172</th>\n",
              "      <td>40575103</td>\n",
              "      <td>Privékamer met badkamer, incl. ontbijt en park...</td>\n",
              "      <td>314410560</td>\n",
              "      <td>Quirien</td>\n",
              "      <td>NaN</td>\n",
              "      <td>Watergraafsmeer</td>\n",
              "      <td>52.33946</td>\n",
              "      <td>4.95749</td>\n",
              "      <td>Private room</td>\n",
              "      <td>65</td>\n",
              "      <td>2</td>\n",
              "      <td>29</td>\n",
              "      <td>2022-05-21</td>\n",
              "      <td>0.96</td>\n",
              "      <td>1</td>\n",
              "      <td>0</td>\n",
              "      <td>15</td>\n",
              "      <td>0384 9B34 0EA9 5CC8 DC7F</td>\n",
              "    </tr>\n",
              "  </tbody>\n",
              "</table>\n",
              "</div>"
            ],
            "text/plain": [
              "            id                                               name    host_id  \\\n",
              "6171  36900951    House with big sunny garden in Amsterdam/A'veen   35410939   \n",
              "6172  40575103  Privékamer met badkamer, incl. ontbijt en park...  314410560   \n",
              "\n",
              "     host_name  neighbourhood_group           neighbourhood  latitude  \\\n",
              "6171    Saskia                  NaN  Buitenveldert - Zuidas  52.31983   \n",
              "6172   Quirien                  NaN         Watergraafsmeer  52.33946   \n",
              "\n",
              "      longitude        room_type  price  minimum_nights  number_of_reviews  \\\n",
              "6171    4.86463  Entire home/apt    174               3                 12   \n",
              "6172    4.95749     Private room     65               2                 29   \n",
              "\n",
              "     last_review  reviews_per_month  calculated_host_listings_count  \\\n",
              "6171  2022-05-23               0.35                               1   \n",
              "6172  2022-05-21               0.96                               1   \n",
              "\n",
              "      availability_365  number_of_reviews_ltm                   license  \n",
              "6171                 2                      7                       NaN  \n",
              "6172                 0                     15  0384 9B34 0EA9 5CC8 DC7F  "
            ]
          },
          "execution_count": 16,
          "metadata": {},
          "output_type": "execute_result"
        }
      ],
      "source": [
        "data.tail(2)"
      ]
    },
    {
      "cell_type": "code",
      "execution_count": 17,
      "metadata": {
        "colab": {
          "base_uri": "https://localhost:8080/"
        },
        "id": "sBCYdubE13NP",
        "outputId": "0173c976-3e28-4f52-88b3-ebeae04b1dce"
      },
      "outputs": [
        {
          "data": {
            "text/plain": [
              "6168    142\n",
              "6169     95\n",
              "6170    180\n",
              "6171    174\n",
              "6172     65\n",
              "Name: price, dtype: int64"
            ]
          },
          "execution_count": 17,
          "metadata": {},
          "output_type": "execute_result"
        }
      ],
      "source": [
        "data['price'].tail(5)"
      ]
    },
    {
      "cell_type": "markdown",
      "metadata": {
        "id": "kt6HJt8H2LEU"
      },
      "source": [
        "* `min` y `max` que permiten obtener el valor mínimo y máximo de una serie, respectivamente."
      ]
    },
    {
      "cell_type": "code",
      "execution_count": 18,
      "metadata": {
        "colab": {
          "base_uri": "https://localhost:8080/"
        },
        "id": "wOd0PSfy2Tql",
        "outputId": "ad558a26-79b4-40c1-e973-39a26b664762"
      },
      "outputs": [
        {
          "data": {
            "text/plain": [
              "0"
            ]
          },
          "execution_count": 18,
          "metadata": {},
          "output_type": "execute_result"
        }
      ],
      "source": [
        "data['price'].min()"
      ]
    },
    {
      "cell_type": "code",
      "execution_count": 19,
      "metadata": {
        "colab": {
          "base_uri": "https://localhost:8080/"
        },
        "id": "u5AGTFiO2Wlf",
        "outputId": "3aa162f9-838b-497e-bd23-e98552a02ea6"
      },
      "outputs": [
        {
          "data": {
            "text/plain": [
              "2500"
            ]
          },
          "execution_count": 19,
          "metadata": {},
          "output_type": "execute_result"
        }
      ],
      "source": [
        "data['price'].max()"
      ]
    },
    {
      "cell_type": "markdown",
      "metadata": {
        "id": "uNPIrCFk2WBv"
      },
      "source": [
        "* `describe` que realiza una descripción básica de una Serie.\n",
        "  * La cantidad de datos no nulos que contiene.\n",
        "  * El máximo y el mínimo.\n",
        "  * El promedio de los valores.\n",
        "  * La desviación estándar de los mismos.\n",
        "  * Los _cuartiles_: Son los tres valores que dividen a un conjunto de datos en cuatro partes iguales.\n"
      ]
    },
    {
      "cell_type": "code",
      "execution_count": 20,
      "metadata": {
        "colab": {
          "base_uri": "https://localhost:8080/"
        },
        "id": "rnGcxHBB2gZm",
        "outputId": "41dfb200-9194-425a-ac6e-1c1f73b65e51"
      },
      "outputs": [
        {
          "data": {
            "text/plain": [
              "count    6173.000000\n",
              "mean      198.019601\n",
              "std       140.546979\n",
              "min         0.000000\n",
              "25%       115.000000\n",
              "50%       160.000000\n",
              "75%       240.000000\n",
              "max      2500.000000\n",
              "Name: price, dtype: float64"
            ]
          },
          "execution_count": 20,
          "metadata": {},
          "output_type": "execute_result"
        }
      ],
      "source": [
        "data['price'].describe()"
      ]
    },
    {
      "cell_type": "markdown",
      "metadata": {
        "id": "yfkocYom3K2S"
      },
      "source": [
        "Podemos obtener mas información sobre `describe` y sobre cualquier otro método, utilizando la función integrada en el interprete `help`."
      ]
    },
    {
      "cell_type": "code",
      "execution_count": 21,
      "metadata": {
        "colab": {
          "base_uri": "https://localhost:8080/"
        },
        "id": "CijqCTUk2qfb",
        "outputId": "c7ce4a46-4bf1-4717-c289-841578de813d"
      },
      "outputs": [
        {
          "name": "stdout",
          "output_type": "stream",
          "text": [
            "Help on function describe in module pandas.core.generic:\n",
            "\n",
            "describe(self, percentiles=None, include=None, exclude=None) -> 'Self'\n",
            "    Generate descriptive statistics.\n",
            "    \n",
            "    Descriptive statistics include those that summarize the central\n",
            "    tendency, dispersion and shape of a\n",
            "    dataset's distribution, excluding ``NaN`` values.\n",
            "    \n",
            "    Analyzes both numeric and object series, as well\n",
            "    as ``DataFrame`` column sets of mixed data types. The output\n",
            "    will vary depending on what is provided. Refer to the notes\n",
            "    below for more detail.\n",
            "    \n",
            "    Parameters\n",
            "    ----------\n",
            "    percentiles : list-like of numbers, optional\n",
            "        The percentiles to include in the output. All should\n",
            "        fall between 0 and 1. The default is\n",
            "        ``[.25, .5, .75]``, which returns the 25th, 50th, and\n",
            "        75th percentiles.\n",
            "    include : 'all', list-like of dtypes or None (default), optional\n",
            "        A white list of data types to include in the result. Ignored\n",
            "        for ``Series``. Here are the options:\n",
            "    \n",
            "        - 'all' : All columns of the input will be included in the output.\n",
            "        - A list-like of dtypes : Limits the results to the\n",
            "          provided data types.\n",
            "          To limit the result to numeric types submit\n",
            "          ``numpy.number``. To limit it instead to object columns submit\n",
            "          the ``numpy.object`` data type. Strings\n",
            "          can also be used in the style of\n",
            "          ``select_dtypes`` (e.g. ``df.describe(include=['O'])``). To\n",
            "          select pandas categorical columns, use ``'category'``\n",
            "        - None (default) : The result will include all numeric columns.\n",
            "    exclude : list-like of dtypes or None (default), optional,\n",
            "        A black list of data types to omit from the result. Ignored\n",
            "        for ``Series``. Here are the options:\n",
            "    \n",
            "        - A list-like of dtypes : Excludes the provided data types\n",
            "          from the result. To exclude numeric types submit\n",
            "          ``numpy.number``. To exclude object columns submit the data\n",
            "          type ``numpy.object``. Strings can also be used in the style of\n",
            "          ``select_dtypes`` (e.g. ``df.describe(exclude=['O'])``). To\n",
            "          exclude pandas categorical columns, use ``'category'``\n",
            "        - None (default) : The result will exclude nothing.\n",
            "    \n",
            "    Returns\n",
            "    -------\n",
            "    Series or DataFrame\n",
            "        Summary statistics of the Series or Dataframe provided.\n",
            "    \n",
            "    See Also\n",
            "    --------\n",
            "    DataFrame.count: Count number of non-NA/null observations.\n",
            "    DataFrame.max: Maximum of the values in the object.\n",
            "    DataFrame.min: Minimum of the values in the object.\n",
            "    DataFrame.mean: Mean of the values.\n",
            "    DataFrame.std: Standard deviation of the observations.\n",
            "    DataFrame.select_dtypes: Subset of a DataFrame including/excluding\n",
            "        columns based on their dtype.\n",
            "    \n",
            "    Notes\n",
            "    -----\n",
            "    For numeric data, the result's index will include ``count``,\n",
            "    ``mean``, ``std``, ``min``, ``max`` as well as lower, ``50`` and\n",
            "    upper percentiles. By default the lower percentile is ``25`` and the\n",
            "    upper percentile is ``75``. The ``50`` percentile is the\n",
            "    same as the median.\n",
            "    \n",
            "    For object data (e.g. strings or timestamps), the result's index\n",
            "    will include ``count``, ``unique``, ``top``, and ``freq``. The ``top``\n",
            "    is the most common value. The ``freq`` is the most common value's\n",
            "    frequency. Timestamps also include the ``first`` and ``last`` items.\n",
            "    \n",
            "    If multiple object values have the highest count, then the\n",
            "    ``count`` and ``top`` results will be arbitrarily chosen from\n",
            "    among those with the highest count.\n",
            "    \n",
            "    For mixed data types provided via a ``DataFrame``, the default is to\n",
            "    return only an analysis of numeric columns. If the dataframe consists\n",
            "    only of object and categorical data without any numeric columns, the\n",
            "    default is to return an analysis of both the object and categorical\n",
            "    columns. If ``include='all'`` is provided as an option, the result\n",
            "    will include a union of attributes of each type.\n",
            "    \n",
            "    The `include` and `exclude` parameters can be used to limit\n",
            "    which columns in a ``DataFrame`` are analyzed for the output.\n",
            "    The parameters are ignored when analyzing a ``Series``.\n",
            "    \n",
            "    Examples\n",
            "    --------\n",
            "    Describing a numeric ``Series``.\n",
            "    \n",
            "    >>> s = pd.Series([1, 2, 3])\n",
            "    >>> s.describe()\n",
            "    count    3.0\n",
            "    mean     2.0\n",
            "    std      1.0\n",
            "    min      1.0\n",
            "    25%      1.5\n",
            "    50%      2.0\n",
            "    75%      2.5\n",
            "    max      3.0\n",
            "    dtype: float64\n",
            "    \n",
            "    Describing a categorical ``Series``.\n",
            "    \n",
            "    >>> s = pd.Series(['a', 'a', 'b', 'c'])\n",
            "    >>> s.describe()\n",
            "    count     4\n",
            "    unique    3\n",
            "    top       a\n",
            "    freq      2\n",
            "    dtype: object\n",
            "    \n",
            "    Describing a timestamp ``Series``.\n",
            "    \n",
            "    >>> s = pd.Series([\n",
            "    ...     np.datetime64(\"2000-01-01\"),\n",
            "    ...     np.datetime64(\"2010-01-01\"),\n",
            "    ...     np.datetime64(\"2010-01-01\")\n",
            "    ... ])\n",
            "    >>> s.describe()\n",
            "    count                      3\n",
            "    mean     2006-09-01 08:00:00\n",
            "    min      2000-01-01 00:00:00\n",
            "    25%      2004-12-31 12:00:00\n",
            "    50%      2010-01-01 00:00:00\n",
            "    75%      2010-01-01 00:00:00\n",
            "    max      2010-01-01 00:00:00\n",
            "    dtype: object\n",
            "    \n",
            "    Describing a ``DataFrame``. By default only numeric fields\n",
            "    are returned.\n",
            "    \n",
            "    >>> df = pd.DataFrame({'categorical': pd.Categorical(['d','e','f']),\n",
            "    ...                    'numeric': [1, 2, 3],\n",
            "    ...                    'object': ['a', 'b', 'c']\n",
            "    ...                   })\n",
            "    >>> df.describe()\n",
            "           numeric\n",
            "    count      3.0\n",
            "    mean       2.0\n",
            "    std        1.0\n",
            "    min        1.0\n",
            "    25%        1.5\n",
            "    50%        2.0\n",
            "    75%        2.5\n",
            "    max        3.0\n",
            "    \n",
            "    Describing all columns of a ``DataFrame`` regardless of data type.\n",
            "    \n",
            "    >>> df.describe(include='all')  # doctest: +SKIP\n",
            "           categorical  numeric object\n",
            "    count            3      3.0      3\n",
            "    unique           3      NaN      3\n",
            "    top              f      NaN      a\n",
            "    freq             1      NaN      1\n",
            "    mean           NaN      2.0    NaN\n",
            "    std            NaN      1.0    NaN\n",
            "    min            NaN      1.0    NaN\n",
            "    25%            NaN      1.5    NaN\n",
            "    50%            NaN      2.0    NaN\n",
            "    75%            NaN      2.5    NaN\n",
            "    max            NaN      3.0    NaN\n",
            "    \n",
            "    Describing a column from a ``DataFrame`` by accessing it as\n",
            "    an attribute.\n",
            "    \n",
            "    >>> df.numeric.describe()\n",
            "    count    3.0\n",
            "    mean     2.0\n",
            "    std      1.0\n",
            "    min      1.0\n",
            "    25%      1.5\n",
            "    50%      2.0\n",
            "    75%      2.5\n",
            "    max      3.0\n",
            "    Name: numeric, dtype: float64\n",
            "    \n",
            "    Including only numeric columns in a ``DataFrame`` description.\n",
            "    \n",
            "    >>> df.describe(include=[np.number])\n",
            "           numeric\n",
            "    count      3.0\n",
            "    mean       2.0\n",
            "    std        1.0\n",
            "    min        1.0\n",
            "    25%        1.5\n",
            "    50%        2.0\n",
            "    75%        2.5\n",
            "    max        3.0\n",
            "    \n",
            "    Including only string columns in a ``DataFrame`` description.\n",
            "    \n",
            "    >>> df.describe(include=[object])  # doctest: +SKIP\n",
            "           object\n",
            "    count       3\n",
            "    unique      3\n",
            "    top         a\n",
            "    freq        1\n",
            "    \n",
            "    Including only categorical columns from a ``DataFrame`` description.\n",
            "    \n",
            "    >>> df.describe(include=['category'])\n",
            "           categorical\n",
            "    count            3\n",
            "    unique           3\n",
            "    top              d\n",
            "    freq             1\n",
            "    \n",
            "    Excluding numeric columns from a ``DataFrame`` description.\n",
            "    \n",
            "    >>> df.describe(exclude=[np.number])  # doctest: +SKIP\n",
            "           categorical object\n",
            "    count            3      3\n",
            "    unique           3      3\n",
            "    top              f      a\n",
            "    freq             1      1\n",
            "    \n",
            "    Excluding object columns from a ``DataFrame`` description.\n",
            "    \n",
            "    >>> df.describe(exclude=[object])  # doctest: +SKIP\n",
            "           categorical  numeric\n",
            "    count            3      3.0\n",
            "    unique           3      NaN\n",
            "    top              f      NaN\n",
            "    freq             1      NaN\n",
            "    mean           NaN      2.0\n",
            "    std            NaN      1.0\n",
            "    min            NaN      1.0\n",
            "    25%            NaN      1.5\n",
            "    50%            NaN      2.0\n",
            "    75%            NaN      2.5\n",
            "    max            NaN      3.0\n",
            "\n"
          ]
        }
      ],
      "source": [
        "help(pd.Series.describe)"
      ]
    },
    {
      "cell_type": "markdown",
      "metadata": {
        "id": "gD2Gvyi64Hkw"
      },
      "source": [
        "Otro método útil para una Serie es `value_counts`. Consultemos la ayuda para ver que hace:"
      ]
    },
    {
      "cell_type": "code",
      "execution_count": 22,
      "metadata": {
        "colab": {
          "base_uri": "https://localhost:8080/"
        },
        "id": "3W6TlrVa4New",
        "outputId": "ded2fb13-43a8-48b4-edff-782c6ed28132"
      },
      "outputs": [
        {
          "name": "stdout",
          "output_type": "stream",
          "text": [
            "Help on function value_counts in module pandas.core.base:\n",
            "\n",
            "value_counts(self, normalize: 'bool' = False, sort: 'bool' = True, ascending: 'bool' = False, bins=None, dropna: 'bool' = True) -> 'Series'\n",
            "    Return a Series containing counts of unique values.\n",
            "    \n",
            "    The resulting object will be in descending order so that the\n",
            "    first element is the most frequently-occurring element.\n",
            "    Excludes NA values by default.\n",
            "    \n",
            "    Parameters\n",
            "    ----------\n",
            "    normalize : bool, default False\n",
            "        If True then the object returned will contain the relative\n",
            "        frequencies of the unique values.\n",
            "    sort : bool, default True\n",
            "        Sort by frequencies when True. Preserve the order of the data when False.\n",
            "    ascending : bool, default False\n",
            "        Sort in ascending order.\n",
            "    bins : int, optional\n",
            "        Rather than count values, group them into half-open bins,\n",
            "        a convenience for ``pd.cut``, only works with numeric data.\n",
            "    dropna : bool, default True\n",
            "        Don't include counts of NaN.\n",
            "    \n",
            "    Returns\n",
            "    -------\n",
            "    Series\n",
            "    \n",
            "    See Also\n",
            "    --------\n",
            "    Series.count: Number of non-NA elements in a Series.\n",
            "    DataFrame.count: Number of non-NA elements in a DataFrame.\n",
            "    DataFrame.value_counts: Equivalent method on DataFrames.\n",
            "    \n",
            "    Examples\n",
            "    --------\n",
            "    >>> index = pd.Index([3, 1, 2, 3, 4, np.nan])\n",
            "    >>> index.value_counts()\n",
            "    3.0    2\n",
            "    1.0    1\n",
            "    2.0    1\n",
            "    4.0    1\n",
            "    Name: count, dtype: int64\n",
            "    \n",
            "    With `normalize` set to `True`, returns the relative frequency by\n",
            "    dividing all values by the sum of values.\n",
            "    \n",
            "    >>> s = pd.Series([3, 1, 2, 3, 4, np.nan])\n",
            "    >>> s.value_counts(normalize=True)\n",
            "    3.0    0.4\n",
            "    1.0    0.2\n",
            "    2.0    0.2\n",
            "    4.0    0.2\n",
            "    Name: proportion, dtype: float64\n",
            "    \n",
            "    **bins**\n",
            "    \n",
            "    Bins can be useful for going from a continuous variable to a\n",
            "    categorical variable; instead of counting unique\n",
            "    apparitions of values, divide the index in the specified\n",
            "    number of half-open bins.\n",
            "    \n",
            "    >>> s.value_counts(bins=3)\n",
            "    (0.996, 2.0]    2\n",
            "    (2.0, 3.0]      2\n",
            "    (3.0, 4.0]      1\n",
            "    Name: count, dtype: int64\n",
            "    \n",
            "    **dropna**\n",
            "    \n",
            "    With `dropna` set to `False` we can also see NaN index values.\n",
            "    \n",
            "    >>> s.value_counts(dropna=False)\n",
            "    3.0    2\n",
            "    1.0    1\n",
            "    2.0    1\n",
            "    4.0    1\n",
            "    NaN    1\n",
            "    Name: count, dtype: int64\n",
            "\n"
          ]
        }
      ],
      "source": [
        "help(pd.Series.value_counts)"
      ]
    },
    {
      "cell_type": "markdown",
      "metadata": {
        "id": "QwP-P4ro4USc"
      },
      "source": [
        "Este método nos da la frecuencia de ocurrencia de cada valor para una serie. Por ejemplo, podemos ver cuantos departamentos hay en alquiler en cada barrio:"
      ]
    },
    {
      "cell_type": "code",
      "execution_count": 23,
      "metadata": {
        "colab": {
          "base_uri": "https://localhost:8080/"
        },
        "id": "whwanPT6byUa",
        "outputId": "cb74f7b6-473f-4fa0-c369-127bb4adfba1"
      },
      "outputs": [
        {
          "data": {
            "text/plain": [
              "838"
            ]
          },
          "execution_count": 23,
          "metadata": {},
          "output_type": "execute_result"
        }
      ],
      "source": [
        "len(precio_por_barrio[\"Centrum-West\"])"
      ]
    },
    {
      "cell_type": "code",
      "execution_count": 24,
      "metadata": {
        "colab": {
          "base_uri": "https://localhost:8080/"
        },
        "id": "YBvfjFtd4fEh",
        "outputId": "cb4cb78f-3cc6-45cc-90c5-cb499bfda75a"
      },
      "outputs": [
        {
          "data": {
            "text/plain": [
              "neighbourhood\n",
              "De Baarsjes - Oud-West                    894\n",
              "Centrum-West                              838\n",
              "Centrum-Oost                              602\n",
              "De Pijp - Rivierenbuurt                   593\n",
              "Westerpark                                417\n",
              "Zuid                                      376\n",
              "Oud-Oost                                  324\n",
              "Bos en Lommer                             258\n",
              "Oud-Noord                                 254\n",
              "Watergraafsmeer                           225\n",
              "Oostelijk Havengebied - Indische Buurt    207\n",
              "Noord-Oost                                179\n",
              "Noord-West                                169\n",
              "IJburg - Zeeburgereiland                  167\n",
              "Buitenveldert - Zuidas                    123\n",
              "Slotervaart                               103\n",
              "Geuzenveld - Slotermeer                   102\n",
              "De Aker - Nieuw Sloten                     94\n",
              "Bijlmer-Centrum                            82\n",
              "Gaasperdam - Driemond                      77\n",
              "Osdorp                                     60\n",
              "Bijlmer-Oost                               29\n",
              "Name: count, dtype: int64"
            ]
          },
          "execution_count": 24,
          "metadata": {},
          "output_type": "execute_result"
        }
      ],
      "source": [
        "data['neighbourhood'].value_counts()"
      ]
    },
    {
      "cell_type": "markdown",
      "metadata": {
        "id": "q5kYdlEK3mhU"
      },
      "source": [
        "Para un DataFrame, es importante conocer la _estructura_ del mismo, es decir, cuantas columnas y cuantas filas contiene. Esto lo podemos ver utilizando el atributo `shape`."
      ]
    },
    {
      "cell_type": "code",
      "execution_count": 25,
      "metadata": {
        "colab": {
          "base_uri": "https://localhost:8080/"
        },
        "id": "CQwPvZ_L3lbr",
        "outputId": "fabd3bf0-c953-4cd9-e6ae-c17f952b130b"
      },
      "outputs": [
        {
          "data": {
            "text/plain": [
              "(6173, 18)"
            ]
          },
          "execution_count": 25,
          "metadata": {},
          "output_type": "execute_result"
        }
      ],
      "source": [
        "data.shape"
      ]
    },
    {
      "cell_type": "markdown",
      "metadata": {
        "id": "M0PJicIC32uT"
      },
      "source": [
        "Esto nos indica que el archivo contiene 6173 observaciones y 18 columnas o _variables_."
      ]
    },
    {
      "cell_type": "markdown",
      "metadata": {
        "id": "lPOxGCYE9XsI"
      },
      "source": [
        "### Concepto de índice\n",
        "Como probablemente ya vieron en la materia de base de datos, los índices son un elemento muy importantes cuando almacenamos los datos.\n",
        "Es lo que nos permite referirnos a un dato de forma únivoca. Para determinar el índice de un dataset, vamos a buscar una variable/columna/característica única, es decir, que no tenga repetidos.\n",
        "\n",
        "Por ejemplo, si en nuestros datos del listing queremos identificar una publicación en particular, ¿como lo haríamos? ¿Con el precio? ¿Con el nombre de la publicación? ¡Probablemente no! Lo que haríamos es referirnos a un listing por su id.\n",
        "\n",
        "Una característica muy importante de los DFs y Series es que **siempre tienen un índice**. Cuando pandas abre un archivo, automáticamente genera un header, los nombres de las columnas, y genera un índice automáticamente que va de 0 a la longitud del archivo -1.\n",
        "\n",
        "En nuestros datos, vemos que si bien pandas genera un índice automático, no es el índice que queremos usar, el id del listing. Para poder cambiarlo, vamos a usar el método `df.set_index`\n"
      ]
    },
    {
      "cell_type": "code",
      "execution_count": 26,
      "metadata": {
        "colab": {
          "base_uri": "https://localhost:8080/"
        },
        "id": "VugGKA3esaR3",
        "outputId": "b7d538eb-f7d7-4783-bcbc-4f2be446fc64"
      },
      "outputs": [
        {
          "data": {
            "text/plain": [
              "Index(['id', 'name', 'host_id', 'host_name', 'neighbourhood_group',\n",
              "       'neighbourhood', 'latitude', 'longitude', 'room_type', 'price',\n",
              "       'minimum_nights', 'number_of_reviews', 'last_review',\n",
              "       'reviews_per_month', 'calculated_host_listings_count',\n",
              "       'availability_365', 'number_of_reviews_ltm', 'license'],\n",
              "      dtype='object')"
            ]
          },
          "execution_count": 26,
          "metadata": {},
          "output_type": "execute_result"
        }
      ],
      "source": [
        "# podemos obtener el nombre de las cabeceras utilizando el atributo `columns`.\n",
        "data.columns"
      ]
    },
    {
      "cell_type": "code",
      "execution_count": 27,
      "metadata": {
        "colab": {
          "base_uri": "https://localhost:8080/",
          "height": 346
        },
        "id": "MdCpQ6gU83Uo",
        "outputId": "ab9b428c-64f1-4875-9855-5bebe7f1a959"
      },
      "outputs": [
        {
          "data": {
            "text/html": [
              "<div>\n",
              "<style scoped>\n",
              "    .dataframe tbody tr th:only-of-type {\n",
              "        vertical-align: middle;\n",
              "    }\n",
              "\n",
              "    .dataframe tbody tr th {\n",
              "        vertical-align: top;\n",
              "    }\n",
              "\n",
              "    .dataframe thead th {\n",
              "        text-align: right;\n",
              "    }\n",
              "</style>\n",
              "<table border=\"1\" class=\"dataframe\">\n",
              "  <thead>\n",
              "    <tr style=\"text-align: right;\">\n",
              "      <th></th>\n",
              "      <th>name</th>\n",
              "      <th>host_id</th>\n",
              "      <th>host_name</th>\n",
              "      <th>neighbourhood_group</th>\n",
              "      <th>neighbourhood</th>\n",
              "      <th>latitude</th>\n",
              "      <th>longitude</th>\n",
              "      <th>room_type</th>\n",
              "      <th>price</th>\n",
              "      <th>minimum_nights</th>\n",
              "      <th>number_of_reviews</th>\n",
              "      <th>last_review</th>\n",
              "      <th>reviews_per_month</th>\n",
              "      <th>calculated_host_listings_count</th>\n",
              "      <th>availability_365</th>\n",
              "      <th>number_of_reviews_ltm</th>\n",
              "      <th>license</th>\n",
              "    </tr>\n",
              "    <tr>\n",
              "      <th>id</th>\n",
              "      <th></th>\n",
              "      <th></th>\n",
              "      <th></th>\n",
              "      <th></th>\n",
              "      <th></th>\n",
              "      <th></th>\n",
              "      <th></th>\n",
              "      <th></th>\n",
              "      <th></th>\n",
              "      <th></th>\n",
              "      <th></th>\n",
              "      <th></th>\n",
              "      <th></th>\n",
              "      <th></th>\n",
              "      <th></th>\n",
              "      <th></th>\n",
              "      <th></th>\n",
              "    </tr>\n",
              "  </thead>\n",
              "  <tbody>\n",
              "    <tr>\n",
              "      <th>23726706</th>\n",
              "      <td>Private room 20 minutes from Amsterdam + Break...</td>\n",
              "      <td>122619127</td>\n",
              "      <td>Patricia</td>\n",
              "      <td>NaN</td>\n",
              "      <td>IJburg - Zeeburgereiland</td>\n",
              "      <td>52.34916</td>\n",
              "      <td>4.97879</td>\n",
              "      <td>Private room</td>\n",
              "      <td>88</td>\n",
              "      <td>2</td>\n",
              "      <td>78</td>\n",
              "      <td>2022-05-29</td>\n",
              "      <td>1.53</td>\n",
              "      <td>1</td>\n",
              "      <td>66</td>\n",
              "      <td>11</td>\n",
              "      <td>038469D9AA6BDF1142CE</td>\n",
              "    </tr>\n",
              "    <tr>\n",
              "      <th>35815036</th>\n",
              "      <td>Vrijstaand vakantiehuis, privé tuin aan het water</td>\n",
              "      <td>269425139</td>\n",
              "      <td>Lydia</td>\n",
              "      <td>NaN</td>\n",
              "      <td>Noord-Oost</td>\n",
              "      <td>52.42419</td>\n",
              "      <td>4.95689</td>\n",
              "      <td>Entire home/apt</td>\n",
              "      <td>105</td>\n",
              "      <td>3</td>\n",
              "      <td>95</td>\n",
              "      <td>2022-06-02</td>\n",
              "      <td>2.65</td>\n",
              "      <td>1</td>\n",
              "      <td>243</td>\n",
              "      <td>36</td>\n",
              "      <td>NaN</td>\n",
              "    </tr>\n",
              "  </tbody>\n",
              "</table>\n",
              "</div>"
            ],
            "text/plain": [
              "                                                       name    host_id  \\\n",
              "id                                                                       \n",
              "23726706  Private room 20 minutes from Amsterdam + Break...  122619127   \n",
              "35815036  Vrijstaand vakantiehuis, privé tuin aan het water  269425139   \n",
              "\n",
              "         host_name  neighbourhood_group             neighbourhood  latitude  \\\n",
              "id                                                                            \n",
              "23726706  Patricia                  NaN  IJburg - Zeeburgereiland  52.34916   \n",
              "35815036     Lydia                  NaN                Noord-Oost  52.42419   \n",
              "\n",
              "          longitude        room_type  price  minimum_nights  \\\n",
              "id                                                            \n",
              "23726706    4.97879     Private room     88               2   \n",
              "35815036    4.95689  Entire home/apt    105               3   \n",
              "\n",
              "          number_of_reviews last_review  reviews_per_month  \\\n",
              "id                                                           \n",
              "23726706                 78  2022-05-29               1.53   \n",
              "35815036                 95  2022-06-02               2.65   \n",
              "\n",
              "          calculated_host_listings_count  availability_365  \\\n",
              "id                                                           \n",
              "23726706                               1                66   \n",
              "35815036                               1               243   \n",
              "\n",
              "          number_of_reviews_ltm               license  \n",
              "id                                                     \n",
              "23726706                     11  038469D9AA6BDF1142CE  \n",
              "35815036                     36                   NaN  "
            ]
          },
          "execution_count": 27,
          "metadata": {},
          "output_type": "execute_result"
        }
      ],
      "source": [
        "data.set_index('id').head(2)"
      ]
    },
    {
      "cell_type": "code",
      "execution_count": 28,
      "metadata": {
        "colab": {
          "base_uri": "https://localhost:8080/",
          "height": 565
        },
        "id": "lXGY7FBE-Iir",
        "outputId": "a444b519-1841-4bb7-c3c6-fc7c39ad1ea1"
      },
      "outputs": [
        {
          "data": {
            "text/html": [
              "<div>\n",
              "<style scoped>\n",
              "    .dataframe tbody tr th:only-of-type {\n",
              "        vertical-align: middle;\n",
              "    }\n",
              "\n",
              "    .dataframe tbody tr th {\n",
              "        vertical-align: top;\n",
              "    }\n",
              "\n",
              "    .dataframe thead th {\n",
              "        text-align: right;\n",
              "    }\n",
              "</style>\n",
              "<table border=\"1\" class=\"dataframe\">\n",
              "  <thead>\n",
              "    <tr style=\"text-align: right;\">\n",
              "      <th></th>\n",
              "      <th>id</th>\n",
              "      <th>name</th>\n",
              "      <th>host_id</th>\n",
              "      <th>host_name</th>\n",
              "      <th>neighbourhood_group</th>\n",
              "      <th>neighbourhood</th>\n",
              "      <th>latitude</th>\n",
              "      <th>longitude</th>\n",
              "      <th>room_type</th>\n",
              "      <th>price</th>\n",
              "      <th>minimum_nights</th>\n",
              "      <th>number_of_reviews</th>\n",
              "      <th>last_review</th>\n",
              "      <th>reviews_per_month</th>\n",
              "      <th>calculated_host_listings_count</th>\n",
              "      <th>availability_365</th>\n",
              "      <th>number_of_reviews_ltm</th>\n",
              "      <th>license</th>\n",
              "    </tr>\n",
              "  </thead>\n",
              "  <tbody>\n",
              "    <tr>\n",
              "      <th>0</th>\n",
              "      <td>23726706</td>\n",
              "      <td>Private room 20 minutes from Amsterdam + Break...</td>\n",
              "      <td>122619127</td>\n",
              "      <td>Patricia</td>\n",
              "      <td>NaN</td>\n",
              "      <td>IJburg - Zeeburgereiland</td>\n",
              "      <td>52.34916</td>\n",
              "      <td>4.97879</td>\n",
              "      <td>Private room</td>\n",
              "      <td>88</td>\n",
              "      <td>2</td>\n",
              "      <td>78</td>\n",
              "      <td>2022-05-29</td>\n",
              "      <td>1.53</td>\n",
              "      <td>1</td>\n",
              "      <td>66</td>\n",
              "      <td>11</td>\n",
              "      <td>038469D9AA6BDF1142CE</td>\n",
              "    </tr>\n",
              "    <tr>\n",
              "      <th>1</th>\n",
              "      <td>35815036</td>\n",
              "      <td>Vrijstaand vakantiehuis, privé tuin aan het water</td>\n",
              "      <td>269425139</td>\n",
              "      <td>Lydia</td>\n",
              "      <td>NaN</td>\n",
              "      <td>Noord-Oost</td>\n",
              "      <td>52.42419</td>\n",
              "      <td>4.95689</td>\n",
              "      <td>Entire home/apt</td>\n",
              "      <td>105</td>\n",
              "      <td>3</td>\n",
              "      <td>95</td>\n",
              "      <td>2022-06-02</td>\n",
              "      <td>2.65</td>\n",
              "      <td>1</td>\n",
              "      <td>243</td>\n",
              "      <td>36</td>\n",
              "      <td>NaN</td>\n",
              "    </tr>\n",
              "    <tr>\n",
              "      <th>2</th>\n",
              "      <td>31553121</td>\n",
              "      <td>Quiet Guesthouse near Amsterdam</td>\n",
              "      <td>76806621</td>\n",
              "      <td>Ralf</td>\n",
              "      <td>NaN</td>\n",
              "      <td>Noord-West</td>\n",
              "      <td>52.43237</td>\n",
              "      <td>4.91821</td>\n",
              "      <td>Entire home/apt</td>\n",
              "      <td>152</td>\n",
              "      <td>2</td>\n",
              "      <td>82</td>\n",
              "      <td>2022-05-29</td>\n",
              "      <td>2.02</td>\n",
              "      <td>1</td>\n",
              "      <td>3</td>\n",
              "      <td>26</td>\n",
              "      <td>NaN</td>\n",
              "    </tr>\n",
              "    <tr>\n",
              "      <th>3</th>\n",
              "      <td>34745823</td>\n",
              "      <td>Apartment ' Landzicht', nearby Amsterdam</td>\n",
              "      <td>238083700</td>\n",
              "      <td>Daisy</td>\n",
              "      <td>NaN</td>\n",
              "      <td>Gaasperdam - Driemond</td>\n",
              "      <td>52.29620</td>\n",
              "      <td>5.01231</td>\n",
              "      <td>Entire home/apt</td>\n",
              "      <td>87</td>\n",
              "      <td>2</td>\n",
              "      <td>39</td>\n",
              "      <td>2022-04-17</td>\n",
              "      <td>1.08</td>\n",
              "      <td>3</td>\n",
              "      <td>290</td>\n",
              "      <td>4</td>\n",
              "      <td>NaN</td>\n",
              "    </tr>\n",
              "    <tr>\n",
              "      <th>4</th>\n",
              "      <td>44586947</td>\n",
              "      <td>Weesp, 2 kamers vlakbij Amsterdam</td>\n",
              "      <td>360838688</td>\n",
              "      <td>Aranka</td>\n",
              "      <td>NaN</td>\n",
              "      <td>Gaasperdam - Driemond</td>\n",
              "      <td>52.31475</td>\n",
              "      <td>5.03030</td>\n",
              "      <td>Private room</td>\n",
              "      <td>160</td>\n",
              "      <td>2</td>\n",
              "      <td>15</td>\n",
              "      <td>2022-05-29</td>\n",
              "      <td>0.68</td>\n",
              "      <td>1</td>\n",
              "      <td>152</td>\n",
              "      <td>12</td>\n",
              "      <td>NaN</td>\n",
              "    </tr>\n",
              "  </tbody>\n",
              "</table>\n",
              "</div>"
            ],
            "text/plain": [
              "         id                                               name    host_id  \\\n",
              "0  23726706  Private room 20 minutes from Amsterdam + Break...  122619127   \n",
              "1  35815036  Vrijstaand vakantiehuis, privé tuin aan het water  269425139   \n",
              "2  31553121                    Quiet Guesthouse near Amsterdam   76806621   \n",
              "3  34745823           Apartment ' Landzicht', nearby Amsterdam  238083700   \n",
              "4  44586947                  Weesp, 2 kamers vlakbij Amsterdam  360838688   \n",
              "\n",
              "  host_name  neighbourhood_group             neighbourhood  latitude  \\\n",
              "0  Patricia                  NaN  IJburg - Zeeburgereiland  52.34916   \n",
              "1     Lydia                  NaN                Noord-Oost  52.42419   \n",
              "2      Ralf                  NaN                Noord-West  52.43237   \n",
              "3     Daisy                  NaN     Gaasperdam - Driemond  52.29620   \n",
              "4    Aranka                  NaN     Gaasperdam - Driemond  52.31475   \n",
              "\n",
              "   longitude        room_type  price  minimum_nights  number_of_reviews  \\\n",
              "0    4.97879     Private room     88               2                 78   \n",
              "1    4.95689  Entire home/apt    105               3                 95   \n",
              "2    4.91821  Entire home/apt    152               2                 82   \n",
              "3    5.01231  Entire home/apt     87               2                 39   \n",
              "4    5.03030     Private room    160               2                 15   \n",
              "\n",
              "  last_review  reviews_per_month  calculated_host_listings_count  \\\n",
              "0  2022-05-29               1.53                               1   \n",
              "1  2022-06-02               2.65                               1   \n",
              "2  2022-05-29               2.02                               1   \n",
              "3  2022-04-17               1.08                               3   \n",
              "4  2022-05-29               0.68                               1   \n",
              "\n",
              "   availability_365  number_of_reviews_ltm               license  \n",
              "0                66                     11  038469D9AA6BDF1142CE  \n",
              "1               243                     36                   NaN  \n",
              "2                 3                     26                   NaN  \n",
              "3               290                      4                   NaN  \n",
              "4               152                     12                   NaN  "
            ]
          },
          "execution_count": 28,
          "metadata": {},
          "output_type": "execute_result"
        }
      ],
      "source": [
        "data.head()"
      ]
    },
    {
      "cell_type": "markdown",
      "metadata": {
        "id": "wLoe21u25GUZ"
      },
      "source": [
        "¿Que paso? Cambiamos el índice pero no se vio reflejado en el objeto `data`... ¿Que puede estar pasando?"
      ]
    },
    {
      "cell_type": "markdown",
      "metadata": {
        "id": "Cj9wRiO5s6mw"
      },
      "source": [
        "## La mutabilidad\n",
        "\n",
        "En la unidad de Programación Orientada a Objetos, vimos que existían dos tipos de métodos:\n",
        "\n",
        "* Los **métodos puros** que no modifican el estado del objeto sobre el cuál lo llamamos.\n",
        "* Los **métodos modificadores** que modifican el estado del objeto sobre el cuál lo llamamos.\n",
        "\n",
        "Por si están olvidados, veamos un ejemplo con una lista de python. Para ordenar una lista, podemos utilizar el método `.sort` ..."
      ]
    },
    {
      "cell_type": "code",
      "execution_count": 29,
      "metadata": {
        "colab": {
          "base_uri": "https://localhost:8080/"
        },
        "id": "1KIyiWAC7mEK",
        "outputId": "c8342ad2-1020-4818-d816-d2eafbd58812"
      },
      "outputs": [
        {
          "name": "stdout",
          "output_type": "stream",
          "text": [
            "[1, 1, 1, 2, 2, 3, 4]\n"
          ]
        }
      ],
      "source": [
        "A = [1, 2, 3, 4, 2, 1, 1]\n",
        "A.sort()\n",
        "print(A)"
      ]
    },
    {
      "cell_type": "markdown",
      "metadata": {
        "id": "q5RtPsLb7uXN"
      },
      "source": [
        "... que modifica la lista \"in place\". En el mismo objeto A se reordenan los elementos. O bien podemos hacer"
      ]
    },
    {
      "cell_type": "code",
      "execution_count": 30,
      "metadata": {
        "colab": {
          "base_uri": "https://localhost:8080/"
        },
        "id": "niFtdvgc7teo",
        "outputId": "1c0cfd88-fb67-4d91-a945-2640783ba430"
      },
      "outputs": [
        {
          "name": "stdout",
          "output_type": "stream",
          "text": [
            "[1, 1, 1, 2, 2, 3, 4]\n"
          ]
        }
      ],
      "source": [
        "A = [1, 2, 3, 4, 2, 1, 1]\n",
        "A_ordenada = sorted(A)\n",
        "print(A_ordenada)"
      ]
    },
    {
      "cell_type": "markdown",
      "metadata": {
        "id": "YplwR4G079_N"
      },
      "source": [
        "... que _devuelve_ o _retorna_ una nueva lista con los mismos elementos que A, pero en orden. Notar que aca la lista originar A **sigue existiendo**"
      ]
    },
    {
      "cell_type": "code",
      "execution_count": 31,
      "metadata": {
        "colab": {
          "base_uri": "https://localhost:8080/"
        },
        "id": "4_QJxaDu79u8",
        "outputId": "33170ad5-20c1-4738-d9fb-0ef4e33cc220"
      },
      "outputs": [
        {
          "name": "stdout",
          "output_type": "stream",
          "text": [
            "[1, 2, 3, 4, 2, 1, 1]\n"
          ]
        }
      ],
      "source": [
        "print(A)"
      ]
    },
    {
      "cell_type": "markdown",
      "metadata": {
        "id": "RJSPwVCo8L4D"
      },
      "source": [
        "Si queremos, podemos \"pisar\" la lista A con los valores ordenados simplemente asignando la misma variable al resultado"
      ]
    },
    {
      "cell_type": "code",
      "execution_count": 32,
      "metadata": {
        "colab": {
          "base_uri": "https://localhost:8080/"
        },
        "id": "4LRguGwK8K4y",
        "outputId": "9d111796-a688-46f7-b545-e9a690a5e797"
      },
      "outputs": [
        {
          "name": "stdout",
          "output_type": "stream",
          "text": [
            "[1, 1, 1, 2, 2, 3, 4]\n"
          ]
        }
      ],
      "source": [
        "A = [1, 2, 3, 4, 2, 1, 1]\n",
        "A = sorted(A)\n",
        "print(A)"
      ]
    },
    {
      "cell_type": "markdown",
      "metadata": {
        "id": "MT7qkUVI8W_F"
      },
      "source": [
        "En pandas ocurre lo mismo. Casi todos los métodos que modifiquen un dataframe o una serie aceptaran una versión `inplace` pasando el argumento `inplace=True` al método. Si no lo hacemos, pandas se comportará _retornando_ un nuevo objeto con las modificaciones que le pedimos. Luego será nuestra responsabilidad asignar ese objeto a una variable (que puede o no ser la misma, dependiendo de lo que querramos)."
      ]
    },
    {
      "cell_type": "code",
      "execution_count": 33,
      "metadata": {
        "colab": {
          "base_uri": "https://localhost:8080/",
          "height": 302
        },
        "id": "qvdVcTSg8lzk",
        "outputId": "fabd7011-41c1-4782-c49d-d45c840d3d9c"
      },
      "outputs": [
        {
          "data": {
            "text/html": [
              "<div>\n",
              "<style scoped>\n",
              "    .dataframe tbody tr th:only-of-type {\n",
              "        vertical-align: middle;\n",
              "    }\n",
              "\n",
              "    .dataframe tbody tr th {\n",
              "        vertical-align: top;\n",
              "    }\n",
              "\n",
              "    .dataframe thead th {\n",
              "        text-align: right;\n",
              "    }\n",
              "</style>\n",
              "<table border=\"1\" class=\"dataframe\">\n",
              "  <thead>\n",
              "    <tr style=\"text-align: right;\">\n",
              "      <th></th>\n",
              "      <th>name</th>\n",
              "      <th>host_id</th>\n",
              "      <th>host_name</th>\n",
              "      <th>neighbourhood_group</th>\n",
              "      <th>neighbourhood</th>\n",
              "      <th>latitude</th>\n",
              "      <th>longitude</th>\n",
              "      <th>room_type</th>\n",
              "      <th>price</th>\n",
              "      <th>minimum_nights</th>\n",
              "      <th>number_of_reviews</th>\n",
              "      <th>last_review</th>\n",
              "      <th>reviews_per_month</th>\n",
              "      <th>calculated_host_listings_count</th>\n",
              "      <th>availability_365</th>\n",
              "      <th>number_of_reviews_ltm</th>\n",
              "      <th>license</th>\n",
              "    </tr>\n",
              "    <tr>\n",
              "      <th>id</th>\n",
              "      <th></th>\n",
              "      <th></th>\n",
              "      <th></th>\n",
              "      <th></th>\n",
              "      <th></th>\n",
              "      <th></th>\n",
              "      <th></th>\n",
              "      <th></th>\n",
              "      <th></th>\n",
              "      <th></th>\n",
              "      <th></th>\n",
              "      <th></th>\n",
              "      <th></th>\n",
              "      <th></th>\n",
              "      <th></th>\n",
              "      <th></th>\n",
              "      <th></th>\n",
              "    </tr>\n",
              "  </thead>\n",
              "  <tbody>\n",
              "    <tr>\n",
              "      <th>23726706</th>\n",
              "      <td>Private room 20 minutes from Amsterdam + Break...</td>\n",
              "      <td>122619127</td>\n",
              "      <td>Patricia</td>\n",
              "      <td>NaN</td>\n",
              "      <td>IJburg - Zeeburgereiland</td>\n",
              "      <td>52.34916</td>\n",
              "      <td>4.97879</td>\n",
              "      <td>Private room</td>\n",
              "      <td>88</td>\n",
              "      <td>2</td>\n",
              "      <td>78</td>\n",
              "      <td>2022-05-29</td>\n",
              "      <td>1.53</td>\n",
              "      <td>1</td>\n",
              "      <td>66</td>\n",
              "      <td>11</td>\n",
              "      <td>038469D9AA6BDF1142CE</td>\n",
              "    </tr>\n",
              "    <tr>\n",
              "      <th>35815036</th>\n",
              "      <td>Vrijstaand vakantiehuis, privé tuin aan het water</td>\n",
              "      <td>269425139</td>\n",
              "      <td>Lydia</td>\n",
              "      <td>NaN</td>\n",
              "      <td>Noord-Oost</td>\n",
              "      <td>52.42419</td>\n",
              "      <td>4.95689</td>\n",
              "      <td>Entire home/apt</td>\n",
              "      <td>105</td>\n",
              "      <td>3</td>\n",
              "      <td>95</td>\n",
              "      <td>2022-06-02</td>\n",
              "      <td>2.65</td>\n",
              "      <td>1</td>\n",
              "      <td>243</td>\n",
              "      <td>36</td>\n",
              "      <td>NaN</td>\n",
              "    </tr>\n",
              "  </tbody>\n",
              "</table>\n",
              "</div>"
            ],
            "text/plain": [
              "                                                       name    host_id  \\\n",
              "id                                                                       \n",
              "23726706  Private room 20 minutes from Amsterdam + Break...  122619127   \n",
              "35815036  Vrijstaand vakantiehuis, privé tuin aan het water  269425139   \n",
              "\n",
              "         host_name  neighbourhood_group             neighbourhood  latitude  \\\n",
              "id                                                                            \n",
              "23726706  Patricia                  NaN  IJburg - Zeeburgereiland  52.34916   \n",
              "35815036     Lydia                  NaN                Noord-Oost  52.42419   \n",
              "\n",
              "          longitude        room_type  price  minimum_nights  \\\n",
              "id                                                            \n",
              "23726706    4.97879     Private room     88               2   \n",
              "35815036    4.95689  Entire home/apt    105               3   \n",
              "\n",
              "          number_of_reviews last_review  reviews_per_month  \\\n",
              "id                                                           \n",
              "23726706                 78  2022-05-29               1.53   \n",
              "35815036                 95  2022-06-02               2.65   \n",
              "\n",
              "          calculated_host_listings_count  availability_365  \\\n",
              "id                                                           \n",
              "23726706                               1                66   \n",
              "35815036                               1               243   \n",
              "\n",
              "          number_of_reviews_ltm               license  \n",
              "id                                                     \n",
              "23726706                     11  038469D9AA6BDF1142CE  \n",
              "35815036                     36                   NaN  "
            ]
          },
          "execution_count": 33,
          "metadata": {},
          "output_type": "execute_result"
        }
      ],
      "source": [
        "# data.set_index('id', inplace = True) #cambia el índice inplace\n",
        "data = data.set_index(\"id\")\n",
        "data.head(2)"
      ]
    },
    {
      "cell_type": "markdown",
      "metadata": {
        "id": "yQooiCzF9L9c"
      },
      "source": [
        "**Convención**: Por convención, evitaremos el uso de `inplace=True` y trabajaremos con métodos puros y objetos nuevos siempre que sea posible."
      ]
    },
    {
      "cell_type": "markdown",
      "metadata": {
        "id": "m9F9lfLUAFS_"
      },
      "source": [
        "## Indexar\n",
        "Pandas nos permite acceder a la información dentro de sus DFs y Series mediante sus índices con los atributos .loc y .iloc. `loc` nos permite acceder a los índices por su valor y `iloc` por su posición.\n",
        "Vamos a poder acceder a un índice o a varios. Y también vamos a poder incluir las columnas"
      ]
    },
    {
      "cell_type": "markdown",
      "metadata": {
        "id": "XLnC6OmG9XtA"
      },
      "source": [
        "* Primer sabor de loc: Si le pasamos un indice con un valor particular nos devueelve una Serie, donde el indice de la serie son las columnas del dataframe."
      ]
    },
    {
      "cell_type": "code",
      "execution_count": 34,
      "metadata": {
        "colab": {
          "base_uri": "https://localhost:8080/"
        },
        "id": "0ucQ-JYRAEzW",
        "outputId": "489ce9b3-3ba1-43dd-dfb2-015ad4b6196a"
      },
      "outputs": [
        {
          "data": {
            "text/plain": [
              "name                              Quiet Guesthouse near Amsterdam\n",
              "host_id                                                  76806621\n",
              "host_name                                                    Ralf\n",
              "neighbourhood_group                                           NaN\n",
              "neighbourhood                                          Noord-West\n",
              "latitude                                                 52.43237\n",
              "longitude                                                 4.91821\n",
              "room_type                                         Entire home/apt\n",
              "price                                                         152\n",
              "minimum_nights                                                  2\n",
              "number_of_reviews                                              82\n",
              "last_review                                            2022-05-29\n",
              "reviews_per_month                                            2.02\n",
              "calculated_host_listings_count                                  1\n",
              "availability_365                                                3\n",
              "number_of_reviews_ltm                                          26\n",
              "license                                                       NaN\n",
              "Name: 31553121, dtype: object"
            ]
          },
          "execution_count": 34,
          "metadata": {},
          "output_type": "execute_result"
        }
      ],
      "source": [
        "data.loc[31553121]"
      ]
    },
    {
      "cell_type": "markdown",
      "metadata": {
        "id": "Ap_eRPgT9pbl"
      },
      "source": [
        "* Segundo sabor de loc: Podemos pasarle una lista de indices y nos devuelve un dataframe solo con aquellos indices"
      ]
    },
    {
      "cell_type": "code",
      "execution_count": 35,
      "metadata": {
        "colab": {
          "base_uri": "https://localhost:8080/",
          "height": 302
        },
        "id": "Ib_rPE_T9pAI",
        "outputId": "b695d82f-028f-456a-f37f-fdb8f7f07d67"
      },
      "outputs": [
        {
          "data": {
            "text/html": [
              "<div>\n",
              "<style scoped>\n",
              "    .dataframe tbody tr th:only-of-type {\n",
              "        vertical-align: middle;\n",
              "    }\n",
              "\n",
              "    .dataframe tbody tr th {\n",
              "        vertical-align: top;\n",
              "    }\n",
              "\n",
              "    .dataframe thead th {\n",
              "        text-align: right;\n",
              "    }\n",
              "</style>\n",
              "<table border=\"1\" class=\"dataframe\">\n",
              "  <thead>\n",
              "    <tr style=\"text-align: right;\">\n",
              "      <th></th>\n",
              "      <th>name</th>\n",
              "      <th>host_id</th>\n",
              "      <th>host_name</th>\n",
              "      <th>neighbourhood_group</th>\n",
              "      <th>neighbourhood</th>\n",
              "      <th>latitude</th>\n",
              "      <th>longitude</th>\n",
              "      <th>room_type</th>\n",
              "      <th>price</th>\n",
              "      <th>minimum_nights</th>\n",
              "      <th>number_of_reviews</th>\n",
              "      <th>last_review</th>\n",
              "      <th>reviews_per_month</th>\n",
              "      <th>calculated_host_listings_count</th>\n",
              "      <th>availability_365</th>\n",
              "      <th>number_of_reviews_ltm</th>\n",
              "      <th>license</th>\n",
              "    </tr>\n",
              "    <tr>\n",
              "      <th>id</th>\n",
              "      <th></th>\n",
              "      <th></th>\n",
              "      <th></th>\n",
              "      <th></th>\n",
              "      <th></th>\n",
              "      <th></th>\n",
              "      <th></th>\n",
              "      <th></th>\n",
              "      <th></th>\n",
              "      <th></th>\n",
              "      <th></th>\n",
              "      <th></th>\n",
              "      <th></th>\n",
              "      <th></th>\n",
              "      <th></th>\n",
              "      <th></th>\n",
              "      <th></th>\n",
              "    </tr>\n",
              "  </thead>\n",
              "  <tbody>\n",
              "    <tr>\n",
              "      <th>23726706</th>\n",
              "      <td>Private room 20 minutes from Amsterdam + Break...</td>\n",
              "      <td>122619127</td>\n",
              "      <td>Patricia</td>\n",
              "      <td>NaN</td>\n",
              "      <td>IJburg - Zeeburgereiland</td>\n",
              "      <td>52.34916</td>\n",
              "      <td>4.97879</td>\n",
              "      <td>Private room</td>\n",
              "      <td>88</td>\n",
              "      <td>2</td>\n",
              "      <td>78</td>\n",
              "      <td>2022-05-29</td>\n",
              "      <td>1.53</td>\n",
              "      <td>1</td>\n",
              "      <td>66</td>\n",
              "      <td>11</td>\n",
              "      <td>038469D9AA6BDF1142CE</td>\n",
              "    </tr>\n",
              "    <tr>\n",
              "      <th>35815036</th>\n",
              "      <td>Vrijstaand vakantiehuis, privé tuin aan het water</td>\n",
              "      <td>269425139</td>\n",
              "      <td>Lydia</td>\n",
              "      <td>NaN</td>\n",
              "      <td>Noord-Oost</td>\n",
              "      <td>52.42419</td>\n",
              "      <td>4.95689</td>\n",
              "      <td>Entire home/apt</td>\n",
              "      <td>105</td>\n",
              "      <td>3</td>\n",
              "      <td>95</td>\n",
              "      <td>2022-06-02</td>\n",
              "      <td>2.65</td>\n",
              "      <td>1</td>\n",
              "      <td>243</td>\n",
              "      <td>36</td>\n",
              "      <td>NaN</td>\n",
              "    </tr>\n",
              "  </tbody>\n",
              "</table>\n",
              "</div>"
            ],
            "text/plain": [
              "                                                       name    host_id  \\\n",
              "id                                                                       \n",
              "23726706  Private room 20 minutes from Amsterdam + Break...  122619127   \n",
              "35815036  Vrijstaand vakantiehuis, privé tuin aan het water  269425139   \n",
              "\n",
              "         host_name  neighbourhood_group             neighbourhood  latitude  \\\n",
              "id                                                                            \n",
              "23726706  Patricia                  NaN  IJburg - Zeeburgereiland  52.34916   \n",
              "35815036     Lydia                  NaN                Noord-Oost  52.42419   \n",
              "\n",
              "          longitude        room_type  price  minimum_nights  \\\n",
              "id                                                            \n",
              "23726706    4.97879     Private room     88               2   \n",
              "35815036    4.95689  Entire home/apt    105               3   \n",
              "\n",
              "          number_of_reviews last_review  reviews_per_month  \\\n",
              "id                                                           \n",
              "23726706                 78  2022-05-29               1.53   \n",
              "35815036                 95  2022-06-02               2.65   \n",
              "\n",
              "          calculated_host_listings_count  availability_365  \\\n",
              "id                                                           \n",
              "23726706                               1                66   \n",
              "35815036                               1               243   \n",
              "\n",
              "          number_of_reviews_ltm               license  \n",
              "id                                                     \n",
              "23726706                     11  038469D9AA6BDF1142CE  \n",
              "35815036                     36                   NaN  "
            ]
          },
          "execution_count": 35,
          "metadata": {},
          "output_type": "execute_result"
        }
      ],
      "source": [
        "data.loc[[23726706, 35815036]]"
      ]
    },
    {
      "cell_type": "markdown",
      "metadata": {
        "id": "Rp2islkD94zX"
      },
      "source": [
        "* Tercer sabor de loc: Podemos pasarle, ademas, que columna nos interesa. En este caso nos devolverá una serie solo con los indices que le pedimos"
      ]
    },
    {
      "cell_type": "code",
      "execution_count": 36,
      "metadata": {
        "colab": {
          "base_uri": "https://localhost:8080/"
        },
        "id": "XgQ5ejTrA9G7",
        "outputId": "b9ef953e-2048-4534-8caa-b4c0c2ac3c38"
      },
      "outputs": [
        {
          "data": {
            "text/plain": [
              "id\n",
              "31553121    152\n",
              "Name: price, dtype: int64"
            ]
          },
          "execution_count": 36,
          "metadata": {},
          "output_type": "execute_result"
        }
      ],
      "source": [
        "data.loc[[31553121], 'price']"
      ]
    },
    {
      "cell_type": "markdown",
      "metadata": {
        "id": "KdTCB-xj-EgP"
      },
      "source": [
        "* Cuarto sabor de loc: Podemos pasarle una lista de las columnas que queremos. En este caso, nos devolvera un dataframe, que contiene solo los indices que le pedimos y solo las columnas que le pedimos."
      ]
    },
    {
      "cell_type": "code",
      "execution_count": 37,
      "metadata": {
        "colab": {
          "base_uri": "https://localhost:8080/",
          "height": 143
        },
        "id": "cq9eX2gtAYZq",
        "outputId": "97579450-f010-48bc-8265-0d48752d7062"
      },
      "outputs": [
        {
          "data": {
            "text/html": [
              "<div>\n",
              "<style scoped>\n",
              "    .dataframe tbody tr th:only-of-type {\n",
              "        vertical-align: middle;\n",
              "    }\n",
              "\n",
              "    .dataframe tbody tr th {\n",
              "        vertical-align: top;\n",
              "    }\n",
              "\n",
              "    .dataframe thead th {\n",
              "        text-align: right;\n",
              "    }\n",
              "</style>\n",
              "<table border=\"1\" class=\"dataframe\">\n",
              "  <thead>\n",
              "    <tr style=\"text-align: right;\">\n",
              "      <th></th>\n",
              "      <th>price</th>\n",
              "    </tr>\n",
              "    <tr>\n",
              "      <th>id</th>\n",
              "      <th></th>\n",
              "    </tr>\n",
              "  </thead>\n",
              "  <tbody>\n",
              "    <tr>\n",
              "      <th>23726706</th>\n",
              "      <td>88</td>\n",
              "    </tr>\n",
              "    <tr>\n",
              "      <th>35815036</th>\n",
              "      <td>105</td>\n",
              "    </tr>\n",
              "  </tbody>\n",
              "</table>\n",
              "</div>"
            ],
            "text/plain": [
              "          price\n",
              "id             \n",
              "23726706     88\n",
              "35815036    105"
            ]
          },
          "execution_count": 37,
          "metadata": {},
          "output_type": "execute_result"
        }
      ],
      "source": [
        "data.loc[[23726706, 35815036], ['price']]"
      ]
    },
    {
      "cell_type": "markdown",
      "metadata": {
        "id": "ZdFjKksv-PNV"
      },
      "source": [
        "**Convención** Si bien `iloc`, que sirve para acceder a los indices y a las columnas por su posicion y no por su nombre puede ser de utilidad en ciertas situaciones, _lo evitaremos_ siempre que sea posible."
      ]
    },
    {
      "cell_type": "markdown",
      "metadata": {
        "id": "VmvBMf4jv-7P"
      },
      "source": [
        "## Haciendo cambios al dataset\n",
        "\n",
        "### Agregar una columna\n",
        "\n",
        "Si que"
      ]
    },
    {
      "cell_type": "markdown",
      "metadata": {
        "id": "pe7BzQ2vuc7g"
      },
      "source": [
        "## Ejercicio 1 (15-20 mins):\n",
        "\n",
        "1. Cargar el archivo `pokemon_data.txt` a un archivo. Deberán investigar el formato del archivo y buscar en las opciones de la función `read_csv` para poder cargarlo correctamente.\n",
        "2. ¿Como se llaman las columnas de nuestro dataset? ¿Que tipo tiene cada una?\n",
        "3. Elegir (y setear) un indice para el dataset.\n",
        "4. Obtener el ataque promedio de un pokemon.\n",
        "5. Obtener el ataque promedio de un pokemon de primera generacion.\n",
        "6. Contar cuantos pokemones legendarios y no legendarios hay.\n",
        "7. Investigar el método `.sort_values` utilizando la función `help` o la documentación de pandas. Utilizarlo para ordenar los pokemons por puntos de salud (HP) desde el mayor al menor."
      ]
    },
    {
      "cell_type": "code",
      "execution_count": 61,
      "metadata": {},
      "outputs": [
        {
          "data": {
            "text/html": [
              "<div>\n",
              "<style scoped>\n",
              "    .dataframe tbody tr th:only-of-type {\n",
              "        vertical-align: middle;\n",
              "    }\n",
              "\n",
              "    .dataframe tbody tr th {\n",
              "        vertical-align: top;\n",
              "    }\n",
              "\n",
              "    .dataframe thead th {\n",
              "        text-align: right;\n",
              "    }\n",
              "</style>\n",
              "<table border=\"1\" class=\"dataframe\">\n",
              "  <thead>\n",
              "    <tr style=\"text-align: right;\">\n",
              "      <th></th>\n",
              "      <th>Name</th>\n",
              "      <th>Type 1</th>\n",
              "      <th>Type 2</th>\n",
              "      <th>HP</th>\n",
              "      <th>Attack</th>\n",
              "      <th>Defense</th>\n",
              "      <th>Sp. Atk</th>\n",
              "      <th>Sp. Def</th>\n",
              "      <th>Speed</th>\n",
              "      <th>Generation</th>\n",
              "      <th>Legendary</th>\n",
              "    </tr>\n",
              "    <tr>\n",
              "      <th>#</th>\n",
              "      <th></th>\n",
              "      <th></th>\n",
              "      <th></th>\n",
              "      <th></th>\n",
              "      <th></th>\n",
              "      <th></th>\n",
              "      <th></th>\n",
              "      <th></th>\n",
              "      <th></th>\n",
              "      <th></th>\n",
              "      <th></th>\n",
              "    </tr>\n",
              "  </thead>\n",
              "  <tbody>\n",
              "    <tr>\n",
              "      <th>242</th>\n",
              "      <td>Blissey</td>\n",
              "      <td>Normal</td>\n",
              "      <td>NaN</td>\n",
              "      <td>255</td>\n",
              "      <td>10</td>\n",
              "      <td>10</td>\n",
              "      <td>75</td>\n",
              "      <td>135</td>\n",
              "      <td>55</td>\n",
              "      <td>2</td>\n",
              "      <td>False</td>\n",
              "    </tr>\n",
              "    <tr>\n",
              "      <th>113</th>\n",
              "      <td>Chansey</td>\n",
              "      <td>Normal</td>\n",
              "      <td>NaN</td>\n",
              "      <td>250</td>\n",
              "      <td>5</td>\n",
              "      <td>5</td>\n",
              "      <td>35</td>\n",
              "      <td>105</td>\n",
              "      <td>50</td>\n",
              "      <td>1</td>\n",
              "      <td>False</td>\n",
              "    </tr>\n",
              "    <tr>\n",
              "      <th>202</th>\n",
              "      <td>Wobbuffet</td>\n",
              "      <td>Psychic</td>\n",
              "      <td>NaN</td>\n",
              "      <td>190</td>\n",
              "      <td>33</td>\n",
              "      <td>58</td>\n",
              "      <td>33</td>\n",
              "      <td>58</td>\n",
              "      <td>33</td>\n",
              "      <td>2</td>\n",
              "      <td>False</td>\n",
              "    </tr>\n",
              "    <tr>\n",
              "      <th>321</th>\n",
              "      <td>Wailord</td>\n",
              "      <td>Water</td>\n",
              "      <td>NaN</td>\n",
              "      <td>170</td>\n",
              "      <td>90</td>\n",
              "      <td>45</td>\n",
              "      <td>90</td>\n",
              "      <td>45</td>\n",
              "      <td>60</td>\n",
              "      <td>3</td>\n",
              "      <td>False</td>\n",
              "    </tr>\n",
              "    <tr>\n",
              "      <th>594</th>\n",
              "      <td>Alomomola</td>\n",
              "      <td>Water</td>\n",
              "      <td>NaN</td>\n",
              "      <td>165</td>\n",
              "      <td>75</td>\n",
              "      <td>80</td>\n",
              "      <td>40</td>\n",
              "      <td>45</td>\n",
              "      <td>65</td>\n",
              "      <td>5</td>\n",
              "      <td>False</td>\n",
              "    </tr>\n",
              "    <tr>\n",
              "      <th>...</th>\n",
              "      <td>...</td>\n",
              "      <td>...</td>\n",
              "      <td>...</td>\n",
              "      <td>...</td>\n",
              "      <td>...</td>\n",
              "      <td>...</td>\n",
              "      <td>...</td>\n",
              "      <td>...</td>\n",
              "      <td>...</td>\n",
              "      <td>...</td>\n",
              "      <td>...</td>\n",
              "    </tr>\n",
              "    <tr>\n",
              "      <th>129</th>\n",
              "      <td>Magikarp</td>\n",
              "      <td>Water</td>\n",
              "      <td>NaN</td>\n",
              "      <td>20</td>\n",
              "      <td>10</td>\n",
              "      <td>55</td>\n",
              "      <td>15</td>\n",
              "      <td>20</td>\n",
              "      <td>80</td>\n",
              "      <td>1</td>\n",
              "      <td>False</td>\n",
              "    </tr>\n",
              "    <tr>\n",
              "      <th>349</th>\n",
              "      <td>Feebas</td>\n",
              "      <td>Water</td>\n",
              "      <td>NaN</td>\n",
              "      <td>20</td>\n",
              "      <td>15</td>\n",
              "      <td>20</td>\n",
              "      <td>10</td>\n",
              "      <td>55</td>\n",
              "      <td>80</td>\n",
              "      <td>3</td>\n",
              "      <td>False</td>\n",
              "    </tr>\n",
              "    <tr>\n",
              "      <th>355</th>\n",
              "      <td>Duskull</td>\n",
              "      <td>Ghost</td>\n",
              "      <td>NaN</td>\n",
              "      <td>20</td>\n",
              "      <td>40</td>\n",
              "      <td>90</td>\n",
              "      <td>30</td>\n",
              "      <td>90</td>\n",
              "      <td>25</td>\n",
              "      <td>3</td>\n",
              "      <td>False</td>\n",
              "    </tr>\n",
              "    <tr>\n",
              "      <th>50</th>\n",
              "      <td>Diglett</td>\n",
              "      <td>Ground</td>\n",
              "      <td>NaN</td>\n",
              "      <td>10</td>\n",
              "      <td>55</td>\n",
              "      <td>25</td>\n",
              "      <td>35</td>\n",
              "      <td>45</td>\n",
              "      <td>95</td>\n",
              "      <td>1</td>\n",
              "      <td>False</td>\n",
              "    </tr>\n",
              "    <tr>\n",
              "      <th>292</th>\n",
              "      <td>Shedinja</td>\n",
              "      <td>Bug</td>\n",
              "      <td>Ghost</td>\n",
              "      <td>1</td>\n",
              "      <td>90</td>\n",
              "      <td>45</td>\n",
              "      <td>30</td>\n",
              "      <td>30</td>\n",
              "      <td>40</td>\n",
              "      <td>3</td>\n",
              "      <td>False</td>\n",
              "    </tr>\n",
              "  </tbody>\n",
              "</table>\n",
              "<p>800 rows × 11 columns</p>\n",
              "</div>"
            ],
            "text/plain": [
              "          Name   Type 1 Type 2   HP  Attack  Defense  Sp. Atk  Sp. Def  Speed  \\\n",
              "#                                                                               \n",
              "242    Blissey   Normal    NaN  255      10       10       75      135     55   \n",
              "113    Chansey   Normal    NaN  250       5        5       35      105     50   \n",
              "202  Wobbuffet  Psychic    NaN  190      33       58       33       58     33   \n",
              "321    Wailord    Water    NaN  170      90       45       90       45     60   \n",
              "594  Alomomola    Water    NaN  165      75       80       40       45     65   \n",
              "..         ...      ...    ...  ...     ...      ...      ...      ...    ...   \n",
              "129   Magikarp    Water    NaN   20      10       55       15       20     80   \n",
              "349     Feebas    Water    NaN   20      15       20       10       55     80   \n",
              "355    Duskull    Ghost    NaN   20      40       90       30       90     25   \n",
              "50     Diglett   Ground    NaN   10      55       25       35       45     95   \n",
              "292   Shedinja      Bug  Ghost    1      90       45       30       30     40   \n",
              "\n",
              "     Generation  Legendary  \n",
              "#                           \n",
              "242           2      False  \n",
              "113           1      False  \n",
              "202           2      False  \n",
              "321           3      False  \n",
              "594           5      False  \n",
              "..          ...        ...  \n",
              "129           1      False  \n",
              "349           3      False  \n",
              "355           3      False  \n",
              "50            1      False  \n",
              "292           3      False  \n",
              "\n",
              "[800 rows x 11 columns]"
            ]
          },
          "execution_count": 61,
          "metadata": {},
          "output_type": "execute_result"
        }
      ],
      "source": [
        "data = pd.read_csv('pokemon_data.txt', sep=\"\\t\")\n",
        "#data.columns = ['#', 'Name', 'Type 1', 'Type 2', 'HP', 'Attack', 'Defense', 'Sp. Atk' 'Sp. Def', 'Speed', 'Generation', 'Legendary']\n",
        "data.set_index('#', inplace = True)\n",
        "#data.head(10)\n",
        "#print(data['Attack'].mean())\n",
        "#print(data[data['Generation']==1]['Attack'].mean())\n",
        "#data.dtypes\n",
        "data['Legendary'].value_counts()\n",
        "data.sort_values('HP', ascending = False)\n",
        "\n",
        "\n",
        "\n"
      ]
    },
    {
      "cell_type": "markdown",
      "metadata": {
        "id": "uYnQRvp8A6Tn"
      },
      "source": [
        "### Crear un DataFrame\n",
        "También podemos crear un DataFrame manualmente. ¡Hay muchas maneras de hacerlo!"
      ]
    },
    {
      "cell_type": "markdown",
      "metadata": {
        "id": "6upEgbYk-mNz"
      },
      "source": [
        "Instanciamos el objeto diciendo que indices y columnas queremos que tenga y luego \"rellenamos\" esa tabla:"
      ]
    },
    {
      "cell_type": "code",
      "execution_count": 39,
      "metadata": {
        "colab": {
          "base_uri": "https://localhost:8080/"
        },
        "id": "JWers0y6Abth",
        "outputId": "267c3ac7-ec34-4561-8fa7-da34a7b0fbab"
      },
      "outputs": [
        {
          "name": "stdout",
          "output_type": "stream",
          "text": [
            "  col1 col2\n",
            "1    2  NaN\n",
            "2  NaN    3\n",
            "3  NaN  NaN\n",
            "4  NaN  NaN\n"
          ]
        }
      ],
      "source": [
        "df = pd.DataFrame(index = [1,2,3,4], columns = ['col1', 'col2'])\n",
        "\n",
        "# Podemos utilizar loc/iloc para \"rellenar\" el DF!\n",
        "\n",
        "df.loc[1, \"col1\"] = 2\n",
        "df.loc[2, \"col2\"] = 5\n",
        "df.loc[2, \"col2\"] = 3\n",
        "# print(df.loc[2, \"col2\"])\n",
        "print(df)"
      ]
    },
    {
      "cell_type": "markdown",
      "metadata": {
        "id": "GK_hpz2S_AOa"
      },
      "source": [
        "Sin embargo, lo mas común es leer directamente el DataFrame de una fuente de datos tabular con la familia de funciones `read_*`. Hay una para cada necesidad pero las mas usadas son:\n",
        "\n",
        "* `read_csv` para leer un archivo en formato csv.\n",
        "* `read_excel` para leer un archivo en formato excel.\n",
        "\n",
        "**Tarea**: Leer la documentacion de estas funciones."
      ]
    },
    {
      "cell_type": "markdown",
      "metadata": {
        "id": "KLT9NvsSDHyM"
      },
      "source": [
        "### Operadores\n",
        "Veamos que operaciones podemos aplicarle a una Serie de pandas"
      ]
    },
    {
      "cell_type": "code",
      "execution_count": 40,
      "metadata": {
        "id": "5_T69xE5E_F4"
      },
      "outputs": [],
      "source": [
        "import numpy as np"
      ]
    },
    {
      "cell_type": "code",
      "execution_count": 41,
      "metadata": {
        "colab": {
          "base_uri": "https://localhost:8080/",
          "height": 363
        },
        "id": "Ny7Nr6BCBJ7l",
        "outputId": "b6423a90-8463-4a9b-8e3e-821e1334954b"
      },
      "outputs": [
        {
          "data": {
            "text/html": [
              "<div>\n",
              "<style scoped>\n",
              "    .dataframe tbody tr th:only-of-type {\n",
              "        vertical-align: middle;\n",
              "    }\n",
              "\n",
              "    .dataframe tbody tr th {\n",
              "        vertical-align: top;\n",
              "    }\n",
              "\n",
              "    .dataframe thead th {\n",
              "        text-align: right;\n",
              "    }\n",
              "</style>\n",
              "<table border=\"1\" class=\"dataframe\">\n",
              "  <thead>\n",
              "    <tr style=\"text-align: right;\">\n",
              "      <th></th>\n",
              "      <th>a</th>\n",
              "      <th>b</th>\n",
              "      <th>c</th>\n",
              "    </tr>\n",
              "  </thead>\n",
              "  <tbody>\n",
              "    <tr>\n",
              "      <th>0</th>\n",
              "      <td>0.984004</td>\n",
              "      <td>1</td>\n",
              "      <td>0.820772</td>\n",
              "    </tr>\n",
              "    <tr>\n",
              "      <th>1</th>\n",
              "      <td>0.594878</td>\n",
              "      <td>1</td>\n",
              "      <td>0.404122</td>\n",
              "    </tr>\n",
              "    <tr>\n",
              "      <th>2</th>\n",
              "      <td>0.493474</td>\n",
              "      <td>1</td>\n",
              "      <td>0.321008</td>\n",
              "    </tr>\n",
              "    <tr>\n",
              "      <th>3</th>\n",
              "      <td>0.511087</td>\n",
              "      <td>1</td>\n",
              "      <td>0.955615</td>\n",
              "    </tr>\n",
              "    <tr>\n",
              "      <th>4</th>\n",
              "      <td>0.174707</td>\n",
              "      <td>1</td>\n",
              "      <td>0.426527</td>\n",
              "    </tr>\n",
              "    <tr>\n",
              "      <th>5</th>\n",
              "      <td>0.653590</td>\n",
              "      <td>1</td>\n",
              "      <td>0.326692</td>\n",
              "    </tr>\n",
              "    <tr>\n",
              "      <th>6</th>\n",
              "      <td>0.962605</td>\n",
              "      <td>1</td>\n",
              "      <td>0.098943</td>\n",
              "    </tr>\n",
              "    <tr>\n",
              "      <th>7</th>\n",
              "      <td>0.663233</td>\n",
              "      <td>1</td>\n",
              "      <td>0.506805</td>\n",
              "    </tr>\n",
              "    <tr>\n",
              "      <th>8</th>\n",
              "      <td>0.902369</td>\n",
              "      <td>1</td>\n",
              "      <td>0.080534</td>\n",
              "    </tr>\n",
              "    <tr>\n",
              "      <th>9</th>\n",
              "      <td>0.037505</td>\n",
              "      <td>1</td>\n",
              "      <td>0.006446</td>\n",
              "    </tr>\n",
              "  </tbody>\n",
              "</table>\n",
              "</div>"
            ],
            "text/plain": [
              "          a  b         c\n",
              "0  0.984004  1  0.820772\n",
              "1  0.594878  1  0.404122\n",
              "2  0.493474  1  0.321008\n",
              "3  0.511087  1  0.955615\n",
              "4  0.174707  1  0.426527\n",
              "5  0.653590  1  0.326692\n",
              "6  0.962605  1  0.098943\n",
              "7  0.663233  1  0.506805\n",
              "8  0.902369  1  0.080534\n",
              "9  0.037505  1  0.006446"
            ]
          },
          "execution_count": 41,
          "metadata": {},
          "output_type": "execute_result"
        }
      ],
      "source": [
        "df = pd.DataFrame(index = list(range(10)), columns = ['a', 'b', 'c'])\n",
        "df['a'] = np.random.rand(10,1)\n",
        "df['b'] = 1\n",
        "df['c'] = np.random.rand(10,1)\n",
        "df"
      ]
    },
    {
      "cell_type": "code",
      "execution_count": 42,
      "metadata": {
        "colab": {
          "base_uri": "https://localhost:8080/"
        },
        "id": "5BusDNmXBHls",
        "outputId": "f1c39c9d-4661-4c7a-db1e-dc79fcbb0317"
      },
      "outputs": [
        {
          "data": {
            "text/plain": [
              "0    1.984004\n",
              "1    1.594878\n",
              "2    1.493474\n",
              "3    1.511087\n",
              "4    1.174707\n",
              "5    1.653590\n",
              "6    1.962605\n",
              "7    1.663233\n",
              "8    1.902369\n",
              "9    1.037505\n",
              "dtype: float64"
            ]
          },
          "execution_count": 42,
          "metadata": {},
          "output_type": "execute_result"
        }
      ],
      "source": [
        "# suma\n",
        "df['a'] + df['b']"
      ]
    },
    {
      "cell_type": "code",
      "execution_count": 43,
      "metadata": {
        "colab": {
          "base_uri": "https://localhost:8080/",
          "height": 363
        },
        "id": "ZoQOpPenExVw",
        "outputId": "24421320-20ad-460b-d727-e9c7df3a0dde"
      },
      "outputs": [
        {
          "data": {
            "text/html": [
              "<div>\n",
              "<style scoped>\n",
              "    .dataframe tbody tr th:only-of-type {\n",
              "        vertical-align: middle;\n",
              "    }\n",
              "\n",
              "    .dataframe tbody tr th {\n",
              "        vertical-align: top;\n",
              "    }\n",
              "\n",
              "    .dataframe thead th {\n",
              "        text-align: right;\n",
              "    }\n",
              "</style>\n",
              "<table border=\"1\" class=\"dataframe\">\n",
              "  <thead>\n",
              "    <tr style=\"text-align: right;\">\n",
              "      <th></th>\n",
              "      <th>a</th>\n",
              "      <th>b</th>\n",
              "      <th>c</th>\n",
              "      <th>d</th>\n",
              "    </tr>\n",
              "  </thead>\n",
              "  <tbody>\n",
              "    <tr>\n",
              "      <th>0</th>\n",
              "      <td>0.984004</td>\n",
              "      <td>1</td>\n",
              "      <td>0.820772</td>\n",
              "      <td>1.984004</td>\n",
              "    </tr>\n",
              "    <tr>\n",
              "      <th>1</th>\n",
              "      <td>0.594878</td>\n",
              "      <td>1</td>\n",
              "      <td>0.404122</td>\n",
              "      <td>1.594878</td>\n",
              "    </tr>\n",
              "    <tr>\n",
              "      <th>2</th>\n",
              "      <td>0.493474</td>\n",
              "      <td>1</td>\n",
              "      <td>0.321008</td>\n",
              "      <td>1.493474</td>\n",
              "    </tr>\n",
              "    <tr>\n",
              "      <th>3</th>\n",
              "      <td>0.511087</td>\n",
              "      <td>1</td>\n",
              "      <td>0.955615</td>\n",
              "      <td>1.511087</td>\n",
              "    </tr>\n",
              "    <tr>\n",
              "      <th>4</th>\n",
              "      <td>0.174707</td>\n",
              "      <td>1</td>\n",
              "      <td>0.426527</td>\n",
              "      <td>1.174707</td>\n",
              "    </tr>\n",
              "    <tr>\n",
              "      <th>5</th>\n",
              "      <td>0.653590</td>\n",
              "      <td>1</td>\n",
              "      <td>0.326692</td>\n",
              "      <td>1.653590</td>\n",
              "    </tr>\n",
              "    <tr>\n",
              "      <th>6</th>\n",
              "      <td>0.962605</td>\n",
              "      <td>1</td>\n",
              "      <td>0.098943</td>\n",
              "      <td>1.962605</td>\n",
              "    </tr>\n",
              "    <tr>\n",
              "      <th>7</th>\n",
              "      <td>0.663233</td>\n",
              "      <td>1</td>\n",
              "      <td>0.506805</td>\n",
              "      <td>1.663233</td>\n",
              "    </tr>\n",
              "    <tr>\n",
              "      <th>8</th>\n",
              "      <td>0.902369</td>\n",
              "      <td>1</td>\n",
              "      <td>0.080534</td>\n",
              "      <td>1.902369</td>\n",
              "    </tr>\n",
              "    <tr>\n",
              "      <th>9</th>\n",
              "      <td>0.037505</td>\n",
              "      <td>1</td>\n",
              "      <td>0.006446</td>\n",
              "      <td>1.037505</td>\n",
              "    </tr>\n",
              "  </tbody>\n",
              "</table>\n",
              "</div>"
            ],
            "text/plain": [
              "          a  b         c         d\n",
              "0  0.984004  1  0.820772  1.984004\n",
              "1  0.594878  1  0.404122  1.594878\n",
              "2  0.493474  1  0.321008  1.493474\n",
              "3  0.511087  1  0.955615  1.511087\n",
              "4  0.174707  1  0.426527  1.174707\n",
              "5  0.653590  1  0.326692  1.653590\n",
              "6  0.962605  1  0.098943  1.962605\n",
              "7  0.663233  1  0.506805  1.663233\n",
              "8  0.902369  1  0.080534  1.902369\n",
              "9  0.037505  1  0.006446  1.037505"
            ]
          },
          "execution_count": 43,
          "metadata": {},
          "output_type": "execute_result"
        }
      ],
      "source": [
        "# Podemos guardar la serie resultado en una nueva columna asi de facil:\n",
        "df['d'] = df['a'] + df['b']\n",
        "df"
      ]
    },
    {
      "cell_type": "code",
      "execution_count": 44,
      "metadata": {
        "colab": {
          "base_uri": "https://localhost:8080/"
        },
        "id": "pi9VOrOFEzTb",
        "outputId": "c0d76ed5-bb40-4ea1-8c62-9f09597e15c9"
      },
      "outputs": [
        {
          "data": {
            "text/plain": [
              "0   -0.015996\n",
              "1   -0.405122\n",
              "2   -0.506526\n",
              "3   -0.488913\n",
              "4   -0.825293\n",
              "5   -0.346410\n",
              "6   -0.037395\n",
              "7   -0.336767\n",
              "8   -0.097631\n",
              "9   -0.962495\n",
              "dtype: float64"
            ]
          },
          "execution_count": 44,
          "metadata": {},
          "output_type": "execute_result"
        }
      ],
      "source": [
        "# resta\n",
        "df['a'] - df['b']"
      ]
    },
    {
      "cell_type": "code",
      "execution_count": 45,
      "metadata": {
        "colab": {
          "base_uri": "https://localhost:8080/"
        },
        "id": "XwVywc5lFcbz",
        "outputId": "c9f15a07-9aa5-408a-c6a6-6a48e24e5cc8"
      },
      "outputs": [
        {
          "data": {
            "text/plain": [
              "0    0.984004\n",
              "1    0.594878\n",
              "2    0.493474\n",
              "3    0.511087\n",
              "4    0.174707\n",
              "5    0.653590\n",
              "6    0.962605\n",
              "7    0.663233\n",
              "8    0.902369\n",
              "9    0.037505\n",
              "dtype: float64"
            ]
          },
          "execution_count": 45,
          "metadata": {},
          "output_type": "execute_result"
        }
      ],
      "source": [
        "# multiplicación\n",
        "df['a'] * df['b']\n"
      ]
    },
    {
      "cell_type": "markdown",
      "metadata": {
        "id": "2vU6kSSwyp3p"
      },
      "source": [
        "## Ejercicio 2 (5min)\n",
        "1. Utilizando el dataset de los pokemons, calcular para cada pokemon la suma de sus estadisticas (Puntos de salud + Ataque + Defensa + Ataque Especial + Defensa especial + Velocidad)"
      ]
    },
    {
      "cell_type": "markdown",
      "metadata": {
        "id": "PC8Eh47s_swC"
      },
      "source": [
        "# El famoso NaN"
      ]
    },
    {
      "cell_type": "markdown",
      "metadata": {
        "id": "fkoKDtvp_237"
      },
      "source": [
        "Cuando trabajamos con un DataFrame, especialmente si es extenso, podemos tener problemas con lo valores NaN. Los NaN (“Not a Number“) son valores vacíos no computables que debemos tratar en nuestros conjuntos de datos antes de trabajar con ellos.\n",
        "\n",
        "**Nota** Si bien NaN significa Not a Number, es un valor que no es un número, ni un string, ni ningun tipo de objeto conocido, ni siquiera `None`!. Es un valor especial que se utiliza en pandas para marcar aqullas posiciones de la tabla donde no hay ningún valor válido.\n",
        "\n",
        "Veremos algunos códigos de Python que pueden ayudarnos a trabajar con los NaN.\n",
        "\n",
        "* Podemos utilizar lo siguiente para saber si hay algún valor NaN en nuestro DataFrame"
      ]
    },
    {
      "cell_type": "code",
      "execution_count": 46,
      "metadata": {
        "colab": {
          "base_uri": "https://localhost:8080/"
        },
        "id": "6vNkgwWi_1zf",
        "outputId": "556cf819-2aeb-45bd-a7f1-bf329bd23198"
      },
      "outputs": [
        {
          "data": {
            "text/plain": [
              "True"
            ]
          },
          "execution_count": 46,
          "metadata": {},
          "output_type": "execute_result"
        }
      ],
      "source": [
        "data.isnull().values.any()\n"
      ]
    },
    {
      "cell_type": "markdown",
      "metadata": {
        "id": "8GI53-0OAi9c"
      },
      "source": [
        "Hay valores faltantes! Para saber en que columnas se encuentran hacemos:"
      ]
    },
    {
      "cell_type": "code",
      "execution_count": 47,
      "metadata": {
        "colab": {
          "base_uri": "https://localhost:8080/"
        },
        "id": "pOqhpew4AijB",
        "outputId": "ce717756-6d61-4e2f-f61f-d1eb6fc2f395"
      },
      "outputs": [
        {
          "data": {
            "text/plain": [
              "Name          False\n",
              "Type 1        False\n",
              "Type 2         True\n",
              "HP            False\n",
              "Attack        False\n",
              "Defense       False\n",
              "Sp. Atk       False\n",
              "Sp. Def       False\n",
              "Speed         False\n",
              "Generation    False\n",
              "Legendary     False\n",
              "dtype: bool"
            ]
          },
          "execution_count": 47,
          "metadata": {},
          "output_type": "execute_result"
        }
      ],
      "source": [
        "data.isnull().any()\n"
      ]
    },
    {
      "cell_type": "markdown",
      "metadata": {
        "id": "5dA2kAIrAspA"
      },
      "source": [
        "Vemos que tenemos valores faltantes en las columnas `neighbourhood_group` y otras. Para ver _cuantos_ valores faltan, podemos reemplazar `any` por `sum` en el codigo anterior:"
      ]
    },
    {
      "cell_type": "code",
      "execution_count": 48,
      "metadata": {
        "colab": {
          "base_uri": "https://localhost:8080/"
        },
        "id": "lFLWzJIeAfzH",
        "outputId": "5c590fbe-678a-431b-cc16-a1179a5d6cea"
      },
      "outputs": [
        {
          "data": {
            "text/plain": [
              "Name            0\n",
              "Type 1          0\n",
              "Type 2        386\n",
              "HP              0\n",
              "Attack          0\n",
              "Defense         0\n",
              "Sp. Atk         0\n",
              "Sp. Def         0\n",
              "Speed           0\n",
              "Generation      0\n",
              "Legendary       0\n",
              "dtype: int64"
            ]
          },
          "execution_count": 48,
          "metadata": {},
          "output_type": "execute_result"
        }
      ],
      "source": [
        "data.isnull().sum()"
      ]
    },
    {
      "cell_type": "markdown",
      "metadata": {
        "id": "WTd_mRlEA-s8"
      },
      "source": [
        "Podemos aplicar el método `sum` nuevamente para contar cuantos NaN tenemos en total:"
      ]
    },
    {
      "cell_type": "code",
      "execution_count": 49,
      "metadata": {
        "colab": {
          "base_uri": "https://localhost:8080/"
        },
        "id": "1Li5wJ7XA-TO",
        "outputId": "472402d9-816a-492d-c0dc-4bddf4c71718"
      },
      "outputs": [
        {
          "data": {
            "text/plain": [
              "386"
            ]
          },
          "execution_count": 49,
          "metadata": {},
          "output_type": "execute_result"
        }
      ],
      "source": [
        "data.isnull().sum().sum()\n"
      ]
    },
    {
      "cell_type": "markdown",
      "metadata": {
        "id": "eyjWW5tnBPTA"
      },
      "source": [
        "Dependiendo que analisis querramos hacer, quizá tengamos que remover esos valores faltantes de nuestro DataFrame. Esto lo podemos hacer con el método `dropna`, veamos la ayuda para saber como utilizarlo:"
      ]
    },
    {
      "cell_type": "code",
      "execution_count": 50,
      "metadata": {
        "colab": {
          "base_uri": "https://localhost:8080/"
        },
        "id": "-N4zJQfuBPA9",
        "outputId": "3989fb7e-ec9c-4d22-bba4-0b9aac1830e3"
      },
      "outputs": [
        {
          "name": "stdout",
          "output_type": "stream",
          "text": [
            "Help on function dropna in module pandas.core.frame:\n",
            "\n",
            "dropna(self, *, axis: 'Axis' = 0, how: 'AnyAll | lib.NoDefault' = <no_default>, thresh: 'int | lib.NoDefault' = <no_default>, subset: 'IndexLabel | None' = None, inplace: 'bool' = False, ignore_index: 'bool' = False) -> 'DataFrame | None'\n",
            "    Remove missing values.\n",
            "    \n",
            "    See the :ref:`User Guide <missing_data>` for more on which values are\n",
            "    considered missing, and how to work with missing data.\n",
            "    \n",
            "    Parameters\n",
            "    ----------\n",
            "    axis : {0 or 'index', 1 or 'columns'}, default 0\n",
            "        Determine if rows or columns which contain missing values are\n",
            "        removed.\n",
            "    \n",
            "        * 0, or 'index' : Drop rows which contain missing values.\n",
            "        * 1, or 'columns' : Drop columns which contain missing value.\n",
            "    \n",
            "        Only a single axis is allowed.\n",
            "    \n",
            "    how : {'any', 'all'}, default 'any'\n",
            "        Determine if row or column is removed from DataFrame, when we have\n",
            "        at least one NA or all NA.\n",
            "    \n",
            "        * 'any' : If any NA values are present, drop that row or column.\n",
            "        * 'all' : If all values are NA, drop that row or column.\n",
            "    \n",
            "    thresh : int, optional\n",
            "        Require that many non-NA values. Cannot be combined with how.\n",
            "    subset : column label or sequence of labels, optional\n",
            "        Labels along other axis to consider, e.g. if you are dropping rows\n",
            "        these would be a list of columns to include.\n",
            "    inplace : bool, default False\n",
            "        Whether to modify the DataFrame rather than creating a new one.\n",
            "    ignore_index : bool, default ``False``\n",
            "        If ``True``, the resulting axis will be labeled 0, 1, …, n - 1.\n",
            "    \n",
            "        .. versionadded:: 2.0.0\n",
            "    \n",
            "    Returns\n",
            "    -------\n",
            "    DataFrame or None\n",
            "        DataFrame with NA entries dropped from it or None if ``inplace=True``.\n",
            "    \n",
            "    See Also\n",
            "    --------\n",
            "    DataFrame.isna: Indicate missing values.\n",
            "    DataFrame.notna : Indicate existing (non-missing) values.\n",
            "    DataFrame.fillna : Replace missing values.\n",
            "    Series.dropna : Drop missing values.\n",
            "    Index.dropna : Drop missing indices.\n",
            "    \n",
            "    Examples\n",
            "    --------\n",
            "    >>> df = pd.DataFrame({\"name\": ['Alfred', 'Batman', 'Catwoman'],\n",
            "    ...                    \"toy\": [np.nan, 'Batmobile', 'Bullwhip'],\n",
            "    ...                    \"born\": [pd.NaT, pd.Timestamp(\"1940-04-25\"),\n",
            "    ...                             pd.NaT]})\n",
            "    >>> df\n",
            "           name        toy       born\n",
            "    0    Alfred        NaN        NaT\n",
            "    1    Batman  Batmobile 1940-04-25\n",
            "    2  Catwoman   Bullwhip        NaT\n",
            "    \n",
            "    Drop the rows where at least one element is missing.\n",
            "    \n",
            "    >>> df.dropna()\n",
            "         name        toy       born\n",
            "    1  Batman  Batmobile 1940-04-25\n",
            "    \n",
            "    Drop the columns where at least one element is missing.\n",
            "    \n",
            "    >>> df.dropna(axis='columns')\n",
            "           name\n",
            "    0    Alfred\n",
            "    1    Batman\n",
            "    2  Catwoman\n",
            "    \n",
            "    Drop the rows where all elements are missing.\n",
            "    \n",
            "    >>> df.dropna(how='all')\n",
            "           name        toy       born\n",
            "    0    Alfred        NaN        NaT\n",
            "    1    Batman  Batmobile 1940-04-25\n",
            "    2  Catwoman   Bullwhip        NaT\n",
            "    \n",
            "    Keep only the rows with at least 2 non-NA values.\n",
            "    \n",
            "    >>> df.dropna(thresh=2)\n",
            "           name        toy       born\n",
            "    1    Batman  Batmobile 1940-04-25\n",
            "    2  Catwoman   Bullwhip        NaT\n",
            "    \n",
            "    Define in which columns to look for missing values.\n",
            "    \n",
            "    >>> df.dropna(subset=['name', 'toy'])\n",
            "           name        toy       born\n",
            "    1    Batman  Batmobile 1940-04-25\n",
            "    2  Catwoman   Bullwhip        NaT\n",
            "\n"
          ]
        }
      ],
      "source": [
        "help(pd.DataFrame.dropna)"
      ]
    },
    {
      "cell_type": "markdown",
      "metadata": {
        "id": "5zO2HdyRBlDw"
      },
      "source": [
        "Aja! Lo podemos usar en dos modos. Para obtener un DataFrame sin los indices que tienen valores faltantes para alguna columna:"
      ]
    },
    {
      "cell_type": "code",
      "execution_count": 51,
      "metadata": {
        "colab": {
          "base_uri": "https://localhost:8080/"
        },
        "id": "JX4QyKqnBkDR",
        "outputId": "0b00bb3f-523d-4c8a-f5ec-e09b2c570a9a"
      },
      "outputs": [
        {
          "name": "stdout",
          "output_type": "stream",
          "text": [
            "(414, 11)\n"
          ]
        }
      ],
      "source": [
        "data_sin_indices_con_valores_faltantes = data.dropna(axis='index')\n",
        "print(data_sin_indices_con_valores_faltantes.shape)"
      ]
    },
    {
      "cell_type": "code",
      "execution_count": 52,
      "metadata": {
        "colab": {
          "base_uri": "https://localhost:8080/",
          "height": 144
        },
        "id": "EHSKv2fEljOw",
        "outputId": "886f56df-9d85-4bf7-d4a8-b65ea63ad552"
      },
      "outputs": [
        {
          "data": {
            "text/html": [
              "<div>\n",
              "<style scoped>\n",
              "    .dataframe tbody tr th:only-of-type {\n",
              "        vertical-align: middle;\n",
              "    }\n",
              "\n",
              "    .dataframe tbody tr th {\n",
              "        vertical-align: top;\n",
              "    }\n",
              "\n",
              "    .dataframe thead th {\n",
              "        text-align: right;\n",
              "    }\n",
              "</style>\n",
              "<table border=\"1\" class=\"dataframe\">\n",
              "  <thead>\n",
              "    <tr style=\"text-align: right;\">\n",
              "      <th></th>\n",
              "      <th>Name</th>\n",
              "      <th>Type 1</th>\n",
              "      <th>Type 2</th>\n",
              "      <th>HP</th>\n",
              "      <th>Attack</th>\n",
              "      <th>Defense</th>\n",
              "      <th>Sp. Atk</th>\n",
              "      <th>Sp. Def</th>\n",
              "      <th>Speed</th>\n",
              "      <th>Generation</th>\n",
              "      <th>Legendary</th>\n",
              "    </tr>\n",
              "    <tr>\n",
              "      <th>#</th>\n",
              "      <th></th>\n",
              "      <th></th>\n",
              "      <th></th>\n",
              "      <th></th>\n",
              "      <th></th>\n",
              "      <th></th>\n",
              "      <th></th>\n",
              "      <th></th>\n",
              "      <th></th>\n",
              "      <th></th>\n",
              "      <th></th>\n",
              "    </tr>\n",
              "  </thead>\n",
              "  <tbody>\n",
              "    <tr>\n",
              "      <th>1</th>\n",
              "      <td>Bulbasaur</td>\n",
              "      <td>Grass</td>\n",
              "      <td>Poison</td>\n",
              "      <td>45</td>\n",
              "      <td>49</td>\n",
              "      <td>49</td>\n",
              "      <td>65</td>\n",
              "      <td>65</td>\n",
              "      <td>45</td>\n",
              "      <td>1</td>\n",
              "      <td>False</td>\n",
              "    </tr>\n",
              "    <tr>\n",
              "      <th>2</th>\n",
              "      <td>Ivysaur</td>\n",
              "      <td>Grass</td>\n",
              "      <td>Poison</td>\n",
              "      <td>60</td>\n",
              "      <td>62</td>\n",
              "      <td>63</td>\n",
              "      <td>80</td>\n",
              "      <td>80</td>\n",
              "      <td>60</td>\n",
              "      <td>1</td>\n",
              "      <td>False</td>\n",
              "    </tr>\n",
              "    <tr>\n",
              "      <th>3</th>\n",
              "      <td>Venusaur</td>\n",
              "      <td>Grass</td>\n",
              "      <td>Poison</td>\n",
              "      <td>80</td>\n",
              "      <td>82</td>\n",
              "      <td>83</td>\n",
              "      <td>100</td>\n",
              "      <td>100</td>\n",
              "      <td>80</td>\n",
              "      <td>1</td>\n",
              "      <td>False</td>\n",
              "    </tr>\n",
              "    <tr>\n",
              "      <th>3</th>\n",
              "      <td>VenusaurMega Venusaur</td>\n",
              "      <td>Grass</td>\n",
              "      <td>Poison</td>\n",
              "      <td>80</td>\n",
              "      <td>100</td>\n",
              "      <td>123</td>\n",
              "      <td>122</td>\n",
              "      <td>120</td>\n",
              "      <td>80</td>\n",
              "      <td>1</td>\n",
              "      <td>False</td>\n",
              "    </tr>\n",
              "    <tr>\n",
              "      <th>6</th>\n",
              "      <td>Charizard</td>\n",
              "      <td>Fire</td>\n",
              "      <td>Flying</td>\n",
              "      <td>78</td>\n",
              "      <td>84</td>\n",
              "      <td>78</td>\n",
              "      <td>109</td>\n",
              "      <td>85</td>\n",
              "      <td>100</td>\n",
              "      <td>1</td>\n",
              "      <td>False</td>\n",
              "    </tr>\n",
              "    <tr>\n",
              "      <th>...</th>\n",
              "      <td>...</td>\n",
              "      <td>...</td>\n",
              "      <td>...</td>\n",
              "      <td>...</td>\n",
              "      <td>...</td>\n",
              "      <td>...</td>\n",
              "      <td>...</td>\n",
              "      <td>...</td>\n",
              "      <td>...</td>\n",
              "      <td>...</td>\n",
              "      <td>...</td>\n",
              "    </tr>\n",
              "    <tr>\n",
              "      <th>719</th>\n",
              "      <td>Diancie</td>\n",
              "      <td>Rock</td>\n",
              "      <td>Fairy</td>\n",
              "      <td>50</td>\n",
              "      <td>100</td>\n",
              "      <td>150</td>\n",
              "      <td>100</td>\n",
              "      <td>150</td>\n",
              "      <td>50</td>\n",
              "      <td>6</td>\n",
              "      <td>True</td>\n",
              "    </tr>\n",
              "    <tr>\n",
              "      <th>719</th>\n",
              "      <td>DiancieMega Diancie</td>\n",
              "      <td>Rock</td>\n",
              "      <td>Fairy</td>\n",
              "      <td>50</td>\n",
              "      <td>160</td>\n",
              "      <td>110</td>\n",
              "      <td>160</td>\n",
              "      <td>110</td>\n",
              "      <td>110</td>\n",
              "      <td>6</td>\n",
              "      <td>True</td>\n",
              "    </tr>\n",
              "    <tr>\n",
              "      <th>720</th>\n",
              "      <td>HoopaHoopa Confined</td>\n",
              "      <td>Psychic</td>\n",
              "      <td>Ghost</td>\n",
              "      <td>80</td>\n",
              "      <td>110</td>\n",
              "      <td>60</td>\n",
              "      <td>150</td>\n",
              "      <td>130</td>\n",
              "      <td>70</td>\n",
              "      <td>6</td>\n",
              "      <td>True</td>\n",
              "    </tr>\n",
              "    <tr>\n",
              "      <th>720</th>\n",
              "      <td>HoopaHoopa Unbound</td>\n",
              "      <td>Psychic</td>\n",
              "      <td>Dark</td>\n",
              "      <td>80</td>\n",
              "      <td>160</td>\n",
              "      <td>60</td>\n",
              "      <td>170</td>\n",
              "      <td>130</td>\n",
              "      <td>80</td>\n",
              "      <td>6</td>\n",
              "      <td>True</td>\n",
              "    </tr>\n",
              "    <tr>\n",
              "      <th>721</th>\n",
              "      <td>Volcanion</td>\n",
              "      <td>Fire</td>\n",
              "      <td>Water</td>\n",
              "      <td>80</td>\n",
              "      <td>110</td>\n",
              "      <td>120</td>\n",
              "      <td>130</td>\n",
              "      <td>90</td>\n",
              "      <td>70</td>\n",
              "      <td>6</td>\n",
              "      <td>True</td>\n",
              "    </tr>\n",
              "  </tbody>\n",
              "</table>\n",
              "<p>414 rows × 11 columns</p>\n",
              "</div>"
            ],
            "text/plain": [
              "                      Name   Type 1  Type 2  HP  Attack  Defense  Sp. Atk  \\\n",
              "#                                                                           \n",
              "1                Bulbasaur    Grass  Poison  45      49       49       65   \n",
              "2                  Ivysaur    Grass  Poison  60      62       63       80   \n",
              "3                 Venusaur    Grass  Poison  80      82       83      100   \n",
              "3    VenusaurMega Venusaur    Grass  Poison  80     100      123      122   \n",
              "6                Charizard     Fire  Flying  78      84       78      109   \n",
              "..                     ...      ...     ...  ..     ...      ...      ...   \n",
              "719                Diancie     Rock   Fairy  50     100      150      100   \n",
              "719    DiancieMega Diancie     Rock   Fairy  50     160      110      160   \n",
              "720    HoopaHoopa Confined  Psychic   Ghost  80     110       60      150   \n",
              "720     HoopaHoopa Unbound  Psychic    Dark  80     160       60      170   \n",
              "721              Volcanion     Fire   Water  80     110      120      130   \n",
              "\n",
              "     Sp. Def  Speed  Generation  Legendary  \n",
              "#                                           \n",
              "1         65     45           1      False  \n",
              "2         80     60           1      False  \n",
              "3        100     80           1      False  \n",
              "3        120     80           1      False  \n",
              "6         85    100           1      False  \n",
              "..       ...    ...         ...        ...  \n",
              "719      150     50           6       True  \n",
              "719      110    110           6       True  \n",
              "720      130     70           6       True  \n",
              "720      130     80           6       True  \n",
              "721       90     70           6       True  \n",
              "\n",
              "[414 rows x 11 columns]"
            ]
          },
          "execution_count": 52,
          "metadata": {},
          "output_type": "execute_result"
        }
      ],
      "source": [
        "data_sin_indices_con_valores_faltantes"
      ]
    },
    {
      "cell_type": "markdown",
      "metadata": {},
      "source": []
    },
    {
      "cell_type": "markdown",
      "metadata": {
        "id": "qqfcKg-3COVb"
      },
      "source": [
        "No nos queda ningun valor! Esto es porque la columna `neighbourhood_group` era vacia, no contenia ningun valor. Entonces en este caso puede ser mejor obtener el dataframe que tenga todos los datos - pero sin las columnas que tienen valores faltantes."
      ]
    },
    {
      "cell_type": "code",
      "execution_count": 53,
      "metadata": {
        "colab": {
          "base_uri": "https://localhost:8080/"
        },
        "id": "EvpxA7DbCd_D",
        "outputId": "f0820c87-8609-41c3-e8fb-cfee34d4e9d9"
      },
      "outputs": [
        {
          "name": "stdout",
          "output_type": "stream",
          "text": [
            "(800, 10)\n"
          ]
        }
      ],
      "source": [
        "data_sin_columnas_con_valores_faltantes = data.dropna(axis='columns')\n",
        "print(data_sin_columnas_con_valores_faltantes.shape)"
      ]
    },
    {
      "cell_type": "markdown",
      "metadata": {
        "id": "l3Jglu6mCstR"
      },
      "source": [
        "Otra opción, que puede ser útil en ciertos casos, es reemplazar todos los valores faltantes por algo que sea un valor típico para dicha variable. Para ejemplificar, veamos como podriamos \"rellenar\" los valores de `reviews_per_month` con 0, o con el valor promedio de todos los valores para los que si tengo el dato:"
      ]
    },
    {
      "cell_type": "code",
      "execution_count": 54,
      "metadata": {
        "colab": {
          "base_uri": "https://localhost:8080/"
        },
        "id": "f2Grf84GDhVu",
        "outputId": "6293d3cf-b5b9-41a7-de16-befe0e56b765"
      },
      "outputs": [
        {
          "ename": "KeyError",
          "evalue": "'reviews_per_month'",
          "output_type": "error",
          "traceback": [
            "\u001b[1;31m---------------------------------------------------------------------------\u001b[0m",
            "\u001b[1;31mKeyError\u001b[0m                                  Traceback (most recent call last)",
            "File \u001b[1;32mc:\\Users\\Franco\\miniconda3\\Lib\\site-packages\\pandas\\core\\indexes\\base.py:3790\u001b[0m, in \u001b[0;36mIndex.get_loc\u001b[1;34m(self, key)\u001b[0m\n\u001b[0;32m   3789\u001b[0m \u001b[39mtry\u001b[39;00m:\n\u001b[1;32m-> 3790\u001b[0m     \u001b[39mreturn\u001b[39;00m \u001b[39mself\u001b[39;49m\u001b[39m.\u001b[39;49m_engine\u001b[39m.\u001b[39;49mget_loc(casted_key)\n\u001b[0;32m   3791\u001b[0m \u001b[39mexcept\u001b[39;00m \u001b[39mKeyError\u001b[39;00m \u001b[39mas\u001b[39;00m err:\n",
            "File \u001b[1;32mindex.pyx:152\u001b[0m, in \u001b[0;36mpandas._libs.index.IndexEngine.get_loc\u001b[1;34m()\u001b[0m\n",
            "File \u001b[1;32mindex.pyx:181\u001b[0m, in \u001b[0;36mpandas._libs.index.IndexEngine.get_loc\u001b[1;34m()\u001b[0m\n",
            "File \u001b[1;32mpandas\\_libs\\hashtable_class_helper.pxi:7080\u001b[0m, in \u001b[0;36mpandas._libs.hashtable.PyObjectHashTable.get_item\u001b[1;34m()\u001b[0m\n",
            "File \u001b[1;32mpandas\\_libs\\hashtable_class_helper.pxi:7088\u001b[0m, in \u001b[0;36mpandas._libs.hashtable.PyObjectHashTable.get_item\u001b[1;34m()\u001b[0m\n",
            "\u001b[1;31mKeyError\u001b[0m: 'reviews_per_month'",
            "\nThe above exception was the direct cause of the following exception:\n",
            "\u001b[1;31mKeyError\u001b[0m                                  Traceback (most recent call last)",
            "\u001b[1;32mc:\\Users\\Franco\\Desktop\\TUIA\\Prog II\\Data Analysis\\9_1_Pandas.ipynb Cell 103\u001b[0m line \u001b[0;36m1\n\u001b[1;32m----> <a href='vscode-notebook-cell:/c%3A/Users/Franco/Desktop/TUIA/Prog%20II/Data%20Analysis/9_1_Pandas.ipynb#Y202sZmlsZQ%3D%3D?line=0'>1</a>\u001b[0m data[\u001b[39m'\u001b[39;49m\u001b[39mreviews_per_month\u001b[39;49m\u001b[39m'\u001b[39;49m]\n",
            "File \u001b[1;32mc:\\Users\\Franco\\miniconda3\\Lib\\site-packages\\pandas\\core\\frame.py:3896\u001b[0m, in \u001b[0;36mDataFrame.__getitem__\u001b[1;34m(self, key)\u001b[0m\n\u001b[0;32m   3894\u001b[0m \u001b[39mif\u001b[39;00m \u001b[39mself\u001b[39m\u001b[39m.\u001b[39mcolumns\u001b[39m.\u001b[39mnlevels \u001b[39m>\u001b[39m \u001b[39m1\u001b[39m:\n\u001b[0;32m   3895\u001b[0m     \u001b[39mreturn\u001b[39;00m \u001b[39mself\u001b[39m\u001b[39m.\u001b[39m_getitem_multilevel(key)\n\u001b[1;32m-> 3896\u001b[0m indexer \u001b[39m=\u001b[39m \u001b[39mself\u001b[39;49m\u001b[39m.\u001b[39;49mcolumns\u001b[39m.\u001b[39;49mget_loc(key)\n\u001b[0;32m   3897\u001b[0m \u001b[39mif\u001b[39;00m is_integer(indexer):\n\u001b[0;32m   3898\u001b[0m     indexer \u001b[39m=\u001b[39m [indexer]\n",
            "File \u001b[1;32mc:\\Users\\Franco\\miniconda3\\Lib\\site-packages\\pandas\\core\\indexes\\base.py:3797\u001b[0m, in \u001b[0;36mIndex.get_loc\u001b[1;34m(self, key)\u001b[0m\n\u001b[0;32m   3792\u001b[0m     \u001b[39mif\u001b[39;00m \u001b[39misinstance\u001b[39m(casted_key, \u001b[39mslice\u001b[39m) \u001b[39mor\u001b[39;00m (\n\u001b[0;32m   3793\u001b[0m         \u001b[39misinstance\u001b[39m(casted_key, abc\u001b[39m.\u001b[39mIterable)\n\u001b[0;32m   3794\u001b[0m         \u001b[39mand\u001b[39;00m \u001b[39many\u001b[39m(\u001b[39misinstance\u001b[39m(x, \u001b[39mslice\u001b[39m) \u001b[39mfor\u001b[39;00m x \u001b[39min\u001b[39;00m casted_key)\n\u001b[0;32m   3795\u001b[0m     ):\n\u001b[0;32m   3796\u001b[0m         \u001b[39mraise\u001b[39;00m InvalidIndexError(key)\n\u001b[1;32m-> 3797\u001b[0m     \u001b[39mraise\u001b[39;00m \u001b[39mKeyError\u001b[39;00m(key) \u001b[39mfrom\u001b[39;00m \u001b[39merr\u001b[39;00m\n\u001b[0;32m   3798\u001b[0m \u001b[39mexcept\u001b[39;00m \u001b[39mTypeError\u001b[39;00m:\n\u001b[0;32m   3799\u001b[0m     \u001b[39m# If we have a listlike key, _check_indexing_error will raise\u001b[39;00m\n\u001b[0;32m   3800\u001b[0m     \u001b[39m#  InvalidIndexError. Otherwise we fall through and re-raise\u001b[39;00m\n\u001b[0;32m   3801\u001b[0m     \u001b[39m#  the TypeError.\u001b[39;00m\n\u001b[0;32m   3802\u001b[0m     \u001b[39mself\u001b[39m\u001b[39m.\u001b[39m_check_indexing_error(key)\n",
            "\u001b[1;31mKeyError\u001b[0m: 'reviews_per_month'"
          ]
        }
      ],
      "source": [
        "data['reviews_per_month']"
      ]
    },
    {
      "cell_type": "code",
      "execution_count": null,
      "metadata": {
        "colab": {
          "base_uri": "https://localhost:8080/"
        },
        "id": "QNhCa61zDnHu",
        "outputId": "bc3f30d3-fefb-4502-8c52-9e8e6e526019"
      },
      "outputs": [
        {
          "data": {
            "text/plain": [
              "id\n",
              "23726706    1.53\n",
              "35815036    2.65\n",
              "31553121    2.02\n",
              "34745823    1.08\n",
              "44586947    0.68\n",
              "            ... \n",
              "48005583    0.77\n",
              "29532926    2.64\n",
              "35760705    0.00\n",
              "36900951    0.35\n",
              "40575103    0.96\n",
              "Name: reviews_per_month, Length: 6173, dtype: float64"
            ]
          },
          "execution_count": 112,
          "metadata": {},
          "output_type": "execute_result"
        }
      ],
      "source": [
        "data['reviews_per_month'].fillna(0)"
      ]
    },
    {
      "cell_type": "code",
      "execution_count": null,
      "metadata": {
        "colab": {
          "base_uri": "https://localhost:8080/"
        },
        "id": "XEnahGRYDYFZ",
        "outputId": "02b6f251-d8d7-4848-920b-438116b27d3b"
      },
      "outputs": [
        {
          "data": {
            "text/plain": [
              "id\n",
              "23726706    1.530000\n",
              "35815036    2.650000\n",
              "31553121    2.020000\n",
              "34745823    1.080000\n",
              "44586947    0.680000\n",
              "              ...   \n",
              "48005583    0.770000\n",
              "29532926    2.640000\n",
              "35760705    1.211241\n",
              "36900951    0.350000\n",
              "40575103    0.960000\n",
              "Name: reviews_per_month, Length: 6173, dtype: float64"
            ]
          },
          "execution_count": 113,
          "metadata": {},
          "output_type": "execute_result"
        }
      ],
      "source": [
        "data['reviews_per_month'].fillna(data['reviews_per_month'].mean())"
      ]
    },
    {
      "cell_type": "markdown",
      "metadata": {
        "id": "9qRN7BbGDsce"
      },
      "source": [
        "# Filtrado de datos\n",
        "\n",
        "Muchas veces no queremos realizar el analisis sobre todo el dataFrame, si no solo sobre una porcion. Para ello pandas nos permite realizar filtrados.\n",
        "\n",
        "El filtrado se hace por condiciones, es decir nos quedamos con el subconjunto de datos que cumple cierta restricción. Por ejemplo, para obtener todos los departamentos que tiene al menos dos reviews por mes:"
      ]
    },
    {
      "cell_type": "code",
      "execution_count": null,
      "metadata": {
        "colab": {
          "base_uri": "https://localhost:8080/",
          "height": 1000
        },
        "id": "Z083wuZbEeoN",
        "outputId": "f6575afe-6f72-4c37-c8f7-03a6508203a9"
      },
      "outputs": [
        {
          "data": {
            "text/html": [
              "<div>\n",
              "<style scoped>\n",
              "    .dataframe tbody tr th:only-of-type {\n",
              "        vertical-align: middle;\n",
              "    }\n",
              "\n",
              "    .dataframe tbody tr th {\n",
              "        vertical-align: top;\n",
              "    }\n",
              "\n",
              "    .dataframe thead th {\n",
              "        text-align: right;\n",
              "    }\n",
              "</style>\n",
              "<table border=\"1\" class=\"dataframe\">\n",
              "  <thead>\n",
              "    <tr style=\"text-align: right;\">\n",
              "      <th></th>\n",
              "      <th>name</th>\n",
              "      <th>host_id</th>\n",
              "      <th>host_name</th>\n",
              "      <th>neighbourhood_group</th>\n",
              "      <th>neighbourhood</th>\n",
              "      <th>latitude</th>\n",
              "      <th>longitude</th>\n",
              "      <th>room_type</th>\n",
              "      <th>price</th>\n",
              "      <th>minimum_nights</th>\n",
              "      <th>number_of_reviews</th>\n",
              "      <th>last_review</th>\n",
              "      <th>reviews_per_month</th>\n",
              "      <th>calculated_host_listings_count</th>\n",
              "      <th>availability_365</th>\n",
              "      <th>number_of_reviews_ltm</th>\n",
              "      <th>license</th>\n",
              "    </tr>\n",
              "    <tr>\n",
              "      <th>id</th>\n",
              "      <th></th>\n",
              "      <th></th>\n",
              "      <th></th>\n",
              "      <th></th>\n",
              "      <th></th>\n",
              "      <th></th>\n",
              "      <th></th>\n",
              "      <th></th>\n",
              "      <th></th>\n",
              "      <th></th>\n",
              "      <th></th>\n",
              "      <th></th>\n",
              "      <th></th>\n",
              "      <th></th>\n",
              "      <th></th>\n",
              "      <th></th>\n",
              "      <th></th>\n",
              "    </tr>\n",
              "  </thead>\n",
              "  <tbody>\n",
              "    <tr>\n",
              "      <th>35815036</th>\n",
              "      <td>Vrijstaand vakantiehuis, privé tuin aan het water</td>\n",
              "      <td>269425139</td>\n",
              "      <td>Lydia</td>\n",
              "      <td>NaN</td>\n",
              "      <td>Noord-Oost</td>\n",
              "      <td>52.424190</td>\n",
              "      <td>4.956890</td>\n",
              "      <td>Entire home/apt</td>\n",
              "      <td>105</td>\n",
              "      <td>3</td>\n",
              "      <td>95</td>\n",
              "      <td>2022-06-02</td>\n",
              "      <td>2.65</td>\n",
              "      <td>1</td>\n",
              "      <td>243</td>\n",
              "      <td>36</td>\n",
              "      <td>NaN</td>\n",
              "    </tr>\n",
              "    <tr>\n",
              "      <th>31553121</th>\n",
              "      <td>Quiet Guesthouse near Amsterdam</td>\n",
              "      <td>76806621</td>\n",
              "      <td>Ralf</td>\n",
              "      <td>NaN</td>\n",
              "      <td>Noord-West</td>\n",
              "      <td>52.432370</td>\n",
              "      <td>4.918210</td>\n",
              "      <td>Entire home/apt</td>\n",
              "      <td>152</td>\n",
              "      <td>2</td>\n",
              "      <td>82</td>\n",
              "      <td>2022-05-29</td>\n",
              "      <td>2.02</td>\n",
              "      <td>1</td>\n",
              "      <td>3</td>\n",
              "      <td>26</td>\n",
              "      <td>NaN</td>\n",
              "    </tr>\n",
              "    <tr>\n",
              "      <th>19572024</th>\n",
              "      <td>Coachhouse, in nature only 5 km from Amsterdam</td>\n",
              "      <td>81955946</td>\n",
              "      <td>Amber</td>\n",
              "      <td>NaN</td>\n",
              "      <td>Watergraafsmeer</td>\n",
              "      <td>52.307390</td>\n",
              "      <td>4.908330</td>\n",
              "      <td>Entire home/apt</td>\n",
              "      <td>279</td>\n",
              "      <td>3</td>\n",
              "      <td>126</td>\n",
              "      <td>2022-05-29</td>\n",
              "      <td>2.13</td>\n",
              "      <td>2</td>\n",
              "      <td>298</td>\n",
              "      <td>23</td>\n",
              "      <td>NaN</td>\n",
              "    </tr>\n",
              "    <tr>\n",
              "      <th>620821365404674198</th>\n",
              "      <td>Homestay, 10 minutes away from the city center.</td>\n",
              "      <td>405567985</td>\n",
              "      <td>Homestay Amsterdam</td>\n",
              "      <td>NaN</td>\n",
              "      <td>Bijlmer-Centrum</td>\n",
              "      <td>52.329773</td>\n",
              "      <td>4.937512</td>\n",
              "      <td>Private room</td>\n",
              "      <td>120</td>\n",
              "      <td>1</td>\n",
              "      <td>3</td>\n",
              "      <td>2022-05-30</td>\n",
              "      <td>3.00</td>\n",
              "      <td>1</td>\n",
              "      <td>343</td>\n",
              "      <td>3</td>\n",
              "      <td>NaN</td>\n",
              "    </tr>\n",
              "    <tr>\n",
              "      <th>33241583</th>\n",
              "      <td>ID APARTHOTEL - *** 3-Bedroom Apartment</td>\n",
              "      <td>243869294</td>\n",
              "      <td>Sophie</td>\n",
              "      <td>NaN</td>\n",
              "      <td>Geuzenveld - Slotermeer</td>\n",
              "      <td>52.388600</td>\n",
              "      <td>4.833310</td>\n",
              "      <td>Private room</td>\n",
              "      <td>742</td>\n",
              "      <td>1</td>\n",
              "      <td>79</td>\n",
              "      <td>2022-05-22</td>\n",
              "      <td>2.14</td>\n",
              "      <td>5</td>\n",
              "      <td>342</td>\n",
              "      <td>33</td>\n",
              "      <td>Exempt</td>\n",
              "    </tr>\n",
              "    <tr>\n",
              "      <th>...</th>\n",
              "      <td>...</td>\n",
              "      <td>...</td>\n",
              "      <td>...</td>\n",
              "      <td>...</td>\n",
              "      <td>...</td>\n",
              "      <td>...</td>\n",
              "      <td>...</td>\n",
              "      <td>...</td>\n",
              "      <td>...</td>\n",
              "      <td>...</td>\n",
              "      <td>...</td>\n",
              "      <td>...</td>\n",
              "      <td>...</td>\n",
              "      <td>...</td>\n",
              "      <td>...</td>\n",
              "      <td>...</td>\n",
              "      <td>...</td>\n",
              "    </tr>\n",
              "    <tr>\n",
              "      <th>54326276</th>\n",
              "      <td>The Sixpack - 6 person bunkbed room.</td>\n",
              "      <td>342059962</td>\n",
              "      <td>David</td>\n",
              "      <td>NaN</td>\n",
              "      <td>Geuzenveld - Slotermeer</td>\n",
              "      <td>52.385670</td>\n",
              "      <td>4.831610</td>\n",
              "      <td>Private room</td>\n",
              "      <td>270</td>\n",
              "      <td>1</td>\n",
              "      <td>11</td>\n",
              "      <td>2022-05-22</td>\n",
              "      <td>3.11</td>\n",
              "      <td>12</td>\n",
              "      <td>350</td>\n",
              "      <td>11</td>\n",
              "      <td>Exempt</td>\n",
              "    </tr>\n",
              "    <tr>\n",
              "      <th>557194226234491250</th>\n",
              "      <td>Charming cottage in rural area, 5 km to Amsterdam</td>\n",
              "      <td>11029411</td>\n",
              "      <td>Yvonne</td>\n",
              "      <td>NaN</td>\n",
              "      <td>Watergraafsmeer</td>\n",
              "      <td>52.311409</td>\n",
              "      <td>4.906022</td>\n",
              "      <td>Entire home/apt</td>\n",
              "      <td>272</td>\n",
              "      <td>3</td>\n",
              "      <td>6</td>\n",
              "      <td>2022-05-29</td>\n",
              "      <td>3.27</td>\n",
              "      <td>1</td>\n",
              "      <td>6</td>\n",
              "      <td>6</td>\n",
              "      <td>NaN</td>\n",
              "    </tr>\n",
              "    <tr>\n",
              "      <th>854052</th>\n",
              "      <td>Rustig slapen na een drukke dag in Amsterdam</td>\n",
              "      <td>4043241</td>\n",
              "      <td>Kees&amp;Karin</td>\n",
              "      <td>NaN</td>\n",
              "      <td>Watergraafsmeer</td>\n",
              "      <td>52.340752</td>\n",
              "      <td>4.958290</td>\n",
              "      <td>Private room</td>\n",
              "      <td>65</td>\n",
              "      <td>2</td>\n",
              "      <td>289</td>\n",
              "      <td>2022-05-30</td>\n",
              "      <td>2.52</td>\n",
              "      <td>1</td>\n",
              "      <td>1</td>\n",
              "      <td>21</td>\n",
              "      <td>03845fb98b259492e582</td>\n",
              "    </tr>\n",
              "    <tr>\n",
              "      <th>21469420</th>\n",
              "      <td>Private Tiny house/studio near airport &amp; Amste...</td>\n",
              "      <td>60528210</td>\n",
              "      <td>Pauline</td>\n",
              "      <td>NaN</td>\n",
              "      <td>De Aker - Nieuw Sloten</td>\n",
              "      <td>52.339860</td>\n",
              "      <td>4.785920</td>\n",
              "      <td>Entire home/apt</td>\n",
              "      <td>79</td>\n",
              "      <td>2</td>\n",
              "      <td>273</td>\n",
              "      <td>2022-05-31</td>\n",
              "      <td>4.88</td>\n",
              "      <td>1</td>\n",
              "      <td>2</td>\n",
              "      <td>37</td>\n",
              "      <td>NaN</td>\n",
              "    </tr>\n",
              "    <tr>\n",
              "      <th>29532926</th>\n",
              "      <td>Cozy apartment close to Amsterdam</td>\n",
              "      <td>222378910</td>\n",
              "      <td>Janna</td>\n",
              "      <td>NaN</td>\n",
              "      <td>Watergraafsmeer</td>\n",
              "      <td>52.346680</td>\n",
              "      <td>4.963590</td>\n",
              "      <td>Entire home/apt</td>\n",
              "      <td>95</td>\n",
              "      <td>1</td>\n",
              "      <td>115</td>\n",
              "      <td>2022-05-19</td>\n",
              "      <td>2.64</td>\n",
              "      <td>1</td>\n",
              "      <td>0</td>\n",
              "      <td>6</td>\n",
              "      <td>0384 1A62 6181 878C C2AB</td>\n",
              "    </tr>\n",
              "  </tbody>\n",
              "</table>\n",
              "<p>1049 rows × 17 columns</p>\n",
              "</div>"
            ],
            "text/plain": [
              "                                                                 name  \\\n",
              "id                                                                      \n",
              "35815036            Vrijstaand vakantiehuis, privé tuin aan het water   \n",
              "31553121                              Quiet Guesthouse near Amsterdam   \n",
              "19572024               Coachhouse, in nature only 5 km from Amsterdam   \n",
              "620821365404674198    Homestay, 10 minutes away from the city center.   \n",
              "33241583                      ID APARTHOTEL - *** 3-Bedroom Apartment   \n",
              "...                                                               ...   \n",
              "54326276                         The Sixpack - 6 person bunkbed room.   \n",
              "557194226234491250  Charming cottage in rural area, 5 km to Amsterdam   \n",
              "854052                   Rustig slapen na een drukke dag in Amsterdam   \n",
              "21469420            Private Tiny house/studio near airport & Amste...   \n",
              "29532926                            Cozy apartment close to Amsterdam   \n",
              "\n",
              "                      host_id           host_name  neighbourhood_group  \\\n",
              "id                                                                       \n",
              "35815036            269425139               Lydia                  NaN   \n",
              "31553121             76806621                Ralf                  NaN   \n",
              "19572024             81955946               Amber                  NaN   \n",
              "620821365404674198  405567985  Homestay Amsterdam                  NaN   \n",
              "33241583            243869294              Sophie                  NaN   \n",
              "...                       ...                 ...                  ...   \n",
              "54326276            342059962               David                  NaN   \n",
              "557194226234491250   11029411              Yvonne                  NaN   \n",
              "854052                4043241          Kees&Karin                  NaN   \n",
              "21469420             60528210             Pauline                  NaN   \n",
              "29532926            222378910               Janna                  NaN   \n",
              "\n",
              "                              neighbourhood   latitude  longitude  \\\n",
              "id                                                                  \n",
              "35815036                         Noord-Oost  52.424190   4.956890   \n",
              "31553121                         Noord-West  52.432370   4.918210   \n",
              "19572024                    Watergraafsmeer  52.307390   4.908330   \n",
              "620821365404674198          Bijlmer-Centrum  52.329773   4.937512   \n",
              "33241583            Geuzenveld - Slotermeer  52.388600   4.833310   \n",
              "...                                     ...        ...        ...   \n",
              "54326276            Geuzenveld - Slotermeer  52.385670   4.831610   \n",
              "557194226234491250          Watergraafsmeer  52.311409   4.906022   \n",
              "854052                      Watergraafsmeer  52.340752   4.958290   \n",
              "21469420             De Aker - Nieuw Sloten  52.339860   4.785920   \n",
              "29532926                    Watergraafsmeer  52.346680   4.963590   \n",
              "\n",
              "                          room_type  price  minimum_nights  number_of_reviews  \\\n",
              "id                                                                              \n",
              "35815036            Entire home/apt    105               3                 95   \n",
              "31553121            Entire home/apt    152               2                 82   \n",
              "19572024            Entire home/apt    279               3                126   \n",
              "620821365404674198     Private room    120               1                  3   \n",
              "33241583               Private room    742               1                 79   \n",
              "...                             ...    ...             ...                ...   \n",
              "54326276               Private room    270               1                 11   \n",
              "557194226234491250  Entire home/apt    272               3                  6   \n",
              "854052                 Private room     65               2                289   \n",
              "21469420            Entire home/apt     79               2                273   \n",
              "29532926            Entire home/apt     95               1                115   \n",
              "\n",
              "                   last_review  reviews_per_month  \\\n",
              "id                                                  \n",
              "35815036            2022-06-02               2.65   \n",
              "31553121            2022-05-29               2.02   \n",
              "19572024            2022-05-29               2.13   \n",
              "620821365404674198  2022-05-30               3.00   \n",
              "33241583            2022-05-22               2.14   \n",
              "...                        ...                ...   \n",
              "54326276            2022-05-22               3.11   \n",
              "557194226234491250  2022-05-29               3.27   \n",
              "854052              2022-05-30               2.52   \n",
              "21469420            2022-05-31               4.88   \n",
              "29532926            2022-05-19               2.64   \n",
              "\n",
              "                    calculated_host_listings_count  availability_365  \\\n",
              "id                                                                     \n",
              "35815036                                         1               243   \n",
              "31553121                                         1                 3   \n",
              "19572024                                         2               298   \n",
              "620821365404674198                               1               343   \n",
              "33241583                                         5               342   \n",
              "...                                            ...               ...   \n",
              "54326276                                        12               350   \n",
              "557194226234491250                               1                 6   \n",
              "854052                                           1                 1   \n",
              "21469420                                         1                 2   \n",
              "29532926                                         1                 0   \n",
              "\n",
              "                    number_of_reviews_ltm                   license  \n",
              "id                                                                   \n",
              "35815036                               36                       NaN  \n",
              "31553121                               26                       NaN  \n",
              "19572024                               23                       NaN  \n",
              "620821365404674198                      3                       NaN  \n",
              "33241583                               33                    Exempt  \n",
              "...                                   ...                       ...  \n",
              "54326276                               11                    Exempt  \n",
              "557194226234491250                      6                       NaN  \n",
              "854052                                 21      03845fb98b259492e582  \n",
              "21469420                               37                       NaN  \n",
              "29532926                                6  0384 1A62 6181 878C C2AB  \n",
              "\n",
              "[1049 rows x 17 columns]"
            ]
          },
          "execution_count": 114,
          "metadata": {},
          "output_type": "execute_result"
        }
      ],
      "source": [
        "data[ data['reviews_per_month'] >= 2 ]"
      ]
    },
    {
      "cell_type": "markdown",
      "metadata": {
        "id": "OZWlA2wfFP8g"
      },
      "source": [
        "Se puede filtar por condiciones **compuestas**, es decir por proposiciones complejas que involucren operadores lógicos. Los operadores lógicos son los siguientes:\n",
        "\n",
        "* Y: se deben cumplir ambas condiciones para que el dato este en el resultado, similar al `and` que hacemos en los condicionales de Python, pero acá se utiliza el operador ampersand &.\n",
        "* O: se debe cumplir al menos una de las dos condiciones para que el datos este en el resultado, similar al `or` que hacemos en los condicionales de Python, pero acá se utiliza el operador pipe | .\n",
        "* NO: no se debe cumplir la condicion para que el dato este en el resultado, similar al `not` nativo, solo que se utiliza la virgulilla como operador ~.\n",
        "\n",
        "Por ejemplo, podemos obtener todos los departamentos que tengan al menos 2 reviews por mes y ademas al menos 90 reviews en total de la siguiente forma"
      ]
    },
    {
      "cell_type": "code",
      "execution_count": null,
      "metadata": {
        "colab": {
          "base_uri": "https://localhost:8080/",
          "height": 1000
        },
        "id": "U4_46G0WHkBp",
        "outputId": "41e4bbcc-a86d-4930-d704-0abe77e8a939"
      },
      "outputs": [
        {
          "data": {
            "text/html": [
              "<div>\n",
              "<style scoped>\n",
              "    .dataframe tbody tr th:only-of-type {\n",
              "        vertical-align: middle;\n",
              "    }\n",
              "\n",
              "    .dataframe tbody tr th {\n",
              "        vertical-align: top;\n",
              "    }\n",
              "\n",
              "    .dataframe thead th {\n",
              "        text-align: right;\n",
              "    }\n",
              "</style>\n",
              "<table border=\"1\" class=\"dataframe\">\n",
              "  <thead>\n",
              "    <tr style=\"text-align: right;\">\n",
              "      <th></th>\n",
              "      <th>name</th>\n",
              "      <th>host_id</th>\n",
              "      <th>host_name</th>\n",
              "      <th>neighbourhood_group</th>\n",
              "      <th>neighbourhood</th>\n",
              "      <th>latitude</th>\n",
              "      <th>longitude</th>\n",
              "      <th>room_type</th>\n",
              "      <th>price</th>\n",
              "      <th>minimum_nights</th>\n",
              "      <th>number_of_reviews</th>\n",
              "      <th>last_review</th>\n",
              "      <th>reviews_per_month</th>\n",
              "      <th>calculated_host_listings_count</th>\n",
              "      <th>availability_365</th>\n",
              "      <th>number_of_reviews_ltm</th>\n",
              "      <th>license</th>\n",
              "    </tr>\n",
              "    <tr>\n",
              "      <th>id</th>\n",
              "      <th></th>\n",
              "      <th></th>\n",
              "      <th></th>\n",
              "      <th></th>\n",
              "      <th></th>\n",
              "      <th></th>\n",
              "      <th></th>\n",
              "      <th></th>\n",
              "      <th></th>\n",
              "      <th></th>\n",
              "      <th></th>\n",
              "      <th></th>\n",
              "      <th></th>\n",
              "      <th></th>\n",
              "      <th></th>\n",
              "      <th></th>\n",
              "      <th></th>\n",
              "    </tr>\n",
              "  </thead>\n",
              "  <tbody>\n",
              "    <tr>\n",
              "      <th>35815036</th>\n",
              "      <td>Vrijstaand vakantiehuis, privé tuin aan het water</td>\n",
              "      <td>269425139</td>\n",
              "      <td>Lydia</td>\n",
              "      <td>NaN</td>\n",
              "      <td>Noord-Oost</td>\n",
              "      <td>52.424190</td>\n",
              "      <td>4.95689</td>\n",
              "      <td>Entire home/apt</td>\n",
              "      <td>105</td>\n",
              "      <td>3</td>\n",
              "      <td>95</td>\n",
              "      <td>2022-06-02</td>\n",
              "      <td>2.65</td>\n",
              "      <td>1</td>\n",
              "      <td>243</td>\n",
              "      <td>36</td>\n",
              "      <td>NaN</td>\n",
              "    </tr>\n",
              "    <tr>\n",
              "      <th>19572024</th>\n",
              "      <td>Coachhouse, in nature only 5 km from Amsterdam</td>\n",
              "      <td>81955946</td>\n",
              "      <td>Amber</td>\n",
              "      <td>NaN</td>\n",
              "      <td>Watergraafsmeer</td>\n",
              "      <td>52.307390</td>\n",
              "      <td>4.90833</td>\n",
              "      <td>Entire home/apt</td>\n",
              "      <td>279</td>\n",
              "      <td>3</td>\n",
              "      <td>126</td>\n",
              "      <td>2022-05-29</td>\n",
              "      <td>2.13</td>\n",
              "      <td>2</td>\n",
              "      <td>298</td>\n",
              "      <td>23</td>\n",
              "      <td>NaN</td>\n",
              "    </tr>\n",
              "    <tr>\n",
              "      <th>33241443</th>\n",
              "      <td>ID APARTHOTEL - *** Studio Apartment</td>\n",
              "      <td>243869294</td>\n",
              "      <td>Sophie</td>\n",
              "      <td>NaN</td>\n",
              "      <td>Geuzenveld - Slotermeer</td>\n",
              "      <td>52.388180</td>\n",
              "      <td>4.83349</td>\n",
              "      <td>Private room</td>\n",
              "      <td>230</td>\n",
              "      <td>1</td>\n",
              "      <td>108</td>\n",
              "      <td>2022-04-22</td>\n",
              "      <td>2.81</td>\n",
              "      <td>5</td>\n",
              "      <td>354</td>\n",
              "      <td>17</td>\n",
              "      <td>Exempt</td>\n",
              "    </tr>\n",
              "    <tr>\n",
              "      <th>20168</th>\n",
              "      <td>Studio with private bathroom in the centre 1</td>\n",
              "      <td>59484</td>\n",
              "      <td>Alexander</td>\n",
              "      <td>NaN</td>\n",
              "      <td>Centrum-Oost</td>\n",
              "      <td>52.364070</td>\n",
              "      <td>4.89393</td>\n",
              "      <td>Private room</td>\n",
              "      <td>106</td>\n",
              "      <td>1</td>\n",
              "      <td>339</td>\n",
              "      <td>2020-04-09</td>\n",
              "      <td>2.27</td>\n",
              "      <td>2</td>\n",
              "      <td>0</td>\n",
              "      <td>0</td>\n",
              "      <td>0363 CBB3 2C10 0C2A 1E29</td>\n",
              "    </tr>\n",
              "    <tr>\n",
              "      <th>28871</th>\n",
              "      <td>Comfortable double room</td>\n",
              "      <td>124245</td>\n",
              "      <td>Edwin</td>\n",
              "      <td>NaN</td>\n",
              "      <td>Centrum-West</td>\n",
              "      <td>52.367750</td>\n",
              "      <td>4.89092</td>\n",
              "      <td>Private room</td>\n",
              "      <td>75</td>\n",
              "      <td>2</td>\n",
              "      <td>403</td>\n",
              "      <td>2022-06-04</td>\n",
              "      <td>2.81</td>\n",
              "      <td>2</td>\n",
              "      <td>156</td>\n",
              "      <td>67</td>\n",
              "      <td>0363 607B EA74 0BD8 2F6F</td>\n",
              "    </tr>\n",
              "    <tr>\n",
              "      <th>...</th>\n",
              "      <td>...</td>\n",
              "      <td>...</td>\n",
              "      <td>...</td>\n",
              "      <td>...</td>\n",
              "      <td>...</td>\n",
              "      <td>...</td>\n",
              "      <td>...</td>\n",
              "      <td>...</td>\n",
              "      <td>...</td>\n",
              "      <td>...</td>\n",
              "      <td>...</td>\n",
              "      <td>...</td>\n",
              "      <td>...</td>\n",
              "      <td>...</td>\n",
              "      <td>...</td>\n",
              "      <td>...</td>\n",
              "      <td>...</td>\n",
              "    </tr>\n",
              "    <tr>\n",
              "      <th>28769123</th>\n",
              "      <td>Cityden Aparthotels | Studio XXL</td>\n",
              "      <td>214764531</td>\n",
              "      <td>Cityden</td>\n",
              "      <td>NaN</td>\n",
              "      <td>Buitenveldert - Zuidas</td>\n",
              "      <td>52.316990</td>\n",
              "      <td>4.87181</td>\n",
              "      <td>Private room</td>\n",
              "      <td>238</td>\n",
              "      <td>1</td>\n",
              "      <td>164</td>\n",
              "      <td>2022-05-15</td>\n",
              "      <td>4.82</td>\n",
              "      <td>5</td>\n",
              "      <td>353</td>\n",
              "      <td>95</td>\n",
              "      <td>NaN</td>\n",
              "    </tr>\n",
              "    <tr>\n",
              "      <th>33241384</th>\n",
              "      <td>ID APARTHOTEL -  *** 2-Bedroom Apartment</td>\n",
              "      <td>243869294</td>\n",
              "      <td>Sophie</td>\n",
              "      <td>NaN</td>\n",
              "      <td>Geuzenveld - Slotermeer</td>\n",
              "      <td>52.386800</td>\n",
              "      <td>4.83541</td>\n",
              "      <td>Private room</td>\n",
              "      <td>356</td>\n",
              "      <td>1</td>\n",
              "      <td>155</td>\n",
              "      <td>2022-05-15</td>\n",
              "      <td>4.16</td>\n",
              "      <td>5</td>\n",
              "      <td>354</td>\n",
              "      <td>124</td>\n",
              "      <td>Exempt</td>\n",
              "    </tr>\n",
              "    <tr>\n",
              "      <th>854052</th>\n",
              "      <td>Rustig slapen na een drukke dag in Amsterdam</td>\n",
              "      <td>4043241</td>\n",
              "      <td>Kees&amp;Karin</td>\n",
              "      <td>NaN</td>\n",
              "      <td>Watergraafsmeer</td>\n",
              "      <td>52.340752</td>\n",
              "      <td>4.95829</td>\n",
              "      <td>Private room</td>\n",
              "      <td>65</td>\n",
              "      <td>2</td>\n",
              "      <td>289</td>\n",
              "      <td>2022-05-30</td>\n",
              "      <td>2.52</td>\n",
              "      <td>1</td>\n",
              "      <td>1</td>\n",
              "      <td>21</td>\n",
              "      <td>03845fb98b259492e582</td>\n",
              "    </tr>\n",
              "    <tr>\n",
              "      <th>21469420</th>\n",
              "      <td>Private Tiny house/studio near airport &amp; Amste...</td>\n",
              "      <td>60528210</td>\n",
              "      <td>Pauline</td>\n",
              "      <td>NaN</td>\n",
              "      <td>De Aker - Nieuw Sloten</td>\n",
              "      <td>52.339860</td>\n",
              "      <td>4.78592</td>\n",
              "      <td>Entire home/apt</td>\n",
              "      <td>79</td>\n",
              "      <td>2</td>\n",
              "      <td>273</td>\n",
              "      <td>2022-05-31</td>\n",
              "      <td>4.88</td>\n",
              "      <td>1</td>\n",
              "      <td>2</td>\n",
              "      <td>37</td>\n",
              "      <td>NaN</td>\n",
              "    </tr>\n",
              "    <tr>\n",
              "      <th>29532926</th>\n",
              "      <td>Cozy apartment close to Amsterdam</td>\n",
              "      <td>222378910</td>\n",
              "      <td>Janna</td>\n",
              "      <td>NaN</td>\n",
              "      <td>Watergraafsmeer</td>\n",
              "      <td>52.346680</td>\n",
              "      <td>4.96359</td>\n",
              "      <td>Entire home/apt</td>\n",
              "      <td>95</td>\n",
              "      <td>1</td>\n",
              "      <td>115</td>\n",
              "      <td>2022-05-19</td>\n",
              "      <td>2.64</td>\n",
              "      <td>1</td>\n",
              "      <td>0</td>\n",
              "      <td>6</td>\n",
              "      <td>0384 1A62 6181 878C C2AB</td>\n",
              "    </tr>\n",
              "  </tbody>\n",
              "</table>\n",
              "<p>715 rows × 17 columns</p>\n",
              "</div>"
            ],
            "text/plain": [
              "                                                       name    host_id  \\\n",
              "id                                                                       \n",
              "35815036  Vrijstaand vakantiehuis, privé tuin aan het water  269425139   \n",
              "19572024     Coachhouse, in nature only 5 km from Amsterdam   81955946   \n",
              "33241443               ID APARTHOTEL - *** Studio Apartment  243869294   \n",
              "20168          Studio with private bathroom in the centre 1      59484   \n",
              "28871                               Comfortable double room     124245   \n",
              "...                                                     ...        ...   \n",
              "28769123                   Cityden Aparthotels | Studio XXL  214764531   \n",
              "33241384           ID APARTHOTEL -  *** 2-Bedroom Apartment  243869294   \n",
              "854052         Rustig slapen na een drukke dag in Amsterdam    4043241   \n",
              "21469420  Private Tiny house/studio near airport & Amste...   60528210   \n",
              "29532926                  Cozy apartment close to Amsterdam  222378910   \n",
              "\n",
              "           host_name  neighbourhood_group            neighbourhood   latitude  \\\n",
              "id                                                                              \n",
              "35815036       Lydia                  NaN               Noord-Oost  52.424190   \n",
              "19572024       Amber                  NaN          Watergraafsmeer  52.307390   \n",
              "33241443      Sophie                  NaN  Geuzenveld - Slotermeer  52.388180   \n",
              "20168      Alexander                  NaN             Centrum-Oost  52.364070   \n",
              "28871          Edwin                  NaN             Centrum-West  52.367750   \n",
              "...              ...                  ...                      ...        ...   \n",
              "28769123     Cityden                  NaN   Buitenveldert - Zuidas  52.316990   \n",
              "33241384      Sophie                  NaN  Geuzenveld - Slotermeer  52.386800   \n",
              "854052    Kees&Karin                  NaN          Watergraafsmeer  52.340752   \n",
              "21469420     Pauline                  NaN   De Aker - Nieuw Sloten  52.339860   \n",
              "29532926       Janna                  NaN          Watergraafsmeer  52.346680   \n",
              "\n",
              "          longitude        room_type  price  minimum_nights  \\\n",
              "id                                                            \n",
              "35815036    4.95689  Entire home/apt    105               3   \n",
              "19572024    4.90833  Entire home/apt    279               3   \n",
              "33241443    4.83349     Private room    230               1   \n",
              "20168       4.89393     Private room    106               1   \n",
              "28871       4.89092     Private room     75               2   \n",
              "...             ...              ...    ...             ...   \n",
              "28769123    4.87181     Private room    238               1   \n",
              "33241384    4.83541     Private room    356               1   \n",
              "854052      4.95829     Private room     65               2   \n",
              "21469420    4.78592  Entire home/apt     79               2   \n",
              "29532926    4.96359  Entire home/apt     95               1   \n",
              "\n",
              "          number_of_reviews last_review  reviews_per_month  \\\n",
              "id                                                           \n",
              "35815036                 95  2022-06-02               2.65   \n",
              "19572024                126  2022-05-29               2.13   \n",
              "33241443                108  2022-04-22               2.81   \n",
              "20168                   339  2020-04-09               2.27   \n",
              "28871                   403  2022-06-04               2.81   \n",
              "...                     ...         ...                ...   \n",
              "28769123                164  2022-05-15               4.82   \n",
              "33241384                155  2022-05-15               4.16   \n",
              "854052                  289  2022-05-30               2.52   \n",
              "21469420                273  2022-05-31               4.88   \n",
              "29532926                115  2022-05-19               2.64   \n",
              "\n",
              "          calculated_host_listings_count  availability_365  \\\n",
              "id                                                           \n",
              "35815036                               1               243   \n",
              "19572024                               2               298   \n",
              "33241443                               5               354   \n",
              "20168                                  2                 0   \n",
              "28871                                  2               156   \n",
              "...                                  ...               ...   \n",
              "28769123                               5               353   \n",
              "33241384                               5               354   \n",
              "854052                                 1                 1   \n",
              "21469420                               1                 2   \n",
              "29532926                               1                 0   \n",
              "\n",
              "          number_of_reviews_ltm                   license  \n",
              "id                                                         \n",
              "35815036                     36                       NaN  \n",
              "19572024                     23                       NaN  \n",
              "33241443                     17                    Exempt  \n",
              "20168                         0  0363 CBB3 2C10 0C2A 1E29  \n",
              "28871                        67  0363 607B EA74 0BD8 2F6F  \n",
              "...                         ...                       ...  \n",
              "28769123                     95                       NaN  \n",
              "33241384                    124                    Exempt  \n",
              "854052                       21      03845fb98b259492e582  \n",
              "21469420                     37                       NaN  \n",
              "29532926                      6  0384 1A62 6181 878C C2AB  \n",
              "\n",
              "[715 rows x 17 columns]"
            ]
          },
          "execution_count": 115,
          "metadata": {},
          "output_type": "execute_result"
        }
      ],
      "source": [
        "data[ (data['reviews_per_month'] >= 2) & (data['number_of_reviews'] >= 90) ]"
      ]
    },
    {
      "cell_type": "markdown",
      "metadata": {
        "id": "zdj98QJXEeJr"
      },
      "source": [
        "**Nota**: Las condiciones para filtrar se pueden complejizar tanto como se desee. Es importante encerrar entre parentesis cada condicion para evitar errores.\n",
        "\n",
        "Para filtrar por valores numericos, podemos utilizar los operadores de comparacion. Para filtrar por strings, tambien podemos filtrar por igualdad. Por ejemplo, podemos obtener todos los departamos que tengan `room_type` igual a \"Private room\":"
      ]
    },
    {
      "cell_type": "code",
      "execution_count": null,
      "metadata": {
        "colab": {
          "base_uri": "https://localhost:8080/",
          "height": 1000
        },
        "id": "z5D6DKsVH7cJ",
        "outputId": "51e00e58-c619-420e-df6e-1055a11ad590"
      },
      "outputs": [
        {
          "data": {
            "text/html": [
              "<div>\n",
              "<style scoped>\n",
              "    .dataframe tbody tr th:only-of-type {\n",
              "        vertical-align: middle;\n",
              "    }\n",
              "\n",
              "    .dataframe tbody tr th {\n",
              "        vertical-align: top;\n",
              "    }\n",
              "\n",
              "    .dataframe thead th {\n",
              "        text-align: right;\n",
              "    }\n",
              "</style>\n",
              "<table border=\"1\" class=\"dataframe\">\n",
              "  <thead>\n",
              "    <tr style=\"text-align: right;\">\n",
              "      <th></th>\n",
              "      <th>name</th>\n",
              "      <th>host_id</th>\n",
              "      <th>host_name</th>\n",
              "      <th>neighbourhood_group</th>\n",
              "      <th>neighbourhood</th>\n",
              "      <th>latitude</th>\n",
              "      <th>longitude</th>\n",
              "      <th>room_type</th>\n",
              "      <th>price</th>\n",
              "      <th>minimum_nights</th>\n",
              "      <th>number_of_reviews</th>\n",
              "      <th>last_review</th>\n",
              "      <th>reviews_per_month</th>\n",
              "      <th>calculated_host_listings_count</th>\n",
              "      <th>availability_365</th>\n",
              "      <th>number_of_reviews_ltm</th>\n",
              "      <th>license</th>\n",
              "    </tr>\n",
              "    <tr>\n",
              "      <th>id</th>\n",
              "      <th></th>\n",
              "      <th></th>\n",
              "      <th></th>\n",
              "      <th></th>\n",
              "      <th></th>\n",
              "      <th></th>\n",
              "      <th></th>\n",
              "      <th></th>\n",
              "      <th></th>\n",
              "      <th></th>\n",
              "      <th></th>\n",
              "      <th></th>\n",
              "      <th></th>\n",
              "      <th></th>\n",
              "      <th></th>\n",
              "      <th></th>\n",
              "      <th></th>\n",
              "    </tr>\n",
              "  </thead>\n",
              "  <tbody>\n",
              "    <tr>\n",
              "      <th>23726706</th>\n",
              "      <td>Private room 20 minutes from Amsterdam + Break...</td>\n",
              "      <td>122619127</td>\n",
              "      <td>Patricia</td>\n",
              "      <td>NaN</td>\n",
              "      <td>IJburg - Zeeburgereiland</td>\n",
              "      <td>52.349160</td>\n",
              "      <td>4.978790</td>\n",
              "      <td>Private room</td>\n",
              "      <td>88</td>\n",
              "      <td>2</td>\n",
              "      <td>78</td>\n",
              "      <td>2022-05-29</td>\n",
              "      <td>1.53</td>\n",
              "      <td>1</td>\n",
              "      <td>66</td>\n",
              "      <td>11</td>\n",
              "      <td>038469D9AA6BDF1142CE</td>\n",
              "    </tr>\n",
              "    <tr>\n",
              "      <th>44586947</th>\n",
              "      <td>Weesp, 2 kamers vlakbij Amsterdam</td>\n",
              "      <td>360838688</td>\n",
              "      <td>Aranka</td>\n",
              "      <td>NaN</td>\n",
              "      <td>Gaasperdam - Driemond</td>\n",
              "      <td>52.314750</td>\n",
              "      <td>5.030300</td>\n",
              "      <td>Private room</td>\n",
              "      <td>160</td>\n",
              "      <td>2</td>\n",
              "      <td>15</td>\n",
              "      <td>2022-05-29</td>\n",
              "      <td>0.68</td>\n",
              "      <td>1</td>\n",
              "      <td>152</td>\n",
              "      <td>12</td>\n",
              "      <td>NaN</td>\n",
              "    </tr>\n",
              "    <tr>\n",
              "      <th>15801253</th>\n",
              "      <td>Studio with own bathroom &amp; kitchen at East A'dam</td>\n",
              "      <td>21813940</td>\n",
              "      <td>Nan</td>\n",
              "      <td>NaN</td>\n",
              "      <td>Watergraafsmeer</td>\n",
              "      <td>52.345070</td>\n",
              "      <td>4.964130</td>\n",
              "      <td>Private room</td>\n",
              "      <td>90</td>\n",
              "      <td>2</td>\n",
              "      <td>46</td>\n",
              "      <td>2022-05-29</td>\n",
              "      <td>0.89</td>\n",
              "      <td>1</td>\n",
              "      <td>164</td>\n",
              "      <td>7</td>\n",
              "      <td>0384 81F7 167A BBAA 3BE2</td>\n",
              "    </tr>\n",
              "    <tr>\n",
              "      <th>18801518</th>\n",
              "      <td>Coronaproof studio 20 min to A'dam Centre 2-4 ...</td>\n",
              "      <td>75979829</td>\n",
              "      <td>Randje Amsterdam</td>\n",
              "      <td>NaN</td>\n",
              "      <td>Watergraafsmeer</td>\n",
              "      <td>52.338280</td>\n",
              "      <td>4.964430</td>\n",
              "      <td>Private room</td>\n",
              "      <td>140</td>\n",
              "      <td>2</td>\n",
              "      <td>85</td>\n",
              "      <td>2022-04-17</td>\n",
              "      <td>1.42</td>\n",
              "      <td>1</td>\n",
              "      <td>234</td>\n",
              "      <td>5</td>\n",
              "      <td>038429E48399CA3E3903</td>\n",
              "    </tr>\n",
              "    <tr>\n",
              "      <th>620821365404674198</th>\n",
              "      <td>Homestay, 10 minutes away from the city center.</td>\n",
              "      <td>405567985</td>\n",
              "      <td>Homestay Amsterdam</td>\n",
              "      <td>NaN</td>\n",
              "      <td>Bijlmer-Centrum</td>\n",
              "      <td>52.329773</td>\n",
              "      <td>4.937512</td>\n",
              "      <td>Private room</td>\n",
              "      <td>120</td>\n",
              "      <td>1</td>\n",
              "      <td>3</td>\n",
              "      <td>2022-05-30</td>\n",
              "      <td>3.00</td>\n",
              "      <td>1</td>\n",
              "      <td>343</td>\n",
              "      <td>3</td>\n",
              "      <td>NaN</td>\n",
              "    </tr>\n",
              "    <tr>\n",
              "      <th>...</th>\n",
              "      <td>...</td>\n",
              "      <td>...</td>\n",
              "      <td>...</td>\n",
              "      <td>...</td>\n",
              "      <td>...</td>\n",
              "      <td>...</td>\n",
              "      <td>...</td>\n",
              "      <td>...</td>\n",
              "      <td>...</td>\n",
              "      <td>...</td>\n",
              "      <td>...</td>\n",
              "      <td>...</td>\n",
              "      <td>...</td>\n",
              "      <td>...</td>\n",
              "      <td>...</td>\n",
              "      <td>...</td>\n",
              "      <td>...</td>\n",
              "    </tr>\n",
              "    <tr>\n",
              "      <th>48840480</th>\n",
              "      <td>Cityden Aparthotels | 1-Bedroom Apartment</td>\n",
              "      <td>214764531</td>\n",
              "      <td>Cityden</td>\n",
              "      <td>NaN</td>\n",
              "      <td>Buitenveldert - Zuidas</td>\n",
              "      <td>52.317800</td>\n",
              "      <td>4.872480</td>\n",
              "      <td>Private room</td>\n",
              "      <td>246</td>\n",
              "      <td>1</td>\n",
              "      <td>9</td>\n",
              "      <td>2022-05-27</td>\n",
              "      <td>0.82</td>\n",
              "      <td>5</td>\n",
              "      <td>348</td>\n",
              "      <td>9</td>\n",
              "      <td>NaN</td>\n",
              "    </tr>\n",
              "    <tr>\n",
              "      <th>47717234</th>\n",
              "      <td>Double Room in 4 Star Hotel</td>\n",
              "      <td>382681673</td>\n",
              "      <td>Pauline</td>\n",
              "      <td>NaN</td>\n",
              "      <td>Geuzenveld - Slotermeer</td>\n",
              "      <td>52.387790</td>\n",
              "      <td>4.836010</td>\n",
              "      <td>Private room</td>\n",
              "      <td>499</td>\n",
              "      <td>4</td>\n",
              "      <td>0</td>\n",
              "      <td>NaN</td>\n",
              "      <td>NaN</td>\n",
              "      <td>2</td>\n",
              "      <td>365</td>\n",
              "      <td>0</td>\n",
              "      <td>Exempt</td>\n",
              "    </tr>\n",
              "    <tr>\n",
              "      <th>854052</th>\n",
              "      <td>Rustig slapen na een drukke dag in Amsterdam</td>\n",
              "      <td>4043241</td>\n",
              "      <td>Kees&amp;Karin</td>\n",
              "      <td>NaN</td>\n",
              "      <td>Watergraafsmeer</td>\n",
              "      <td>52.340752</td>\n",
              "      <td>4.958290</td>\n",
              "      <td>Private room</td>\n",
              "      <td>65</td>\n",
              "      <td>2</td>\n",
              "      <td>289</td>\n",
              "      <td>2022-05-30</td>\n",
              "      <td>2.52</td>\n",
              "      <td>1</td>\n",
              "      <td>1</td>\n",
              "      <td>21</td>\n",
              "      <td>03845fb98b259492e582</td>\n",
              "    </tr>\n",
              "    <tr>\n",
              "      <th>23950151</th>\n",
              "      <td>Endearing house near Amsterdam</td>\n",
              "      <td>32551266</td>\n",
              "      <td>Mandy</td>\n",
              "      <td>NaN</td>\n",
              "      <td>Watergraafsmeer</td>\n",
              "      <td>52.333480</td>\n",
              "      <td>4.941260</td>\n",
              "      <td>Private room</td>\n",
              "      <td>106</td>\n",
              "      <td>2</td>\n",
              "      <td>80</td>\n",
              "      <td>2022-06-01</td>\n",
              "      <td>1.85</td>\n",
              "      <td>1</td>\n",
              "      <td>0</td>\n",
              "      <td>25</td>\n",
              "      <td>NaN</td>\n",
              "    </tr>\n",
              "    <tr>\n",
              "      <th>40575103</th>\n",
              "      <td>Privékamer met badkamer, incl. ontbijt en park...</td>\n",
              "      <td>314410560</td>\n",
              "      <td>Quirien</td>\n",
              "      <td>NaN</td>\n",
              "      <td>Watergraafsmeer</td>\n",
              "      <td>52.339460</td>\n",
              "      <td>4.957490</td>\n",
              "      <td>Private room</td>\n",
              "      <td>65</td>\n",
              "      <td>2</td>\n",
              "      <td>29</td>\n",
              "      <td>2022-05-21</td>\n",
              "      <td>0.96</td>\n",
              "      <td>1</td>\n",
              "      <td>0</td>\n",
              "      <td>15</td>\n",
              "      <td>0384 9B34 0EA9 5CC8 DC7F</td>\n",
              "    </tr>\n",
              "  </tbody>\n",
              "</table>\n",
              "<p>1840 rows × 17 columns</p>\n",
              "</div>"
            ],
            "text/plain": [
              "                                                                 name  \\\n",
              "id                                                                      \n",
              "23726706            Private room 20 minutes from Amsterdam + Break...   \n",
              "44586947                            Weesp, 2 kamers vlakbij Amsterdam   \n",
              "15801253             Studio with own bathroom & kitchen at East A'dam   \n",
              "18801518            Coronaproof studio 20 min to A'dam Centre 2-4 ...   \n",
              "620821365404674198    Homestay, 10 minutes away from the city center.   \n",
              "...                                                               ...   \n",
              "48840480                    Cityden Aparthotels | 1-Bedroom Apartment   \n",
              "47717234                                  Double Room in 4 Star Hotel   \n",
              "854052                   Rustig slapen na een drukke dag in Amsterdam   \n",
              "23950151                               Endearing house near Amsterdam   \n",
              "40575103            Privékamer met badkamer, incl. ontbijt en park...   \n",
              "\n",
              "                      host_id           host_name  neighbourhood_group  \\\n",
              "id                                                                       \n",
              "23726706            122619127            Patricia                  NaN   \n",
              "44586947            360838688              Aranka                  NaN   \n",
              "15801253             21813940                 Nan                  NaN   \n",
              "18801518             75979829    Randje Amsterdam                  NaN   \n",
              "620821365404674198  405567985  Homestay Amsterdam                  NaN   \n",
              "...                       ...                 ...                  ...   \n",
              "48840480            214764531             Cityden                  NaN   \n",
              "47717234            382681673             Pauline                  NaN   \n",
              "854052                4043241          Kees&Karin                  NaN   \n",
              "23950151             32551266               Mandy                  NaN   \n",
              "40575103            314410560             Quirien                  NaN   \n",
              "\n",
              "                               neighbourhood   latitude  longitude  \\\n",
              "id                                                                   \n",
              "23726706            IJburg - Zeeburgereiland  52.349160   4.978790   \n",
              "44586947               Gaasperdam - Driemond  52.314750   5.030300   \n",
              "15801253                     Watergraafsmeer  52.345070   4.964130   \n",
              "18801518                     Watergraafsmeer  52.338280   4.964430   \n",
              "620821365404674198           Bijlmer-Centrum  52.329773   4.937512   \n",
              "...                                      ...        ...        ...   \n",
              "48840480              Buitenveldert - Zuidas  52.317800   4.872480   \n",
              "47717234             Geuzenveld - Slotermeer  52.387790   4.836010   \n",
              "854052                       Watergraafsmeer  52.340752   4.958290   \n",
              "23950151                     Watergraafsmeer  52.333480   4.941260   \n",
              "40575103                     Watergraafsmeer  52.339460   4.957490   \n",
              "\n",
              "                       room_type  price  minimum_nights  number_of_reviews  \\\n",
              "id                                                                           \n",
              "23726706            Private room     88               2                 78   \n",
              "44586947            Private room    160               2                 15   \n",
              "15801253            Private room     90               2                 46   \n",
              "18801518            Private room    140               2                 85   \n",
              "620821365404674198  Private room    120               1                  3   \n",
              "...                          ...    ...             ...                ...   \n",
              "48840480            Private room    246               1                  9   \n",
              "47717234            Private room    499               4                  0   \n",
              "854052              Private room     65               2                289   \n",
              "23950151            Private room    106               2                 80   \n",
              "40575103            Private room     65               2                 29   \n",
              "\n",
              "                   last_review  reviews_per_month  \\\n",
              "id                                                  \n",
              "23726706            2022-05-29               1.53   \n",
              "44586947            2022-05-29               0.68   \n",
              "15801253            2022-05-29               0.89   \n",
              "18801518            2022-04-17               1.42   \n",
              "620821365404674198  2022-05-30               3.00   \n",
              "...                        ...                ...   \n",
              "48840480            2022-05-27               0.82   \n",
              "47717234                   NaN                NaN   \n",
              "854052              2022-05-30               2.52   \n",
              "23950151            2022-06-01               1.85   \n",
              "40575103            2022-05-21               0.96   \n",
              "\n",
              "                    calculated_host_listings_count  availability_365  \\\n",
              "id                                                                     \n",
              "23726706                                         1                66   \n",
              "44586947                                         1               152   \n",
              "15801253                                         1               164   \n",
              "18801518                                         1               234   \n",
              "620821365404674198                               1               343   \n",
              "...                                            ...               ...   \n",
              "48840480                                         5               348   \n",
              "47717234                                         2               365   \n",
              "854052                                           1                 1   \n",
              "23950151                                         1                 0   \n",
              "40575103                                         1                 0   \n",
              "\n",
              "                    number_of_reviews_ltm                   license  \n",
              "id                                                                   \n",
              "23726706                               11      038469D9AA6BDF1142CE  \n",
              "44586947                               12                       NaN  \n",
              "15801253                                7  0384 81F7 167A BBAA 3BE2  \n",
              "18801518                                5      038429E48399CA3E3903  \n",
              "620821365404674198                      3                       NaN  \n",
              "...                                   ...                       ...  \n",
              "48840480                                9                       NaN  \n",
              "47717234                                0                    Exempt  \n",
              "854052                                 21      03845fb98b259492e582  \n",
              "23950151                               25                       NaN  \n",
              "40575103                               15  0384 9B34 0EA9 5CC8 DC7F  \n",
              "\n",
              "[1840 rows x 17 columns]"
            ]
          },
          "execution_count": 116,
          "metadata": {},
          "output_type": "execute_result"
        }
      ],
      "source": [
        "data[ data['room_type'] == \"Private room\" ]"
      ]
    },
    {
      "cell_type": "markdown",
      "metadata": {
        "id": "11_3TCcQIgD1"
      },
      "source": [
        "Tambien podemos hacer busquedas mas complejas. Para verlo, carguemos la version del dataset de listings que contiene las descripciones de cada apartamento."
      ]
    },
    {
      "cell_type": "code",
      "execution_count": null,
      "metadata": {
        "colab": {
          "base_uri": "https://localhost:8080/"
        },
        "id": "xwFyEp7hIbfn",
        "outputId": "e3f012f8-3cf8-4382-d00d-2ac6caac5ec7"
      },
      "outputs": [
        {
          "data": {
            "text/plain": [
              "Index(['id', 'listing_url', 'scrape_id', 'last_scraped', 'name', 'description',\n",
              "       'neighborhood_overview', 'picture_url', 'host_id', 'host_url',\n",
              "       'host_name', 'host_since', 'host_location', 'host_about',\n",
              "       'host_response_time', 'host_response_rate', 'host_acceptance_rate',\n",
              "       'host_is_superhost', 'host_thumbnail_url', 'host_picture_url',\n",
              "       'host_neighbourhood', 'host_listings_count',\n",
              "       'host_total_listings_count', 'host_verifications',\n",
              "       'host_has_profile_pic', 'host_identity_verified', 'neighbourhood',\n",
              "       'neighbourhood_cleansed', 'neighbourhood_group_cleansed', 'latitude',\n",
              "       'longitude', 'property_type', 'room_type', 'accommodates', 'bathrooms',\n",
              "       'bathrooms_text', 'bedrooms', 'beds', 'amenities', 'price',\n",
              "       'minimum_nights', 'maximum_nights', 'minimum_minimum_nights',\n",
              "       'maximum_minimum_nights', 'minimum_maximum_nights',\n",
              "       'maximum_maximum_nights', 'minimum_nights_avg_ntm',\n",
              "       'maximum_nights_avg_ntm', 'calendar_updated', 'has_availability',\n",
              "       'availability_30', 'availability_60', 'availability_90',\n",
              "       'availability_365', 'calendar_last_scraped', 'number_of_reviews',\n",
              "       'number_of_reviews_ltm', 'number_of_reviews_l30d', 'first_review',\n",
              "       'last_review', 'review_scores_rating', 'review_scores_accuracy',\n",
              "       'review_scores_cleanliness', 'review_scores_checkin',\n",
              "       'review_scores_communication', 'review_scores_location',\n",
              "       'review_scores_value', 'license', 'instant_bookable',\n",
              "       'calculated_host_listings_count',\n",
              "       'calculated_host_listings_count_entire_homes',\n",
              "       'calculated_host_listings_count_private_rooms',\n",
              "       'calculated_host_listings_count_shared_rooms', 'reviews_per_month'],\n",
              "      dtype='object')"
            ]
          },
          "execution_count": 117,
          "metadata": {},
          "output_type": "execute_result"
        }
      ],
      "source": [
        "data_completo = pd.read_csv('listings.csv.gz')\n",
        "data_completo = data_completo.dropna(axis='index', subset=['description'])\n",
        "data_completo.columns"
      ]
    },
    {
      "cell_type": "code",
      "execution_count": null,
      "metadata": {
        "colab": {
          "base_uri": "https://localhost:8080/"
        },
        "id": "Gj5deI_cJMK5",
        "outputId": "974d9a1c-98d7-4d5a-82fc-078ff4c449be"
      },
      "outputs": [
        {
          "data": {
            "text/plain": [
              "0    Cousy  private room 20 min. from Amsterdam. Sh...\n",
              "1    Bij het pittoreske dorpje Watergang ligt ons p...\n",
              "Name: description, dtype: object"
            ]
          },
          "execution_count": 118,
          "metadata": {},
          "output_type": "execute_result"
        }
      ],
      "source": [
        "data_completo['description'].head(2)"
      ]
    },
    {
      "cell_type": "markdown",
      "metadata": {
        "id": "HaTzYvT4JUQX"
      },
      "source": [
        "¿Podremos encontrar todos los departamentos que mencionen la palabra \"gato\" (cat) en descripcion?"
      ]
    },
    {
      "cell_type": "code",
      "execution_count": null,
      "metadata": {
        "colab": {
          "base_uri": "https://localhost:8080/",
          "height": 143
        },
        "id": "DKdmLVvcJmLy",
        "outputId": "4c0d02f6-1456-44dd-c324-d5aa92921604"
      },
      "outputs": [
        {
          "data": {
            "text/html": [
              "<div>\n",
              "<style scoped>\n",
              "    .dataframe tbody tr th:only-of-type {\n",
              "        vertical-align: middle;\n",
              "    }\n",
              "\n",
              "    .dataframe tbody tr th {\n",
              "        vertical-align: top;\n",
              "    }\n",
              "\n",
              "    .dataframe thead th {\n",
              "        text-align: right;\n",
              "    }\n",
              "</style>\n",
              "<table border=\"1\" class=\"dataframe\">\n",
              "  <thead>\n",
              "    <tr style=\"text-align: right;\">\n",
              "      <th></th>\n",
              "      <th>id</th>\n",
              "      <th>listing_url</th>\n",
              "      <th>scrape_id</th>\n",
              "      <th>last_scraped</th>\n",
              "      <th>name</th>\n",
              "      <th>description</th>\n",
              "      <th>neighborhood_overview</th>\n",
              "      <th>picture_url</th>\n",
              "      <th>host_id</th>\n",
              "      <th>host_url</th>\n",
              "      <th>...</th>\n",
              "      <th>review_scores_communication</th>\n",
              "      <th>review_scores_location</th>\n",
              "      <th>review_scores_value</th>\n",
              "      <th>license</th>\n",
              "      <th>instant_bookable</th>\n",
              "      <th>calculated_host_listings_count</th>\n",
              "      <th>calculated_host_listings_count_entire_homes</th>\n",
              "      <th>calculated_host_listings_count_private_rooms</th>\n",
              "      <th>calculated_host_listings_count_shared_rooms</th>\n",
              "      <th>reviews_per_month</th>\n",
              "    </tr>\n",
              "  </thead>\n",
              "  <tbody>\n",
              "  </tbody>\n",
              "</table>\n",
              "<p>0 rows × 74 columns</p>\n",
              "</div>"
            ],
            "text/plain": [
              "Empty DataFrame\n",
              "Columns: [id, listing_url, scrape_id, last_scraped, name, description, neighborhood_overview, picture_url, host_id, host_url, host_name, host_since, host_location, host_about, host_response_time, host_response_rate, host_acceptance_rate, host_is_superhost, host_thumbnail_url, host_picture_url, host_neighbourhood, host_listings_count, host_total_listings_count, host_verifications, host_has_profile_pic, host_identity_verified, neighbourhood, neighbourhood_cleansed, neighbourhood_group_cleansed, latitude, longitude, property_type, room_type, accommodates, bathrooms, bathrooms_text, bedrooms, beds, amenities, price, minimum_nights, maximum_nights, minimum_minimum_nights, maximum_minimum_nights, minimum_maximum_nights, maximum_maximum_nights, minimum_nights_avg_ntm, maximum_nights_avg_ntm, calendar_updated, has_availability, availability_30, availability_60, availability_90, availability_365, calendar_last_scraped, number_of_reviews, number_of_reviews_ltm, number_of_reviews_l30d, first_review, last_review, review_scores_rating, review_scores_accuracy, review_scores_cleanliness, review_scores_checkin, review_scores_communication, review_scores_location, review_scores_value, license, instant_bookable, calculated_host_listings_count, calculated_host_listings_count_entire_homes, calculated_host_listings_count_private_rooms, calculated_host_listings_count_shared_rooms, reviews_per_month]\n",
              "Index: []\n",
              "\n",
              "[0 rows x 74 columns]"
            ]
          },
          "execution_count": 119,
          "metadata": {},
          "output_type": "execute_result"
        }
      ],
      "source": [
        "data_completo[ data_completo['description'] == \"cat\" ]"
      ]
    },
    {
      "cell_type": "code",
      "execution_count": null,
      "metadata": {
        "colab": {
          "base_uri": "https://localhost:8080/",
          "height": 191
        },
        "id": "VxNjSMR4Juzl",
        "outputId": "804a3111-5db3-4fb9-eefd-167bac1c4c6a"
      },
      "outputs": [
        {
          "data": {
            "text/plain": [
              "'We rent out our apartment for the duration of our holidays. It is 45m2, furnished, trendy neighborhood,  good connection, and a cat who might stay at home.<br /><br /><b>The space</b><br />This apartment is 45 square meters and part of an old Amsterdam building. It is located in the East, on the border with the Center. It has a living room, kitchen, bedroom, small shower/toilet, balcony, and comes with all needed furnishing. This apartment is our permanent place of living, therefore you will have everything that you need for a stay - Internet, double bed, hot shower, washing machine, dishwasher, oven, various kitchen equipment, dishes, etc.<br /><br /><b>Guest access</b><br />The whole apartment is accessible, except for the personal belongings in the wardrobes. Most of white plastic wardrobes/boxes  with the personal belongings cannot be accessed. <br /><br />All kitchen/household equipment and dishes can be accessed. All bathroom cleaning supplies (shower gel, shampoo, etc.) can be u'"
            ]
          },
          "execution_count": 120,
          "metadata": {},
          "output_type": "execute_result"
        }
      ],
      "source": [
        "data_completo[ data_completo['description'].str.contains(\" cat \") ][\"description\"].iloc[2]"
      ]
    },
    {
      "cell_type": "markdown",
      "metadata": {
        "id": "v9kA63nwpA87"
      },
      "source": []
    },
    {
      "cell_type": "markdown",
      "metadata": {
        "id": "gGhlbqO_KSM6"
      },
      "source": [
        "El descriptor `str` nos da acceso a utilizar los métodos de strings sobre una serie que contiene strings. En el ejemplo utilizamos `contains` pero podriamos utilizar tambien split, replace, etc.\n",
        "\n",
        "\n",
        "\n"
      ]
    },
    {
      "cell_type": "markdown",
      "metadata": {
        "id": "fN5KaCVJK0Q9"
      },
      "source": [
        "## Ejercicio 3 - hasta el fin de clase:\n",
        "\n",
        "Descargar el archivo de distribución de empleo formal en el AMBA de este [link](https://www.datos.gob.ar/dataset/produccion-distribucion-empleo-formal-amba) (el que en su título dice hasta CLAE2)\n",
        "\n",
        "1. Leer el archivo con pandas dataframe.\n",
        "2. Determinar cual debe ser el indice del dataframe.\n",
        "3. Realizar un analisis de valores faltantes, tomar acciones en consecuencia.\n",
        "4.   Calcular la cantidad de departamentos y sectores (CLAE 2 dígitos) qué emplean:\n",
        "\n",
        "  1.   solo hombres\n",
        "  2.   solo mujeres\n",
        "  3.   a ambos géneros\n",
        "\n",
        "5. Calcular la remuneración media para hombres y para mujeres\n",
        "6. Calcular la remuneración media para mujeres en el CLAE = 6\n",
        "\n",
        "Nota: realizar consideración acerca del promedio de promedios\n",
        "\n",
        "7. Leer la documentación, e investigar el uso, de los siguientes métodos de pandas:\n",
        "  - where\n",
        "  - mask\n",
        "  - clip\n",
        "  - sort_values\n",
        "  - rename\n",
        "  - unique"
      ]
    }
  ],
  "metadata": {
    "colab": {
      "collapsed_sections": [
        "zcXzxEsU7kn6"
      ],
      "provenance": [],
      "toc_visible": true
    },
    "kernelspec": {
      "display_name": "Python 3",
      "name": "python3"
    },
    "language_info": {
      "codemirror_mode": {
        "name": "ipython",
        "version": 3
      },
      "file_extension": ".py",
      "mimetype": "text/x-python",
      "name": "python",
      "nbconvert_exporter": "python",
      "pygments_lexer": "ipython3",
      "version": "3.11.5"
    }
  },
  "nbformat": 4,
  "nbformat_minor": 0
}
