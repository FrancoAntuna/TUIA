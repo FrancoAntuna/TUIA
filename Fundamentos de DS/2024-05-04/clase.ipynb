{
 "cells": [
  {
   "cell_type": "code",
   "execution_count": 15,
   "metadata": {},
   "outputs": [],
   "source": [
    "import pandas as pd\n",
    "import matplotlib.pyplot as plt\n",
    "import numpy as np"
   ]
  },
  {
   "cell_type": "code",
   "execution_count": 3,
   "metadata": {},
   "outputs": [
    {
     "data": {
      "text/html": [
       "<div>\n",
       "<style scoped>\n",
       "    .dataframe tbody tr th:only-of-type {\n",
       "        vertical-align: middle;\n",
       "    }\n",
       "\n",
       "    .dataframe tbody tr th {\n",
       "        vertical-align: top;\n",
       "    }\n",
       "\n",
       "    .dataframe thead th {\n",
       "        text-align: right;\n",
       "    }\n",
       "</style>\n",
       "<table border=\"1\" class=\"dataframe\">\n",
       "  <thead>\n",
       "    <tr style=\"text-align: right;\">\n",
       "      <th></th>\n",
       "      <th>id</th>\n",
       "      <th>duracion_min</th>\n",
       "      <th>distancia_km</th>\n",
       "      <th>actividad</th>\n",
       "      <th>calorias_quemadas</th>\n",
       "      <th>peso_kg</th>\n",
       "      <th>edad_anios</th>\n",
       "    </tr>\n",
       "  </thead>\n",
       "  <tbody>\n",
       "    <tr>\n",
       "      <th>0</th>\n",
       "      <td>1</td>\n",
       "      <td>10.18</td>\n",
       "      <td>4.2</td>\n",
       "      <td>correr</td>\n",
       "      <td>241.3</td>\n",
       "      <td>70.1</td>\n",
       "      <td>32</td>\n",
       "    </tr>\n",
       "    <tr>\n",
       "      <th>1</th>\n",
       "      <td>2</td>\n",
       "      <td>5.36</td>\n",
       "      <td>3.4</td>\n",
       "      <td>caminar</td>\n",
       "      <td>201.5</td>\n",
       "      <td>54.4</td>\n",
       "      <td>28</td>\n",
       "    </tr>\n",
       "    <tr>\n",
       "      <th>2</th>\n",
       "      <td>3</td>\n",
       "      <td>22.08</td>\n",
       "      <td>2.4</td>\n",
       "      <td>trotar</td>\n",
       "      <td>258.7</td>\n",
       "      <td>76.0</td>\n",
       "      <td>27</td>\n",
       "    </tr>\n",
       "    <tr>\n",
       "      <th>3</th>\n",
       "      <td>4</td>\n",
       "      <td>14.02</td>\n",
       "      <td>6.9</td>\n",
       "      <td>trotar</td>\n",
       "      <td>242.9</td>\n",
       "      <td>66.8</td>\n",
       "      <td>27</td>\n",
       "    </tr>\n",
       "    <tr>\n",
       "      <th>4</th>\n",
       "      <td>5</td>\n",
       "      <td>20.73</td>\n",
       "      <td>4.7</td>\n",
       "      <td>correr</td>\n",
       "      <td>296.7</td>\n",
       "      <td>61.9</td>\n",
       "      <td>29</td>\n",
       "    </tr>\n",
       "    <tr>\n",
       "      <th>...</th>\n",
       "      <td>...</td>\n",
       "      <td>...</td>\n",
       "      <td>...</td>\n",
       "      <td>...</td>\n",
       "      <td>...</td>\n",
       "      <td>...</td>\n",
       "      <td>...</td>\n",
       "    </tr>\n",
       "    <tr>\n",
       "      <th>680</th>\n",
       "      <td>681</td>\n",
       "      <td>17.35</td>\n",
       "      <td>4.9</td>\n",
       "      <td>correr</td>\n",
       "      <td>306.2</td>\n",
       "      <td>68.0</td>\n",
       "      <td>29</td>\n",
       "    </tr>\n",
       "    <tr>\n",
       "      <th>681</th>\n",
       "      <td>682</td>\n",
       "      <td>10.36</td>\n",
       "      <td>6.3</td>\n",
       "      <td>trotar</td>\n",
       "      <td>259.6</td>\n",
       "      <td>64.4</td>\n",
       "      <td>31</td>\n",
       "    </tr>\n",
       "    <tr>\n",
       "      <th>682</th>\n",
       "      <td>683</td>\n",
       "      <td>1.52</td>\n",
       "      <td>7.2</td>\n",
       "      <td>trotar</td>\n",
       "      <td>278.2</td>\n",
       "      <td>64.9</td>\n",
       "      <td>25</td>\n",
       "    </tr>\n",
       "    <tr>\n",
       "      <th>683</th>\n",
       "      <td>684</td>\n",
       "      <td>2.58</td>\n",
       "      <td>6.9</td>\n",
       "      <td>caminar</td>\n",
       "      <td>245.0</td>\n",
       "      <td>61.1</td>\n",
       "      <td>32</td>\n",
       "    </tr>\n",
       "    <tr>\n",
       "      <th>684</th>\n",
       "      <td>685</td>\n",
       "      <td>19.28</td>\n",
       "      <td>8.0</td>\n",
       "      <td>correr</td>\n",
       "      <td>297.0</td>\n",
       "      <td>60.3</td>\n",
       "      <td>33</td>\n",
       "    </tr>\n",
       "  </tbody>\n",
       "</table>\n",
       "<p>685 rows × 7 columns</p>\n",
       "</div>"
      ],
      "text/plain": [
       "      id  duracion_min  distancia_km actividad  calorias_quemadas  peso_kg  \\\n",
       "0      1         10.18           4.2    correr              241.3     70.1   \n",
       "1      2          5.36           3.4   caminar              201.5     54.4   \n",
       "2      3         22.08           2.4    trotar              258.7     76.0   \n",
       "3      4         14.02           6.9    trotar              242.9     66.8   \n",
       "4      5         20.73           4.7    correr              296.7     61.9   \n",
       "..   ...           ...           ...       ...                ...      ...   \n",
       "680  681         17.35           4.9    correr              306.2     68.0   \n",
       "681  682         10.36           6.3    trotar              259.6     64.4   \n",
       "682  683          1.52           7.2    trotar              278.2     64.9   \n",
       "683  684          2.58           6.9   caminar              245.0     61.1   \n",
       "684  685         19.28           8.0    correr              297.0     60.3   \n",
       "\n",
       "     edad_anios  \n",
       "0            32  \n",
       "1            28  \n",
       "2            27  \n",
       "3            27  \n",
       "4            29  \n",
       "..          ...  \n",
       "680          29  \n",
       "681          31  \n",
       "682          25  \n",
       "683          32  \n",
       "684          33  \n",
       "\n",
       "[685 rows x 7 columns]"
      ]
     },
     "execution_count": 3,
     "metadata": {},
     "output_type": "execute_result"
    }
   ],
   "source": [
    "ejercicio = pd.read_csv(\"data_ejercicio.csv\")\n",
    "ejercicio"
   ]
  },
  {
   "cell_type": "code",
   "execution_count": 4,
   "metadata": {},
   "outputs": [
    {
     "name": "stdout",
     "output_type": "stream",
     "text": [
      "<class 'pandas.core.frame.DataFrame'>\n",
      "RangeIndex: 685 entries, 0 to 684\n",
      "Data columns (total 7 columns):\n",
      " #   Column             Non-Null Count  Dtype  \n",
      "---  ------             --------------  -----  \n",
      " 0   id                 685 non-null    int64  \n",
      " 1   duracion_min       685 non-null    float64\n",
      " 2   distancia_km       685 non-null    float64\n",
      " 3   actividad          685 non-null    object \n",
      " 4   calorias_quemadas  685 non-null    float64\n",
      " 5   peso_kg            685 non-null    float64\n",
      " 6   edad_anios         685 non-null    int64  \n",
      "dtypes: float64(4), int64(2), object(1)\n",
      "memory usage: 37.6+ KB\n"
     ]
    }
   ],
   "source": [
    "ejercicio.info()"
   ]
  },
  {
   "cell_type": "code",
   "execution_count": 29,
   "metadata": {},
   "outputs": [
    {
     "data": {
      "text/plain": [
       "Text(0, 0.5, 'Km')"
      ]
     },
     "execution_count": 29,
     "metadata": {},
     "output_type": "execute_result"
    },
    {
     "data": {
      "image/png": "[encoded data removed]",
      "text/plain": [
       "<Figure size 640x480 with 1 Axes>"
      ]
     },
     "metadata": {},
     "output_type": "display_data"
    }
   ],
   "source": [
    "media_peso = ejercicio[\"peso_kg\"].mean()\n",
    "mediana_peso = ejercicio[\"peso_kg\"].median()\n",
    "plt.plot(ejercicio[\"edad_anios\"].sort_values(),ejercicio[\"distancia_km\"].sort_values())\n",
    "plt.xlabel(\"Edad\")\n",
    "plt.ylabel(\"Km\")"
   ]
  },
  {
   "cell_type": "code",
   "execution_count": null,
   "metadata": {},
   "outputs": [],
   "source": []
  }
 ],
 "metadata": {
  "kernelspec": {
   "display_name": "Python 3",
   "language": "python",
   "name": "python3"
  },
  "language_info": {
   "codemirror_mode": {
    "name": "ipython",
    "version": 3
   },
   "file_extension": ".py",
   "mimetype": "text/x-python",
   "name": "python",
   "nbconvert_exporter": "python",
   "pygments_lexer": "ipython3",
   "version": "3.11.8"
  }
 },
 "nbformat": 4,
 "nbformat_minor": 2
}
